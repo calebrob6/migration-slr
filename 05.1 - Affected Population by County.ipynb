{
 "cells": [
  {
   "cell_type": "code",
   "execution_count": 1,
   "metadata": {},
   "outputs": [],
   "source": [
    "%matplotlib inline\n",
    "%load_ext autoreload\n",
    "%autoreload 2\n",
    "import sys,os,time,math,csv\n",
    "import itertools\n",
    "import collections\n",
    "\n",
    "import numpy as np\n",
    "import pandas as pd\n",
    "import networkx as nx\n",
    "\n",
    "import matplotlib\n",
    "import matplotlib.pyplot as plt\n",
    "plt.style.use(\"ggplot\")\n",
    "\n",
    "# geo\n",
    "import fiona\n",
    "import shapely.geometry\n",
    "from rtree import index\n",
    "\n",
    "#simple-maps\n",
    "sys.path.append(os.path.join(os.getcwd(),\"simple-maps\"))\n",
    "from simplemaps.SimpleFigures import simpleMap, differenceMap\n",
    "\n",
    "#migration-lib\n",
    "sys.path.append(os.path.join(os.getcwd(),\"migration-lib\"))\n",
    "import MigrationDataUSA\n",
    "import MigrationModels\n",
    "import EvaluationMethods"
   ]
  },
  {
   "cell_type": "markdown",
   "metadata": {},
   "source": [
    "## Load counties for which we have migration data"
   ]
  },
  {
   "cell_type": "code",
   "execution_count": 2,
   "metadata": {},
   "outputs": [],
   "source": [
    "migration_counties = []\n",
    "f = open(\"data/migration/largestCountyIntersection_2004_2014.txt\")\n",
    "for line in f.read().strip().split(\"\\n\"):\n",
    "    migration_counties.append(line)\n",
    "f.close()"
   ]
  },
  {
   "cell_type": "markdown",
   "metadata": {},
   "source": [
    "## Load flooding per block group"
   ]
  },
  {
   "cell_type": "code",
   "execution_count": 3,
   "metadata": {},
   "outputs": [],
   "source": [
    "def load_bg_flood_data(slr_amount):\n",
    "    f = open(\"data/slr_%dft_bg_intersection.csv\" % (slr_amount), \"r\")\n",
    "    header_line = f.readline().strip().split(\",\")\n",
    "    data = {}\n",
    "    for line in f:\n",
    "        line = line.strip()\n",
    "        if line != \"\":\n",
    "            parts = line.split(\",\")\n",
    "            geoid = parts[0]\n",
    "            total_area = int(parts[1])\n",
    "            flooded_area = int(parts[2])\n",
    "            percent_flooded = float(parts[3])\n",
    "            data[geoid] = percent_flooded\n",
    "    f.close()\n",
    "    \n",
    "    return data"
   ]
  },
  {
   "cell_type": "code",
   "execution_count": 4,
   "metadata": {},
   "outputs": [],
   "source": [
    "flood_data = [\n",
    "    load_bg_flood_data(i) for i in range(7)\n",
    "]"
   ]
  },
  {
   "cell_type": "code",
   "execution_count": 5,
   "metadata": {},
   "outputs": [
    {
     "data": {
      "text/plain": [
       "7"
      ]
     },
     "execution_count": 5,
     "metadata": {},
     "output_type": "execute_result"
    }
   ],
   "source": [
    "len(flood_data)"
   ]
  },
  {
   "cell_type": "markdown",
   "metadata": {},
   "source": [
    "## Load population per block group"
   ]
  },
  {
   "cell_type": "code",
   "execution_count": 6,
   "metadata": {},
   "outputs": [],
   "source": [
    "def load_bg_population_data(year):\n",
    "    f = open(\"data/regression_estimated_population.csv\", \"r\")\n",
    "    header_line = f.readline().strip().split(\",\")\n",
    "    data = {}\n",
    "    \n",
    "    year_index = None\n",
    "    for i in range(2, len(header_line)):\n",
    "        if int(header_line[i]) == year:\n",
    "            year_index = i\n",
    "            break\n",
    "    if year_index is None:\n",
    "        raise ValueError(\"year must be between 2010 and 2100\")\n",
    "    \n",
    "    for line in f:\n",
    "        line = line.strip()\n",
    "        if line != \"\":\n",
    "            parts = line.split(\",\")\n",
    "            geoid = parts[1]\n",
    "            population = float(parts[year_index])\n",
    "            data[geoid] = population\n",
    "    f.close()\n",
    "\n",
    "    return data"
   ]
  },
  {
   "cell_type": "code",
   "execution_count": 7,
   "metadata": {},
   "outputs": [],
   "source": [
    "population_data = load_bg_population_data(2050)"
   ]
  },
  {
   "cell_type": "code",
   "execution_count": 8,
   "metadata": {},
   "outputs": [
    {
     "data": {
      "text/plain": [
       "216330"
      ]
     },
     "execution_count": 8,
     "metadata": {},
     "output_type": "execute_result"
    }
   ],
   "source": [
    "len(population_data)"
   ]
  },
  {
   "cell_type": "markdown",
   "metadata": {},
   "source": [
    "## Load block group --> county mapping"
   ]
  },
  {
   "cell_type": "code",
   "execution_count": 9,
   "metadata": {},
   "outputs": [],
   "source": [
    "f = open(\"data/regression_estimated_population.csv\", \"r\")\n",
    "header_line = f.readline().strip().split(\",\")\n",
    "bg_to_county = {}\n",
    "for line in f:\n",
    "    line = line.strip()\n",
    "    if line != \"\":\n",
    "        parts = line.split(\",\")\n",
    "        county_id = parts[0]\n",
    "        bg_id = parts[1]\n",
    "        bg_to_county[bg_id] = county_id\n",
    "f.close()\n",
    "\n",
    "block_groups = sorted(bg_to_county.keys())\n",
    "counties = sorted(list(set(bg_to_county.values())))\n",
    "\n",
    "\n",
    "counties_to_index = {county: i for i, county in enumerate(migration_counties)}\n",
    "\n",
    "bg_to_county_index = {}\n",
    "for k,v in bg_to_county.items():\n",
    "    if v in counties_to_index:\n",
    "        bg_to_county_index[k] = counties_to_index[v]\n",
    "    else:\n",
    "        bg_to_county_index[k] = None"
   ]
  },
  {
   "cell_type": "markdown",
   "metadata": {},
   "source": [
    "## Hauer Results Implementation"
   ]
  },
  {
   "cell_type": "code",
   "execution_count": 10,
   "metadata": {},
   "outputs": [],
   "source": [
    "medium_years = [2055, 2080, 2100]\n",
    "high_years = [2042, 2059, 2071, 2082, 2091, 2100]"
   ]
  },
  {
   "cell_type": "code",
   "execution_count": 11,
   "metadata": {},
   "outputs": [
    {
     "name": "stdout",
     "output_type": "stream",
     "text": [
      "0\n",
      "1\n",
      "2\n"
     ]
    }
   ],
   "source": [
    "# medium\n",
    "medium_results_county = []\n",
    "previously_affected_population = {bg_id: 0.0 for bg_id in block_groups}\n",
    "for i in range(len(medium_years)):\n",
    "    print(i)\n",
    "    population_data = load_bg_population_data(medium_years[i])\n",
    "    \n",
    "    affected_population_county = np.zeros((len(migration_counties)))\n",
    "    population_county = np.zeros((len(migration_counties)))\n",
    "    \n",
    "    affected_population = {}\n",
    "    for bg_id in block_groups:\n",
    "        affected_area = 0.0\n",
    "        if flood_data[i][bg_id] != 1.0:\n",
    "            affected_area = (float(flood_data[i+1][bg_id]) - float(flood_data[i][bg_id]) ) / (1.0 - flood_data[i][bg_id])\n",
    "        affected_population[bg_id] = previously_affected_population[bg_id] + ((population_data[bg_id] - previously_affected_population[bg_id]) * affected_area)\n",
    "    \n",
    "    for bg_id in block_groups:\n",
    "        county_index = bg_to_county_index[bg_id]\n",
    "        if county_index is not None:\n",
    "            affected_population_county[county_index] += affected_population[bg_id]\n",
    "            population_county[county_index] += population_data[bg_id]\n",
    "    \n",
    "    medium_results_county.append((population_county,affected_population_county))\n",
    "    previously_affected_population = affected_population"
   ]
  },
  {
   "cell_type": "code",
   "execution_count": 12,
   "metadata": {},
   "outputs": [
    {
     "name": "stdout",
     "output_type": "stream",
     "text": [
      "0\n",
      "1\n",
      "2\n",
      "3\n",
      "4\n",
      "5\n"
     ]
    }
   ],
   "source": [
    "# high\n",
    "high_results_county = []\n",
    "previously_affected_population = {bg_id: 0.0 for bg_id in block_groups}\n",
    "for i in range(len(high_years)):\n",
    "    print(i)\n",
    "    population_data = load_bg_population_data(high_years[i])\n",
    "    \n",
    "    affected_population_county = np.zeros((len(migration_counties)))\n",
    "    population_county = np.zeros((len(migration_counties)))\n",
    "    \n",
    "    affected_population = {}\n",
    "    for bg_id in block_groups:\n",
    "        affected_area = 0.0\n",
    "        if flood_data[i][bg_id] != 1.0:\n",
    "            affected_area = (float(flood_data[i+1][bg_id]) - float(flood_data[i][bg_id]) ) / (1.0 - flood_data[i][bg_id])\n",
    "        affected_population[bg_id] = previously_affected_population[bg_id] + ((population_data[bg_id] - previously_affected_population[bg_id]) * affected_area)\n",
    "    \n",
    "    for bg_id in block_groups:\n",
    "        county_index = bg_to_county_index[bg_id]\n",
    "        if county_index is not None:\n",
    "            affected_population_county[county_index] += affected_population[bg_id]\n",
    "            population_county[county_index] += population_data[bg_id]\n",
    "    \n",
    "    high_results_county.append((population_county,affected_population_county))\n",
    "    previously_affected_population = affected_population"
   ]
  },
  {
   "cell_type": "code",
   "execution_count": 13,
   "metadata": {},
   "outputs": [],
   "source": [
    "sum_medium_results = []\n",
    "sum_high_results = []\n",
    "\n",
    "for i in range(len(medium_years)):\n",
    "    sum_medium_results.append(medium_results_county[i][1].sum())\n",
    "    \n",
    "for i in range(len(high_years)):\n",
    "    sum_high_results.append(high_results_county[i][1].sum())"
   ]
  },
  {
   "cell_type": "code",
   "execution_count": 14,
   "metadata": {},
   "outputs": [
    {
     "data": {
      "image/png": "[encoded data removed]",
      "text/plain": [
       "<Figure size 576x432 with 1 Axes>"
      ]
     },
     "metadata": {},
     "output_type": "display_data"
    }
   ],
   "source": [
    "plt.figure(figsize=(8,6))\n",
    "\n",
    "plt.plot([2010] + medium_years, [0] + sum_medium_results, label=\"Medium SLR scenario\", marker=\"o\")\n",
    "plt.plot([2010] + high_years, [0] + sum_high_results, label=\"High SLR scenario\", marker=\"o\")\n",
    "\n",
    "plt.legend(loc=\"best\")\n",
    "\n",
    "plt.xlim([2010,2100])\n",
    "plt.ylim([0, 1.3e7])\n",
    "\n",
    "plt.xlabel(\"Year\", fontsize=16)\n",
    "plt.ylabel(\"Affected Population\", fontsize=16)\n",
    "\n",
    "plt.show()\n",
    "plt.close()"
   ]
  },
  {
   "cell_type": "code",
   "execution_count": 15,
   "metadata": {},
   "outputs": [],
   "source": [
    "f = open(\"data/affected_population_medium.csv\",\"w\")\n",
    "f.write(\"County FIPS,\")\n",
    "for i,year in enumerate(medium_years):\n",
    "    f.write(\"Total Population %d,Affected Population %d,\" % (year, year))\n",
    "f.write(\"\\n\")\n",
    "for county_idx in range(len(migration_counties)):\n",
    "    f.write(\"%s,\" % (migration_counties[county_idx]))\n",
    "    for i,year in enumerate(medium_years):\n",
    "        f.write(\"%f,\" % (medium_results_county[i][0][county_idx]))\n",
    "        f.write(\"%f,\" % (medium_results_county[i][1][county_idx]))\n",
    "    f.write(\"\\n\")\n",
    "f.close()"
   ]
  },
  {
   "cell_type": "code",
   "execution_count": 16,
   "metadata": {},
   "outputs": [],
   "source": [
    "f = open(\"data/affected_population_high.csv\",\"w\")\n",
    "f.write(\"County FIPS,\")\n",
    "for i,year in enumerate(high_years):\n",
    "    f.write(\"Total Population %d,Affected Population %d,\" % (year, year))\n",
    "f.write(\"\\n\")\n",
    "for county_idx in range(len(migration_counties)):\n",
    "    f.write(\"%s,\" % (migration_counties[county_idx]))\n",
    "    for i,year in enumerate(high_years):\n",
    "        f.write(\"%f,\" % (high_results_county[i][0][county_idx]))\n",
    "        f.write(\"%f,\" % (high_results_county[i][1][county_idx]))\n",
    "    f.write(\"\\n\")\n",
    "f.close()"
   ]
  },
  {
   "cell_type": "code",
   "execution_count": null,
   "metadata": {},
   "outputs": [],
   "source": []
  }
 ],
 "metadata": {
  "kernelspec": {
   "display_name": "Python 3",
   "language": "python",
   "name": "python3"
  },
  "language_info": {
   "codemirror_mode": {
    "name": "ipython",
    "version": 3
   },
   "file_extension": ".py",
   "mimetype": "text/x-python",
   "name": "python",
   "nbconvert_exporter": "python",
   "pygments_lexer": "ipython3",
   "version": "3.5.2"
  }
 },
 "nbformat": 4,
 "nbformat_minor": 2
}
