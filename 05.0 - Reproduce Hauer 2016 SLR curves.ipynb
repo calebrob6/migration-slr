{
 "cells": [
  {
   "cell_type": "code",
   "execution_count": 1,
   "metadata": {},
   "outputs": [],
   "source": [
    "%matplotlib inline\n",
    "import sys, os, time, math, csv\n",
    "import itertools\n",
    "import collections\n",
    "\n",
    "import numpy as np\n",
    "import pandas as pd\n",
    "\n",
    "import matplotlib\n",
    "import matplotlib.pyplot as plt"
   ]
  },
  {
   "cell_type": "markdown",
   "metadata": {},
   "source": [
    "SLR model is given as:\n",
    "\n",
    "$$E(t) = at + bt^2$$\n",
    "\n",
    "where $E(t)$ is meters of SLR, $t$ is number of years after 2010, $a$ is global linear trend SLR constant ($0.0033$ m/yr), and $b$ is the SLR acceleration coefficient (in m/yr$^2$).\n",
    "\n",
    "\n",
    "The \"high\" scenario is represented with $b_{\\text{high}} = 1.86 \\times 10^{-4}$. The \"medium\" scenario is represented with $b_{\\text{medium}} = 7.44 \\times 10^{-5}$."
   ]
  },
  {
   "cell_type": "markdown",
   "metadata": {},
   "source": [
    "$$E_{\\text{high}}(t) = 0.0033t + (1.86 * 10^{-4})t^2$$\n",
    "$$E_{\\text{medium}}(t) = 0.0033t + (7.44 * 10^{-5})t^2$$"
   ]
  },
  {
   "cell_type": "code",
   "execution_count": 2,
   "metadata": {},
   "outputs": [],
   "source": [
    "b_high  = 1.86 * 10.0**-4\n",
    "b_medium  = 7.44 * 10.0**-5\n",
    "a = 0.0033\n",
    "\n",
    "def E(t, a, b):\n",
    "    return a*t + b*t**2.0"
   ]
  },
  {
   "cell_type": "code",
   "execution_count": 3,
   "metadata": {},
   "outputs": [],
   "source": [
    "xs = np.arange(0,91)\n",
    "ys_high = E(xs, a, b_high)\n",
    "ys_medium = E(xs, a, b_medium)\n",
    "\n",
    "points = [0.0, 0.3, 0.6, 0.9, 1.2, 1.5, 1.8, 2.1]\n",
    "\n",
    "ys_high_points = []\n",
    "ys_medium_points = []\n",
    "\n",
    "# We solve E(t) = x for t to find when SLR will have increased by x meters.\n",
    "# Here, t will be the positive root of the quadratic.\n",
    "for point in points:\n",
    "    ys_high_points.append(np.max(np.roots([b_high, a, -point])))\n",
    "    ys_medium_points.append(np.max(np.roots([b_medium, a, -point])))\n",
    "    \n",
    "ys_high_points = np.array(ys_high_points)\n",
    "ys_medium_points = np.array(ys_medium_points)"
   ]
  },
  {
   "cell_type": "code",
   "execution_count": 4,
   "metadata": {},
   "outputs": [
    {
     "data": {
      "text/plain": [
       "array([  0.        ,  45.08398112,  70.32314312,  90.02156514,\n",
       "       106.74453451, 121.53454345, 134.9384179 , 147.28539185])"
      ]
     },
     "execution_count": 4,
     "metadata": {},
     "output_type": "execute_result"
    }
   ],
   "source": [
    "ys_medium_points"
   ]
  },
  {
   "cell_type": "code",
   "execution_count": 5,
   "metadata": {},
   "outputs": [
    {
     "data": {
      "text/plain": [
       "array([ 0.        , 32.25806452, 48.61381738, 61.25323454, 71.93934702,\n",
       "       81.36876961, 89.90207222, 97.75462323])"
      ]
     },
     "execution_count": 5,
     "metadata": {},
     "output_type": "execute_result"
    }
   ],
   "source": [
    "ys_high_points"
   ]
  },
  {
   "cell_type": "code",
   "execution_count": 6,
   "metadata": {},
   "outputs": [
    {
     "data": {
      "text/plain": [
       "[0.0, 0.3, 0.6, 0.9, 1.2, 1.5, 1.8, 2.1]"
      ]
     },
     "execution_count": 6,
     "metadata": {},
     "output_type": "execute_result"
    }
   ],
   "source": [
    "points"
   ]
  },
  {
   "cell_type": "code",
   "execution_count": 7,
   "metadata": {},
   "outputs": [
    {
     "data": {
      "image/png": "[encoded data removed]",
      "text/plain": [
       "<Figure size 432x288 with 1 Axes>"
      ]
     },
     "metadata": {},
     "output_type": "display_data"
    }
   ],
   "source": [
    "fig, ax = plt.subplots(1,1,figsize=(6,4))\n",
    "\n",
    "# Draw smooth lines\n",
    "plt.plot(2010 + xs, ys_medium, color=\"#1f77b4\")\n",
    "plt.plot(2010 + xs, ys_high, color=\"#ff7f0e\")\n",
    "\n",
    "# Draw points\n",
    "plt.scatter(2010 + ys_medium_points, points, 70, marker=\"^\", color=\"#1f77b4\")\n",
    "plt.scatter(2010 + ys_high_points, points, 70, marker=\"o\", color=\"#ff7f0e\")\n",
    "\n",
    "# Hack to make the legend make sense\n",
    "med_line = matplotlib.lines.Line2D([], [], color='#1f77b4', marker='^', linestyle='-', markersize=8, label='Medium SLR scenario')\n",
    "high_line = matplotlib.lines.Line2D([], [], color='#ff7f0e', marker='o', linestyle='-', markersize=8, label='High SLR scenario')\n",
    "\n",
    "plt.legend(loc=\"best\", fontsize=16, handles=[high_line, med_line])\n",
    "\n",
    "plt.xlim([2010,2100])\n",
    "plt.ylim([0,2])\n",
    "\n",
    "plt.xlabel(\"Year\", fontsize=16)\n",
    "plt.ylabel(\"SLR (meters)\", fontsize=16)\n",
    "\n",
    "plt.show()\n",
    "plt.close()"
   ]
  },
  {
   "cell_type": "code",
   "execution_count": 8,
   "metadata": {},
   "outputs": [],
   "source": [
    "df = pd.DataFrame(collections.OrderedDict([\n",
    "    (\"SLR Amount (meters)\", points),\n",
    "    (\"Medium Scenario\", np.round(2010 + ys_medium_points).astype(int)),\n",
    "    (\"High Scenario\", np.round(2010 + ys_high_points).astype(int)),\n",
    "]))\n",
    "#df.set_index(\"SLR Amount\", inplace=True)"
   ]
  },
  {
   "cell_type": "code",
   "execution_count": 9,
   "metadata": {
    "scrolled": true
   },
   "outputs": [
    {
     "data": {
      "text/html": [
       "<div>\n",
       "<style scoped>\n",
       "    .dataframe tbody tr th:only-of-type {\n",
       "        vertical-align: middle;\n",
       "    }\n",
       "\n",
       "    .dataframe tbody tr th {\n",
       "        vertical-align: top;\n",
       "    }\n",
       "\n",
       "    .dataframe thead th {\n",
       "        text-align: right;\n",
       "    }\n",
       "</style>\n",
       "<table border=\"1\" class=\"dataframe\">\n",
       "  <thead>\n",
       "    <tr style=\"text-align: right;\">\n",
       "      <th></th>\n",
       "      <th>SLR Amount (meters)</th>\n",
       "      <th>Medium Scenario</th>\n",
       "      <th>High Scenario</th>\n",
       "    </tr>\n",
       "  </thead>\n",
       "  <tbody>\n",
       "    <tr>\n",
       "      <th>0</th>\n",
       "      <td>0.0</td>\n",
       "      <td>2010</td>\n",
       "      <td>2010</td>\n",
       "    </tr>\n",
       "    <tr>\n",
       "      <th>1</th>\n",
       "      <td>0.3</td>\n",
       "      <td>2055</td>\n",
       "      <td>2042</td>\n",
       "    </tr>\n",
       "    <tr>\n",
       "      <th>2</th>\n",
       "      <td>0.6</td>\n",
       "      <td>2080</td>\n",
       "      <td>2059</td>\n",
       "    </tr>\n",
       "    <tr>\n",
       "      <th>3</th>\n",
       "      <td>0.9</td>\n",
       "      <td>2100</td>\n",
       "      <td>2071</td>\n",
       "    </tr>\n",
       "    <tr>\n",
       "      <th>4</th>\n",
       "      <td>1.2</td>\n",
       "      <td>2117</td>\n",
       "      <td>2082</td>\n",
       "    </tr>\n",
       "    <tr>\n",
       "      <th>5</th>\n",
       "      <td>1.5</td>\n",
       "      <td>2132</td>\n",
       "      <td>2091</td>\n",
       "    </tr>\n",
       "    <tr>\n",
       "      <th>6</th>\n",
       "      <td>1.8</td>\n",
       "      <td>2145</td>\n",
       "      <td>2100</td>\n",
       "    </tr>\n",
       "    <tr>\n",
       "      <th>7</th>\n",
       "      <td>2.1</td>\n",
       "      <td>2157</td>\n",
       "      <td>2108</td>\n",
       "    </tr>\n",
       "  </tbody>\n",
       "</table>\n",
       "</div>"
      ],
      "text/plain": [
       "   SLR Amount (meters)  Medium Scenario  High Scenario\n",
       "0                  0.0             2010           2010\n",
       "1                  0.3             2055           2042\n",
       "2                  0.6             2080           2059\n",
       "3                  0.9             2100           2071\n",
       "4                  1.2             2117           2082\n",
       "5                  1.5             2132           2091\n",
       "6                  1.8             2145           2100\n",
       "7                  2.1             2157           2108"
      ]
     },
     "execution_count": 9,
     "metadata": {},
     "output_type": "execute_result"
    }
   ],
   "source": [
    "df"
   ]
  },
  {
   "cell_type": "code",
   "execution_count": 10,
   "metadata": {},
   "outputs": [
    {
     "data": {
      "text/plain": [
       "array([2010, 2042, 2059, 2071, 2082, 2091, 2100, 2108])"
      ]
     },
     "execution_count": 10,
     "metadata": {},
     "output_type": "execute_result"
    }
   ],
   "source": [
    "np.round(2010 + ys_high_points).astype(int)"
   ]
  }
 ],
 "metadata": {
  "kernelspec": {
   "display_name": "Python 3",
   "language": "python",
   "name": "python3"
  },
  "language_info": {
   "codemirror_mode": {
    "name": "ipython",
    "version": 3
   },
   "file_extension": ".py",
   "mimetype": "text/x-python",
   "name": "python",
   "nbconvert_exporter": "python",
   "pygments_lexer": "ipython3",
   "version": "3.5.2"
  }
 },
 "nbformat": 4,
 "nbformat_minor": 2
}
