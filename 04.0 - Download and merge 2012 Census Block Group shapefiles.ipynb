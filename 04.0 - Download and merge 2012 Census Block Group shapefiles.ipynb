{
 "cells": [
  {
   "cell_type": "code",
   "execution_count": 2,
   "metadata": {},
   "outputs": [],
   "source": [
    "%matplotlib inline\n",
    "import sys, os, time, math, csv\n",
    "import itertools\n",
    "import collections\n",
    "\n",
    "import numpy as np\n",
    "\n",
    "import matplotlib\n",
    "import matplotlib.pyplot as plt\n",
    "\n",
    "import subprocess"
   ]
  },
  {
   "cell_type": "code",
   "execution_count": 3,
   "metadata": {},
   "outputs": [],
   "source": [
    "state_ids = []\n",
    "with open(\"data/state_fips.csv\", \"r\") as f:\n",
    "    for line in f:\n",
    "        line = line.strip()\n",
    "        if line != \"\":\n",
    "            parts = line.split(\",\")\n",
    "\n",
    "            fips_code = \"%02d\" % (int(parts[2]))\n",
    "            state_ids.append(fips_code)"
   ]
  },
  {
   "cell_type": "code",
   "execution_count": 4,
   "metadata": {},
   "outputs": [],
   "source": [
    "## Download the block group shapefile for each state from the Census website\n",
    "for state_id in state_ids:\n",
    "    subprocess.call([\n",
    "        \"wget\",\n",
    "        \"--directory-prefix=data/raw/boundary_shapefiles/block_groups_2012/zips\",\n",
    "        \"https://www2.census.gov/geo/tiger/TIGER2012/BG/tl_2012_%s_bg.zip\" % (state_id)\n",
    "    ])"
   ]
  },
  {
   "cell_type": "code",
   "execution_count": 5,
   "metadata": {},
   "outputs": [],
   "source": [
    "for state_id in state_ids:\n",
    "    assert os.path.exists(\"data/raw/boundary_shapefiles/block_groups_2012/zips/tl_2012_%s_bg.zip\" % (state_id))"
   ]
  },
  {
   "cell_type": "code",
   "execution_count": 6,
   "metadata": {},
   "outputs": [],
   "source": [
    "## Unzip all state shapefiles\n",
    "for state_id in state_ids:\n",
    "    subprocess.call([\n",
    "        \"unzip\",\n",
    "        os.path.join(\"data/raw/boundary_shapefiles/block_groups_2012/zips/\", \"tl_2012_%s_bg.zip\" % (state_id)),\n",
    "        \"-d\", \"data/raw/boundary_shapefiles/block_groups_2012/single_2012/\"\n",
    "    ])"
   ]
  },
  {
   "cell_type": "code",
   "execution_count": 7,
   "metadata": {},
   "outputs": [],
   "source": [
    "## Merge all shapefiles into single shapefile\n",
    "for state_id in state_ids:\n",
    "    subprocess.call([\n",
    "        \"ogr2ogr\",\n",
    "        \"-f\", \"ESRI Shapefile\",\n",
    "        \"-update\",\n",
    "        \"-append\",\n",
    "        \"data/processed/boundary_shapefiles/\",\n",
    "        os.path.join(\"data/raw/boundary_shapefiles/block_groups_2012/single_2012/\", \"tl_2012_%s_bg.shp\" % (state_id)),\n",
    "        \"-nln\", \"tl_2012_all_bg\"\n",
    "    ])"
   ]
  }
 ],
 "metadata": {
  "kernelspec": {
   "display_name": "Python 2",
   "language": "python",
   "name": "python2"
  },
  "language_info": {
   "codemirror_mode": {
    "name": "ipython",
    "version": 3
   },
   "file_extension": ".py",
   "mimetype": "text/x-python",
   "name": "python",
   "nbconvert_exporter": "python",
   "pygments_lexer": "ipython3",
   "version": "3.5.2"
  }
 },
 "nbformat": 4,
 "nbformat_minor": 2
}
