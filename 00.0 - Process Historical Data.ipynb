{
 "cells": [
  {
   "cell_type": "code",
   "execution_count": 2,
   "metadata": {},
   "outputs": [],
   "source": [
    "%matplotlib inline\n",
    "import sys, os, time, math\n",
    "import itertools\n",
    "import collections\n",
    "\n",
    "import numpy as np\n",
    "import pandas as pd\n",
    "\n",
    "import matplotlib\n",
    "import matplotlib.pyplot as plt"
   ]
  },
  {
   "cell_type": "markdown",
   "metadata": {},
   "source": [
    "# Read Data"
   ]
  },
  {
   "cell_type": "code",
   "execution_count": 3,
   "metadata": {},
   "outputs": [
    {
     "name": "stdout",
     "output_type": "stream",
     "text": [
      "49\n"
     ]
    }
   ],
   "source": [
    "states = [\"Alabama\",\"Arizona\",\"Arkansas\",\"California\",\"Colorado\",\"Connecticut\",\"Delaware\",\"District of Columbia\",\"Florida\",\"Georgia\",\"Idaho\",\"Illinois\",\"Indiana\",\"Iowa\",\"Kansas\",\"Kentucky\",\"Louisiana\",\"Maine\",\"Maryland\",\"Massachusetts\",\"Michigan\",\"Minnesota\",\"Mississippi\",\"Missouri\",\"Montana\",\"Nebraska\",\"Nevada\",\"New Hampshire\",\"New Jersey\",\"New Mexico\",\"New York\",\"North Carolina\",\"North Dakota\",\"Ohio\",\"Oklahoma\",\"Oregon\",\"Pennsylvania\",\"Rhode Island\",\"South Carolina\",\"South Dakota\",\"Tennessee\",\"Texas\",\"Utah\",\"Vermont\",\"Virginia\",\"Washington\",\"West Virginia\",\"Wisconsin\",\"Wyoming\"]\n",
    "print(len(states))"
   ]
  },
  {
   "cell_type": "code",
   "execution_count": 4,
   "metadata": {},
   "outputs": [],
   "source": [
    "f = open(\"data/intermediate/Population and Housing Units: 1940 to 1990.txt\", \"r\")\n",
    "lines = [\"\"] + [line.strip() for line in f.read().strip().split(\"\\n\")]\n",
    "f.close()"
   ]
  },
  {
   "cell_type": "code",
   "execution_count": 8,
   "metadata": {},
   "outputs": [
    {
     "name": "stdout",
     "output_type": "stream",
     "text": [
      "243\n"
     ]
    }
   ],
   "source": [
    "def extract_county_name(line):\n",
    "    county_name = \"\"\n",
    "    i = 0\n",
    "    while line[i] != \"-\":\n",
    "        county_name += line[i]\n",
    "        i += 1\n",
    "    return county_name.strip()\n",
    "\n",
    "def extract_fields(line):\n",
    "    \n",
    "    # Forward through the county name\n",
    "    i = 0\n",
    "    while line[i] != \"-\":\n",
    "        i += 1\n",
    "    while line[i] == \"-\":\n",
    "        i += 1\n",
    "    line = line[i:].strip()\n",
    "    \n",
    "    # \n",
    "    parts = line.split(\" \")\n",
    "    fields = []\n",
    "    \n",
    "    current_num = \"\"\n",
    "    i = 0\n",
    "    while i<len(parts):\n",
    "        \n",
    "        if parts[i][0] == \"r\":\n",
    "            parts[i] = parts[i][1:]\n",
    "            \n",
    "            if current_num != \"\":\n",
    "                fields.append(int(current_num))\n",
    "            current_num = parts[i]\n",
    "            \n",
    "        elif len(parts[i]) < 3: # The current part is definitely the start of a number\n",
    "            \n",
    "            if current_num != \"\": # we will not have to save the previous number at the start of a line\n",
    "                fields.append(int(current_num))\n",
    "            current_num = parts[i]\n",
    "                           \n",
    "        elif len(parts[i]) == 3: # Our current part has length 3The current part may be the start of a number\n",
    "            \n",
    "            if parts[i][0] == \"0\": # definitely not start of a number\n",
    "                current_num += parts[i]\n",
    "            elif len(current_num) == 6: # if we already have 2 full blocks lets skip\n",
    "                fields.append(int(current_num))\n",
    "                current_num = parts[i]\n",
    "            else:\n",
    "                current_num += parts[i]\n",
    "        else:\n",
    "            print(\"Something is wrong: %s\" % (parts))\n",
    "        \n",
    "        i += 1\n",
    "        \n",
    "    if current_num != \"\": # Add the last number\n",
    "        fields.append(int(current_num))\n",
    "    \n",
    "    return fields\n",
    "\n",
    "\n",
    "f = open(\"data/intermediate/Population and Housing Units: 1940 to 1990__intermediate.csv\", \"w\")\n",
    "\n",
    "i = 0\n",
    "problems = 0\n",
    "current_state = \"\"\n",
    "state_pointer = -1\n",
    "while i < len(lines):\n",
    "    line = lines[i]\n",
    "    if line == \"\":\n",
    "        i += 1\n",
    "        state_pointer += 1\n",
    "        current_state = lines[i]\n",
    "        assert current_state == states[state_pointer]\n",
    "        \n",
    "        f.write(\"%s\\n\" % (current_state))\n",
    "    else:\n",
    "        county_name = extract_county_name(line)\n",
    "        data_fields = extract_fields(line)\n",
    "        \n",
    "        assert data_fields[0] != \"\"\n",
    "        \n",
    "        f.write(\"%s,\" % (county_name))\n",
    "        if len(data_fields) == 12:\n",
    "            f.write(\",\")\n",
    "        else:\n",
    "            f.write(\"PROBLEM,\")\n",
    "        f.write(\",\".join(map(str,data_fields)))\n",
    "        f.write(\"\\n\")\n",
    "        \n",
    "        if len(data_fields) != 12:\n",
    "            problems += 1\n",
    "        \n",
    "    i += 1\n",
    "\n",
    "print(problems)\n",
    "f.close()"
   ]
  },
  {
   "cell_type": "code",
   "execution_count": 9,
   "metadata": {},
   "outputs": [],
   "source": [
    "def extract_fields_toy(line):   \n",
    "    # Forward through the county name\n",
    "    i = 0\n",
    "    while line[i] != \"-\":\n",
    "        i += 1\n",
    "    while line[i] == \"-\":\n",
    "        i += 1\n",
    "    line = line[i:].strip()\n",
    "    \n",
    "    # \n",
    "    return line.split(\" \")\n",
    "\n",
    "line_sizes = []  \n",
    "i = 0\n",
    "current_state = \"\"\n",
    "state_pointer = -1\n",
    "while i < len(lines):\n",
    "    line = lines[i]\n",
    "    if line == \"\":\n",
    "        i += 1\n",
    "        state_pointer += 1\n",
    "        current_state = lines[i]\n",
    "        assert current_state == states[state_pointer]\n",
    "    else:\n",
    "        data_fields = extract_fields_toy(line)\n",
    "        line_sizes.append(len(data_fields))\n",
    "    i += 1\n",
    "    \n",
    "line_sizes = np.array(line_sizes)"
   ]
  },
  {
   "cell_type": "code",
   "execution_count": 10,
   "metadata": {},
   "outputs": [
    {
     "data": {
      "image/png": "[encoded data removed]",
      "text/plain": [
       "<Figure size 432x288 with 1 Axes>"
      ]
     },
     "metadata": {},
     "output_type": "display_data"
    }
   ],
   "source": [
    "plt.figure()\n",
    "\n",
    "uniques, counts = np.unique(line_sizes, return_counts=True)\n",
    "\n",
    "plt.hist(line_sizes, bins=23)\n",
    "\n",
    "plt.show()\n",
    "plt.close()"
   ]
  },
  {
   "cell_type": "code",
   "execution_count": null,
   "metadata": {},
   "outputs": [],
   "source": []
  }
 ],
 "metadata": {
  "kernelspec": {
   "display_name": "Python 3",
   "language": "python",
   "name": "python3"
  },
  "language_info": {
   "codemirror_mode": {
    "name": "ipython",
    "version": 3
   },
   "file_extension": ".py",
   "mimetype": "text/x-python",
   "name": "python",
   "nbconvert_exporter": "python",
   "pygments_lexer": "ipython3",
   "version": "3.5.2"
  }
 },
 "nbformat": 4,
 "nbformat_minor": 2
}
