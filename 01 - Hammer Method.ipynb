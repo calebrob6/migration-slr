{
 "cells": [
  {
   "cell_type": "code",
   "execution_count": 1,
   "metadata": {},
   "outputs": [],
   "source": [
    "%matplotlib inline\n",
    "import sys, os, time, math, csv\n",
    "import itertools\n",
    "import collections\n",
    "\n",
    "import numpy as np\n",
    "\n",
    "import matplotlib\n",
    "import matplotlib.pyplot as plt"
   ]
  },
  {
   "cell_type": "markdown",
   "metadata": {},
   "source": [
    "### Load State FIPS code map\n",
    "\n",
    "This is a list of the states that we care about."
   ]
  },
  {
   "cell_type": "code",
   "execution_count": 2,
   "metadata": {},
   "outputs": [],
   "source": [
    "state_fips_to_name = {}\n",
    "state_name_to_fips = {}\n",
    "with open(\"data/state_fips.csv\", \"r\") as f:\n",
    "    for line in f:\n",
    "        line = line.strip()\n",
    "        if line != \"\":\n",
    "            parts = line.split(\",\")\n",
    "            state_fips_to_name[\"%02d\" % (int(parts[2]))] = parts[0]\n",
    "            state_name_to_fips[parts[0]] = \"%02d\" % (int(parts[2]))"
   ]
  },
  {
   "cell_type": "markdown",
   "metadata": {},
   "source": [
    "### Load county level census historical data"
   ]
  },
  {
   "cell_type": "code",
   "execution_count": 3,
   "metadata": {},
   "outputs": [],
   "source": [
    "historical_population = collections.OrderedDict()\n",
    "with open(\"data/processed/historical_population.csv\", \"r\") as f:\n",
    "    reader = csv.DictReader(f, delimiter=\",\")\n",
    "    for row in reader:\n",
    "        \n",
    "        fips_code = row[\"Geo_FIPS\"]\n",
    "        values = np.array([\n",
    "            float(row[\"pop_1940\"]),\n",
    "            float(row[\"pop_1950\"]),\n",
    "            float(row[\"pop_1960\"]),\n",
    "            float(row[\"pop_1970\"]),\n",
    "            float(row[\"pop_1980\"]),\n",
    "            float(row[\"pop_1990\"]),\n",
    "            float(row[\"pop_2000\"]),\n",
    "            float(row[\"pop_2010\"])\n",
    "        ])\n",
    "        historical_population[fips_code] = values"
   ]
  },
  {
   "cell_type": "code",
   "execution_count": 4,
   "metadata": {},
   "outputs": [],
   "source": [
    "historical_housing_units = collections.OrderedDict()\n",
    "with open(\"data/processed/historical_housing_units.csv\", \"r\") as f:\n",
    "    reader = csv.DictReader(f, delimiter=\",\")\n",
    "    for row in reader:\n",
    "        \n",
    "        fips_code = row[\"Geo_FIPS\"]\n",
    "        values = np.array([\n",
    "            float(row[\"hu_1940\"]),\n",
    "            float(row[\"hu_1950\"]),\n",
    "            float(row[\"hu_1960\"]),\n",
    "            float(row[\"hu_1970\"]),\n",
    "            float(row[\"hu_1980\"]),\n",
    "            float(row[\"hu_1990\"]),\n",
    "            float(row[\"hu_2000\"]),\n",
    "            float(row[\"hu_2010\"])\n",
    "        ])\n",
    "        historical_housing_units[fips_code] = values"
   ]
  },
  {
   "cell_type": "markdown",
   "metadata": {},
   "source": [
    "### Load block group level estimated historical data\n",
    "\n",
    "Note: Broomfield County, Colorado was created in 2001. This is the only county that is in the 2010 census, that is not also in the historical data. https://en.wikipedia.org/wiki/Broomfield,_Colorado\n",
    "\n",
    "Note: Clifton Forge city, Virginia existed up until 2001, when it reverted back into a town. This is the only county that is in the historical data that is not in the 2010 data. https://en.wikipedia.org/wiki/Clifton_Forge,_Virginia\n"
   ]
  },
  {
   "cell_type": "code",
   "execution_count": 5,
   "metadata": {},
   "outputs": [],
   "source": [
    "data_fields = [\n",
    "    \"ACS12_5yr_B25034010\", # Housing Units: Built 1939 or Earlier\n",
    "    \"ACS12_5yr_B25034009\", # Housing Units: Built 1940 to 1949\n",
    "    \"ACS12_5yr_B25034008\", # Housing Units: Built 1950 to 1959\n",
    "    \"ACS12_5yr_B25034007\", # Housing Units: Built 1960 to 1969\n",
    "    \"ACS12_5yr_B25034006\", # Housing Units: Built 1970 to 1979\n",
    "    \"ACS12_5yr_B25034005\", # Housing Units: Built 1980 to 1989\n",
    "    \"ACS12_5yr_B25034004\", # Housing Units: Built 1990 to 1999\n",
    "    \"ACS12_5yr_B25034003\"  # Housing Units: Built 2000 to 2009\n",
    "]"
   ]
  },
  {
   "cell_type": "code",
   "execution_count": 6,
   "metadata": {},
   "outputs": [],
   "source": [
    "acs_housing_unit_estimates_bg = collections.OrderedDict()\n",
    "acs_housing_unit_estimates_county = collections.OrderedDict()\n",
    "\n",
    "with open(\"data/raw/R11628343_SL150.txt\", \"r\", encoding=\"latin-1\") as f:\n",
    "    reader = csv.DictReader(f, delimiter=\"\\t\")\n",
    "\n",
    "    for row in reader:\n",
    "        state_code = row[\"Geo_STATE\"]\n",
    "        county_code = row[\"Geo_COUNTY\"]\n",
    "        county_fips = state_code + county_code\n",
    "        fips_code = row[\"Geo_FIPS\"]\n",
    "\n",
    "        if state_code in state_fips_to_name:\n",
    "            \n",
    "            if county_fips not in acs_housing_unit_estimates_bg:\n",
    "                acs_housing_unit_estimates_bg[county_fips] = collections.OrderedDict()\n",
    "                acs_housing_unit_estimates_county[county_fips] = np.zeros(len(data_fields))\n",
    "            \n",
    "            values = np.array([\n",
    "                int(row[field_name]) for field_name in data_fields\n",
    "            ])\n",
    "            \n",
    "            acs_housing_unit_estimates_bg[county_fips][fips_code] = values\n",
    "            acs_housing_unit_estimates_county[county_fips] += values\n",
    "            \n",
    "            ''' Find which counties exist in the ACS 5YR data, but not the historical data \n",
    "            '''\n",
    "            if not county_fips in historical_population:\n",
    "                print(row[\"Geo_QName\"], county_code, fips_code)"
   ]
  },
  {
   "cell_type": "code",
   "execution_count": 7,
   "metadata": {},
   "outputs": [],
   "source": [
    "acs_housing_unit_estimates_bg[\"51560\"] = {}\n",
    "acs_housing_unit_estimates_county[\"51560\"] = np.zeros(len(data_fields))\n",
    "\n",
    "#historical_housing_units[\"08014\"] = np.zeros(len(data_fields))\n",
    "#historical_population[\"08014\"] = np.zeros(len(data_fields))"
   ]
  },
  {
   "cell_type": "markdown",
   "metadata": {},
   "source": [
    "### Plot estimated vs. predicted number of housing units without proportional fitting\n",
    "\n",
    "Here each point is the number of ACS estimated number of housing units per county vs the historical count of number of housing units per county for some time period, t. I've inlcluded all time periods in the plot."
   ]
  },
  {
   "cell_type": "code",
   "execution_count": 8,
   "metadata": {},
   "outputs": [
    {
     "data": {
      "image/png": "[encoded data removed]",
      "text/plain": [
       "<Figure size 864x720 with 1 Axes>"
      ]
     },
     "metadata": {},
     "output_type": "display_data"
    }
   ],
   "source": [
    "county_list = historical_housing_units.keys()\n",
    "\n",
    "xs = np.array([np.cumsum(acs_housing_unit_estimates_county[k]).flatten() for k in county_list]).flatten()\n",
    "ys = np.array([historical_housing_units[k].flatten() for k in county_list]).flatten()\n",
    "\n",
    "plt.figure(figsize=(12,10))\n",
    "\n",
    "limits = [1e2, 1e7]\n",
    "\n",
    "plt.plot(limits, limits)\n",
    "plt.scatter(xs, ys)\n",
    "\n",
    "plt.xlim(limits)\n",
    "plt.ylim(limits)\n",
    "\n",
    "plt.xscale(\"log\")\n",
    "plt.yscale(\"log\")\n",
    "\n",
    "plt.xlabel(\"ACS Housing Unit Estimates\")\n",
    "plt.ylabel(\"Historical Housing Unit Counts\")\n",
    "\n",
    "plt.show()\n",
    "plt.close()"
   ]
  },
  {
   "cell_type": "markdown",
   "metadata": {},
   "source": [
    "### Hammer method fitting for number of housing units per block group"
   ]
  },
  {
   "cell_type": "code",
   "execution_count": 9,
   "metadata": {},
   "outputs": [],
   "source": [
    "hammer_housing_unit_estimates_bg = collections.OrderedDict()\n",
    "\n",
    "for county_fips, block_group_dict in acs_housing_unit_estimates_bg.items():\n",
    "    \n",
    "    hammer_housing_unit_estimates_bg[county_fips] = collections.OrderedDict()\n",
    "    \n",
    "    for block_group_fips in block_group_dict.keys():\n",
    "    \n",
    "        hammer_housing_unit_estimates_bg[county_fips][block_group_fips] = np.zeros(len(data_fields))\n",
    "    \n",
    "        cumulative_county = 0.0\n",
    "        cumulative_block_group = 0.0\n",
    "        \n",
    "        for t in range(len(data_fields)):\n",
    "            cumulative_county += acs_housing_unit_estimates_county[county_fips][t]\n",
    "            cumulative_block_group += acs_housing_unit_estimates_bg[county_fips][block_group_fips][t]\n",
    "        \n",
    "            hammer_housing_unit_estimates_bg[county_fips][block_group_fips][t] = \\\n",
    "                (historical_housing_units[county_fips][t] / cumulative_county) * cumulative_block_group"
   ]
  },
  {
   "cell_type": "code",
   "execution_count": 10,
   "metadata": {},
   "outputs": [],
   "source": [
    "hammer_housing_unit_estimates_county = collections.OrderedDict()\n",
    "\n",
    "for county_fips, block_group_dict in acs_housing_unit_estimates_bg.items():\n",
    "    hammer_housing_unit_estimates_county[county_fips] = np.zeros(len(data_fields))\n",
    "    \n",
    "    for block_group_fips in block_group_dict.keys():\n",
    "        hammer_housing_unit_estimates_county[county_fips] += \\\n",
    "            hammer_housing_unit_estimates_bg[county_fips][block_group_fips]"
   ]
  },
  {
   "cell_type": "markdown",
   "metadata": {},
   "source": [
    "### Plot estimated vs. predicted number of housing units with proportional fitting\n",
    "\n",
    "We repeat the same plot as above and show that the \"fitted\" number of housing units per county matches the number reported by the census over all time steps.\n",
    "\n",
    "The only place that does not match up now is the \"51560\" county that was added."
   ]
  },
  {
   "cell_type": "code",
   "execution_count": 11,
   "metadata": {},
   "outputs": [
    {
     "data": {
      "image/png": "[encoded data removed]",
      "text/plain": [
       "<Figure size 432x288 with 1 Axes>"
      ]
     },
     "metadata": {},
     "output_type": "display_data"
    },
    {
     "name": "stdout",
     "output_type": "stream",
     "text": [
      "Mismatch 23360 0.0 1732.0\n",
      "Mismatch 23361 0.0 1738.0\n",
      "Mismatch 23362 0.0 1807.0\n",
      "Mismatch 23363 0.0 2011.0\n",
      "Mismatch 23364 0.0 2064.0\n",
      "Mismatch 23365 0.0 2131.0\n",
      "Mismatch 23366 0.0 2069.0\n"
     ]
    }
   ],
   "source": [
    "county_list = historical_housing_units.keys()\n",
    "\n",
    "xs = np.array([hammer_housing_unit_estimates_county[k].flatten() for k in county_list]).flatten()\n",
    "ys = np.array([historical_housing_units[k].flatten() for k in county_list]).flatten()\n",
    "\n",
    "plt.figure()\n",
    "\n",
    "limits = [1e2, 1e7]\n",
    "\n",
    "plt.plot(limits, limits)\n",
    "plt.scatter(xs, ys)\n",
    "\n",
    "plt.xlim(limits)\n",
    "plt.ylim(limits)\n",
    "\n",
    "plt.xscale(\"log\")\n",
    "plt.yscale(\"log\")\n",
    "\n",
    "plt.xlabel(\"ACS Housing Unit Estimates\")\n",
    "plt.ylabel(\"Historical Housing Unit Counts\")\n",
    "\n",
    "plt.show()\n",
    "plt.close()\n",
    "\n",
    "\n",
    "for i in range(xs.shape[0]):\n",
    "    if np.abs(xs[i]-ys[i]) > 1e-6:\n",
    "        print(\"Mismatch\", i, xs[i], ys[i])"
   ]
  },
  {
   "cell_type": "markdown",
   "metadata": {},
   "source": [
    "We expect mismatches for:\n",
    "```\n",
    "Mismatch 23360 0.0 1732.0\n",
    "Mismatch 23361 0.0 1738.0\n",
    "Mismatch 23362 0.0 1807.0\n",
    "Mismatch 23363 0.0 2011.0\n",
    "Mismatch 23364 0.0 2064.0\n",
    "Mismatch 23365 0.0 2131.0\n",
    "Mismatch 23366 0.0 2069.0\n",
    "```"
   ]
  },
  {
   "cell_type": "markdown",
   "metadata": {},
   "source": [
    "### Save block group \"Hammer\" estimated number of housing units to file"
   ]
  },
  {
   "cell_type": "code",
   "execution_count": 12,
   "metadata": {},
   "outputs": [],
   "source": [
    "f = open(\"data/processed/hammer_historical_housing_units.csv\", \"w\")\n",
    "f.write(\"Geo_COUNTY_FIPS,Geo_BG_FIPS,hu_1940,hu_1950,hu_1960,hu_1970,hu_1980,hu_1990,hu_2000,hu_2010\\n\")\n",
    "for county_fips, block_group_dict in acs_housing_unit_estimates_bg.items():\n",
    "    for block_group_fips in block_group_dict.keys():\n",
    "        f.write(\"%s,%s,%s\\n\" % (\n",
    "            county_fips,\n",
    "            block_group_fips,\n",
    "            \",\".join(map(str, hammer_housing_unit_estimates_bg[county_fips][block_group_fips]))\n",
    "        ))\n",
    "f.close()"
   ]
  },
  {
   "cell_type": "code",
   "execution_count": null,
   "metadata": {},
   "outputs": [],
   "source": []
  }
 ],
 "metadata": {
  "kernelspec": {
   "display_name": "Python 3",
   "language": "python",
   "name": "python3"
  },
  "language_info": {
   "codemirror_mode": {
    "name": "ipython",
    "version": 3
   },
   "file_extension": ".py",
   "mimetype": "text/x-python",
   "name": "python",
   "nbconvert_exporter": "python",
   "pygments_lexer": "ipython3",
   "version": "3.5.2"
  }
 },
 "nbformat": 4,
 "nbformat_minor": 2
}
