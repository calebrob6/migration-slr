{
 "cells": [
  {
   "cell_type": "code",
   "execution_count": 1,
   "metadata": {},
   "outputs": [],
   "source": [
    "%matplotlib inline\n",
    "%load_ext autoreload\n",
    "%autoreload 2\n",
    "import sys\n",
    "import os\n",
    "import time\n",
    "\n",
    "import matplotlib\n",
    "import matplotlib.pyplot as plt\n",
    "#plt.style.use(\"ggplot\")\n",
    "\n",
    "import numpy as np\n",
    "import pandas as pd\n",
    "\n",
    "sys.path.append(os.path.join(os.getcwd(),\"migration-lib\"))\n",
    "import MigrationDataUSA\n",
    "import MigrationModels\n",
    "import EvaluationMethods\n",
    "\n",
    "sys.path.append(os.path.join(os.getcwd(),\"simple-maps\"))\n",
    "from simplemaps.SimpleFigures import simpleMap, differenceMap"
   ]
  },
  {
   "cell_type": "markdown",
   "metadata": {},
   "source": [
    "# Initial setup"
   ]
  },
  {
   "cell_type": "code",
   "execution_count": 2,
   "metadata": {},
   "outputs": [],
   "source": [
    "# Location of US County shapefile used for creating the maps\n",
    "shapefileFn = \"simple-maps/examples/cb_2015_us_county_500k_clipped/cb_2015_us_county_500k_clipped.shp\"\n",
    "shapefileKey = \"GEOID\""
   ]
  },
  {
   "cell_type": "markdown",
   "metadata": {},
   "source": [
    "# Load data"
   ]
  },
  {
   "cell_type": "markdown",
   "metadata": {},
   "source": [
    "### Migration data"
   ]
  },
  {
   "cell_type": "code",
   "execution_count": 3,
   "metadata": {},
   "outputs": [],
   "source": [
    "countyList = []\n",
    "f = open(\"data/migration/largestCountyIntersection_2004_2014.txt\")\n",
    "for line in f.read().strip().split(\"\\n\"):\n",
    "    countyList.append(line)\n",
    "f.close()\n",
    "county_to_idx = {county:idx for idx, county in enumerate(countyList)}\n",
    "numberOfCounties = len(countyList)"
   ]
  },
  {
   "cell_type": "code",
   "execution_count": 4,
   "metadata": {},
   "outputs": [
    {
     "name": "stdout",
     "output_type": "stream",
     "text": [
      "SUMLEV,REGION,DIVISION,STATE,COUNTY,STNAME,CTYNAME,ESTIMATESBASE2000,POPESTIMATE2000,POPESTIMATE2001,POPESTIMATE2002,POPESTIMATE2003,POPESTIMATE2004,POPESTIMATE2005,POPESTIMATE2006,POPESTIMATE2007,POPESTIMATE2008,POPESTIMATE2009,CENSUS2010POP,POPESTIMATE2010\n"
     ]
    }
   ],
   "source": [
    "county_to_name = {}\n",
    "county_to_state = {}\n",
    "f = open(\"data/co-est00int-tot.csv\",\"r\")\n",
    "print(f.readline().strip())\n",
    "for line in f:\n",
    "    parts = line.strip().split(\",\")\n",
    "    sumlev, region, division, state, county, stname, ctyname = parts[:7]\n",
    "    county_fips = \"%02d%03d\" % (int(state), int(county))\n",
    "    county_to_name[county_fips] = ctyname\n",
    "    county_to_state[county_fips] = stname\n",
    "f.close()"
   ]
  },
  {
   "cell_type": "markdown",
   "metadata": {},
   "source": [
    "### Per county features"
   ]
  },
  {
   "cell_type": "code",
   "execution_count": 5,
   "metadata": {},
   "outputs": [],
   "source": [
    "df_medium = pd.read_csv(\"data/affected_population_medium.csv\")\n",
    "df_high = pd.read_csv(\"data/affected_population_high.csv\")"
   ]
  },
  {
   "cell_type": "code",
   "execution_count": 6,
   "metadata": {},
   "outputs": [],
   "source": [
    "medium_years = [2055, 2080, 2100]\n",
    "high_years = [2042, 2059, 2071, 2082, 2091, 2100]\n",
    "\n",
    "medium_total_pop = [\n",
    "    df_medium[\"Total Population %d\" % (year)].values.reshape(-1,1)\n",
    "    for year in medium_years\n",
    "]\n",
    "medium_affected_pop = [\n",
    "    df_medium[\"Affected Population %d\" % (year)].values.reshape(-1,1)\n",
    "    for year in medium_years\n",
    "]\n",
    "medium_unaffected_pop = [\n",
    "    medium_total_pop[i] - medium_affected_pop[i]\n",
    "    for i in range(len(medium_years))\n",
    "]\n",
    "\n",
    "high_total_pop = [\n",
    "    df_high[\"Total Population %d\" % (year)].values.reshape(-1,1)\n",
    "    for year in high_years\n",
    "]\n",
    "high_affected_pop = [\n",
    "    df_high[\"Affected Population %d\" % (year)].values.reshape(-1,1)\n",
    "    for year in high_years\n",
    "]\n",
    "high_unaffected_pop = [\n",
    "    high_total_pop[i] - high_affected_pop[i]\n",
    "    for i in range(len(high_years))\n",
    "]"
   ]
  },
  {
   "cell_type": "code",
   "execution_count": 7,
   "metadata": {},
   "outputs": [],
   "source": [
    "medium_affected_counties = [\n",
    "    (affected_population > 0).reshape(-1)\n",
    "    for affected_population in medium_affected_pop\n",
    "]\n",
    "\n",
    "high_affected_counties = [\n",
    "    (affected_population > 0).reshape(-1)\n",
    "    for affected_population in high_affected_pop\n",
    "]"
   ]
  },
  {
   "cell_type": "markdown",
   "metadata": {},
   "source": [
    "# DL Results"
   ]
  },
  {
   "cell_type": "code",
   "execution_count": 12,
   "metadata": {},
   "outputs": [],
   "source": [
    "medium_baseline_migration = [np.load(\"output/dl_medium_baseline_results_%d.npy\" % (year)) for year in medium_years]\n",
    "medium_affected_migration = [np.load(\"output/dl_medium_affected_results_%d.npy\" % (year)) for year in medium_years]\n",
    "medium_ablation_migration = [np.load(\"output/dl_medium_ablation_results_%d.npy\" % (year)) for year in medium_years]\n",
    "medium_affected_migration_flooded = [np.load(\"output/dl_medium_affected_results_flooded_%d.npy\" % (year)) for year in medium_years]\n",
    "medium_affected_migration_unflooded = [np.load(\"output/dl_medium_affected_results_unflooded_%d.npy\" % (year)) for year in medium_years]\n",
    "\n",
    "\n",
    "high_baseline_migration = [np.load(\"output/dl_high_baseline_results_%d.npy\" % (year)) for year in high_years]\n",
    "high_affected_migration = [np.load(\"output/dl_high_affected_results_%d.npy\" % (year)) for year in high_years]\n",
    "high_ablation_migration = [np.load(\"output/dl_high_ablation_results_%d.npy\" % (year)) for year in high_years]\n",
    "high_affected_migration_flooded = [np.load(\"output/dl_high_affected_results_flooded_%d.npy\" % (year)) for year in high_years]\n",
    "high_affected_migration_unflooded = [np.load(\"output/dl_high_affected_results_unflooded_%d.npy\" % (year)) for year in high_years]\n",
    "\n",
    "model = \"dl\""
   ]
  },
  {
   "cell_type": "markdown",
   "metadata": {},
   "source": [
    "# ExtRad Results"
   ]
  },
  {
   "cell_type": "code",
   "execution_count": 17,
   "metadata": {},
   "outputs": [],
   "source": [
    "medium_baseline_migration = [np.load(\"output/extrad_medium_baseline_results_%d.npy\" % (year)) for year in medium_years]\n",
    "medium_affected_migration = [np.load(\"output/extrad_medium_affected_results_%d.npy\" % (year)) for year in medium_years]\n",
    "medium_ablation_migration = [np.load(\"output/extrad_medium_ablation_results_%d.npy\" % (year)) for year in medium_years]\n",
    "\n",
    "high_baseline_migration = [np.load(\"output/extrad_high_baseline_results_%d.npy\" % (year)) for year in high_years]\n",
    "high_affected_migration = [np.load(\"output/extrad_high_affected_results_%d.npy\" % (year)) for year in high_years]\n",
    "high_ablation_migration = [np.load(\"output/extrad_high_ablation_results_%d.npy\" % (year)) for year in high_years]\n",
    "\n",
    "model = \"extrad\""
   ]
  },
  {
   "cell_type": "markdown",
   "metadata": {},
   "source": [
    "# Medium"
   ]
  },
  {
   "cell_type": "code",
   "execution_count": 11,
   "metadata": {},
   "outputs": [
    {
     "name": "stdout",
     "output_type": "stream",
     "text": [
      "(2055, 1.0)\n",
      "(2080, 1.0)\n",
      "(2100, 1.0)\n"
     ]
    }
   ],
   "source": [
    "for i,year in enumerate(medium_years):\n",
    "\n",
    "    t_affected_incoming =  medium_affected_migration[i].sum(axis=0)\n",
    "    t_baseline_incoming =  medium_baseline_migration[i].sum(axis=0)\n",
    "    \n",
    "    count = 0\n",
    "    for j, county in enumerate(countyList):\n",
    "        if t_affected_incoming[j] - t_baseline_incoming[j] > 0:\n",
    "            count += 1\n",
    "            \n",
    "    print(year, count / float(len(countyList)))"
   ]
  },
  {
   "cell_type": "code",
   "execution_count": 13,
   "metadata": {
    "scrolled": true
   },
   "outputs": [
    {
     "name": "stderr",
     "output_type": "stream",
     "text": [
      "/usr/local/lib/python2.7/dist-packages/mpl_toolkits/basemap/__init__.py:1698: MatplotlibDeprecationWarning: The axesPatch function was deprecated in version 2.1. Use Axes.patch instead.\n",
      "  limb = ax.axesPatch\n"
     ]
    }
   ],
   "source": [
    "for i,year in enumerate(medium_years):\n",
    "\n",
    "    t_affected_incoming =  medium_affected_migration[i].sum(axis=0)\n",
    "    t_baseline_incoming =  medium_baseline_migration[i].sum(axis=0)\n",
    "    \n",
    "    map_data = {\n",
    "        county: t_affected_incoming[j] - t_baseline_incoming[j]\n",
    "        for j, county in enumerate(countyList)\n",
    "        if not medium_affected_counties[i][j]\n",
    "    }\n",
    "    map_data[\"46102\"] = 0        \n",
    "\n",
    "    simpleMap(\n",
    "        shapefileFn,\n",
    "        shapefileKey,\n",
    "        map_data,\n",
    "        outputFn=\"figures/%s_difference_both_medium_%d.png\" % (model, year),\n",
    "        noDataColor=\"#0000FFFF\",\n",
    "        cmap=\"Reds\",\n",
    "        bounds=[22, 49, -119, -64],\n",
    "        title=\"Direct and Indirect Effects, Medium %d\" % (year),\n",
    "        colorbarRange=(1e2, 1e6),\n",
    "        logScale=True,\n",
    "    )"
   ]
  },
  {
   "cell_type": "markdown",
   "metadata": {},
   "source": [
    "### Affected"
   ]
  },
  {
   "cell_type": "code",
   "execution_count": 14,
   "metadata": {
    "scrolled": false
   },
   "outputs": [],
   "source": [
    "for i,year in enumerate(medium_years):\n",
    "\n",
    "    t_affected_incoming =  medium_affected_migration[i][medium_affected_counties[i],:].sum(axis=0)\n",
    "    t_baseline_incoming =  medium_baseline_migration[i][medium_affected_counties[i],:].sum(axis=0)\n",
    "    \n",
    "    map_data = {\n",
    "        county: t_affected_incoming[j] - t_baseline_incoming[j]\n",
    "        for j, county in enumerate(countyList)\n",
    "    }\n",
    "    map_data[\"46102\"] = 0\n",
    "\n",
    "    differenceMap(\n",
    "        shapefileFn,\n",
    "        shapefileKey,\n",
    "        map_data,\n",
    "        outputFn=\"figures/%s_difference_affected_medium_%d.png\" % (model, year),\n",
    "        #noDataColor=\"#0000FFFF\",\n",
    "        #cmap=\"Reds\",\n",
    "        bounds=[22, 49, -119, -64],\n",
    "        title=\"Difference in Incoming Migrants from Affected Areas, Medium %d\" % (year),\n",
    "        colorbarRange=(1e1, 1e5),\n",
    "        logScale=True,\n",
    "    )"
   ]
  },
  {
   "cell_type": "markdown",
   "metadata": {},
   "source": [
    "### Unnaffected"
   ]
  },
  {
   "cell_type": "code",
   "execution_count": 15,
   "metadata": {},
   "outputs": [],
   "source": [
    "for i,year in enumerate(medium_years):\n",
    "\n",
    "    t_affected_incoming =  medium_affected_migration[i][~medium_affected_counties[i],:].sum(axis=0)\n",
    "    t_baseline_incoming =  medium_baseline_migration[i][~medium_affected_counties[i],:].sum(axis=0)\n",
    "    \n",
    "    map_data = {\n",
    "        county: t_affected_incoming[j] - t_baseline_incoming[j]\n",
    "        for j, county in enumerate(countyList)\n",
    "    }\n",
    "    map_data[\"46102\"] = 0\n",
    "\n",
    "    differenceMap(\n",
    "        shapefileFn,\n",
    "        shapefileKey,\n",
    "        map_data,\n",
    "        outputFn=\"figures/%s_difference_unaffected_medium_%d.png\" % (model, year),\n",
    "        #noDataColor=\"#0000FFFF\",\n",
    "        #cmap=\"Reds\",\n",
    "        bounds=[22, 49, -119, -64],\n",
    "        title=\"Difference in Incoming Migrants from Unaffected Areas, Medium %d\" % (year),\n",
    "        colorbarRange=(1e1, 1e5),\n",
    "        logScale=True,\n",
    "    )"
   ]
  },
  {
   "cell_type": "markdown",
   "metadata": {},
   "source": [
    "### Abalation"
   ]
  },
  {
   "cell_type": "code",
   "execution_count": 18,
   "metadata": {
    "scrolled": false
   },
   "outputs": [],
   "source": [
    "for i,year in enumerate(medium_years):\n",
    "\n",
    "    t_affected_incoming =  medium_affected_migration[i].sum(axis=0)\n",
    "    t_baseline_incoming =  medium_ablation_migration[i].sum(axis=0)\n",
    "    \n",
    "    map_data = {\n",
    "        county: t_affected_incoming[j] - t_baseline_incoming[j]\n",
    "        for j, county in enumerate(countyList)\n",
    "    }\n",
    "    map_data[\"46102\"] = 0\n",
    "\n",
    "    differenceMap(\n",
    "        shapefileFn,\n",
    "        shapefileKey,\n",
    "        map_data,\n",
    "        outputFn=\"figures/%s_difference_ablation_medium_%d.png\" % (model, year),\n",
    "        #noDataColor=\"#0000FFFF\",\n",
    "        #cmap=\"Reds\",\n",
    "        bounds=[22, 49, -119, -64],\n",
    "        title=\"ExtRad Ablation, Medium %d\" % (year),\n",
    "        colorbarRange=(1e1, 1e5),\n",
    "        logScale=True,\n",
    "    )"
   ]
  },
  {
   "cell_type": "markdown",
   "metadata": {},
   "source": [
    "# High"
   ]
  },
  {
   "cell_type": "code",
   "execution_count": 17,
   "metadata": {},
   "outputs": [
    {
     "name": "stdout",
     "output_type": "stream",
     "text": [
      "(2042, 0.8766902768834514)\n",
      "(2059, 0.8396651641983258)\n",
      "(2071, 0.8486799742433999)\n",
      "(2082, 0.8721828718609144)\n",
      "(2091, 0.9256278171281391)\n",
      "(2100, 0.9993560849967804)\n"
     ]
    }
   ],
   "source": [
    "for i,year in enumerate(high_years):\n",
    "\n",
    "    t_affected_incoming =  high_affected_migration[i].sum(axis=0)\n",
    "    t_baseline_incoming =  high_baseline_migration[i].sum(axis=0)\n",
    "    \n",
    "    count = 0\n",
    "    for j, county in enumerate(countyList):\n",
    "        if t_affected_incoming[j] - t_baseline_incoming[j] > 0:\n",
    "            count += 1\n",
    "            \n",
    "    print(year, count / float(len(countyList)))"
   ]
  },
  {
   "cell_type": "code",
   "execution_count": 16,
   "metadata": {},
   "outputs": [],
   "source": [
    "for i,year in enumerate(high_years):\n",
    "\n",
    "    t_affected_incoming =  high_affected_migration[i].sum(axis=0)\n",
    "    t_baseline_incoming =  high_baseline_migration[i].sum(axis=0)\n",
    "    \n",
    "    map_data = {\n",
    "        county: t_affected_incoming[j] - t_baseline_incoming[j]\n",
    "        for j, county in enumerate(countyList)\n",
    "        if not high_affected_counties[i][j]\n",
    "    }\n",
    "    map_data[\"46102\"] = 0\n",
    "\n",
    "    simpleMap(\n",
    "        shapefileFn,\n",
    "        shapefileKey,\n",
    "        map_data,\n",
    "        outputFn=\"figures/%s_difference_both_high_%d.png\" % (model, year),\n",
    "        noDataColor=\"#0000FFFF\",\n",
    "        cmap=\"Reds\",\n",
    "        bounds=[22, 49, -119, -64],\n",
    "        title=\"Direct and Indirect Effects, High %d\" % (year),\n",
    "        colorbarRange=(1e2, 1e6),\n",
    "        logScale=True,\n",
    "    )"
   ]
  },
  {
   "cell_type": "markdown",
   "metadata": {},
   "source": [
    "### Affected"
   ]
  },
  {
   "cell_type": "code",
   "execution_count": 17,
   "metadata": {
    "scrolled": true
   },
   "outputs": [],
   "source": [
    "for i,year in enumerate(high_years):\n",
    "\n",
    "    t_affected_incoming =  high_affected_migration[i][high_affected_counties[i],:].sum(axis=0)\n",
    "    t_baseline_incoming =  high_baseline_migration[i][high_affected_counties[i],:].sum(axis=0)\n",
    "    \n",
    "    map_data = {\n",
    "        county: t_affected_incoming[j] - t_baseline_incoming[j]\n",
    "        for j, county in enumerate(countyList)\n",
    "    }\n",
    "    map_data[\"46102\"] = 0\n",
    "\n",
    "    differenceMap(\n",
    "        shapefileFn,\n",
    "        shapefileKey,\n",
    "        map_data,\n",
    "        outputFn=\"figures/%s_difference_affected_high_%d.png\" % (model, year),\n",
    "        #noDataColor=\"#0000FFFF\",\n",
    "        #cmap=\"Reds\",\n",
    "        bounds=[22, 49, -119, -64],\n",
    "        title=\"Difference in Incoming Migrants from Affected Areas, High %d\" % (year),\n",
    "        colorbarRange=(1e2, 1e6),\n",
    "        logScale=True,\n",
    "    )"
   ]
  },
  {
   "cell_type": "markdown",
   "metadata": {},
   "source": [
    "### Unaffected"
   ]
  },
  {
   "cell_type": "code",
   "execution_count": 23,
   "metadata": {},
   "outputs": [],
   "source": [
    "for i,year in enumerate(high_years):\n",
    "\n",
    "    t_affected_incoming =  high_affected_migration[i][~high_affected_counties[i],:].sum(axis=0)\n",
    "    t_baseline_incoming =  high_baseline_migration[i][~high_affected_counties[i],:].sum(axis=0)\n",
    "    \n",
    "    map_data = {\n",
    "        county: t_affected_incoming[j] - t_baseline_incoming[j]\n",
    "        for j, county in enumerate(countyList)\n",
    "    }\n",
    "    map_data[\"46102\"] = 0\n",
    "\n",
    "    differenceMap(\n",
    "        shapefileFn,\n",
    "        shapefileKey,\n",
    "        map_data,\n",
    "        outputFn=\"figures/%s_difference_unaffected_high_%d.png\" % (model, year),\n",
    "        #noDataColor=\"#0000FFFF\",\n",
    "        #cmap=\"Reds\",\n",
    "        bounds=[22, 49, -119, -64],\n",
    "        title=\"Difference in Incoming Migrants from Unaffected Areas, High %d\" % (year),\n",
    "        colorbarRange=(1e2, 1e6),\n",
    "        logScale=True,\n",
    "    )"
   ]
  },
  {
   "cell_type": "markdown",
   "metadata": {},
   "source": [
    "### Ablation"
   ]
  },
  {
   "cell_type": "code",
   "execution_count": 19,
   "metadata": {},
   "outputs": [],
   "source": [
    "for i,year in enumerate(high_years):\n",
    "\n",
    "    t_affected_incoming =  high_affected_migration[i].sum(axis=0)\n",
    "    t_baseline_incoming =  high_ablation_migration[i].sum(axis=0)\n",
    "    \n",
    "    map_data = {\n",
    "        county: t_affected_incoming[j] - t_baseline_incoming[j]\n",
    "        for j, county in enumerate(countyList)\n",
    "    }\n",
    "    map_data[\"46102\"] = 0\n",
    "\n",
    "    differenceMap(\n",
    "        shapefileFn,\n",
    "        shapefileKey,\n",
    "        map_data,\n",
    "        outputFn=\"figures/%s_difference_ablation_high_%d.png\" % (model, year),\n",
    "        #noDataColor=\"#0000FFFF\",\n",
    "        #cmap=\"Reds\",\n",
    "        bounds=[22, 49, -119, -64],\n",
    "        title=\"ExtRad Ablation, High %d\" % (year),\n",
    "        colorbarRange=(1e2, 1e6),\n",
    "        logScale=True,\n",
    "    )"
   ]
  },
  {
   "cell_type": "markdown",
   "metadata": {},
   "source": [
    "# Indirect Effect Thresholds"
   ]
  },
  {
   "cell_type": "markdown",
   "metadata": {},
   "source": [
    "## High"
   ]
  },
  {
   "cell_type": "code",
   "execution_count": 18,
   "metadata": {},
   "outputs": [
    {
     "data": {
      "image/png": "[encoded data removed]",
      "text/plain": [
       "<matplotlib.figure.Figure at 0x7f9d3501d1d0>"
      ]
     },
     "metadata": {},
     "output_type": "display_data"
    }
   ],
   "source": [
    "thresholds = [0.5, 1.0, 3.0, 6.0, 9.0]\n",
    "ys_direct = []\n",
    "ys_thresholds = [[] for threshold in thresholds]\n",
    "divisor = 1000000.0\n",
    "\n",
    "for i, year in enumerate(high_years):\n",
    "\n",
    "    direct_effect = high_affected_pop[i].sum() / divisor\n",
    "    ys_direct.append(direct_effect)\n",
    "    \n",
    "    t_affected_incoming =  high_affected_migration[i].sum(axis=0)\n",
    "    t_baseline_incoming =  high_baseline_migration[i].sum(axis=0)\n",
    "    t_increase = t_affected_incoming - t_baseline_incoming\n",
    "\n",
    "    for j, threshold in enumerate(thresholds):\n",
    "        \n",
    "        t_pop = high_total_pop[i].copy().reshape(-1)\n",
    "        indirect_mask = t_increase > (t_pop * (threshold/100.0))        \n",
    "        ys_thresholds[j].append(direct_effect + (t_pop[indirect_mask].sum() / divisor))\n",
    "    \n",
    "markers = [\".\", \"<\", \"o\", \">\", \"v\", \"^\", \"D\"]\n",
    "cmap = matplotlib.cm.get_cmap(\"PuRd\")\n",
    "norm = matplotlib.colors.Normalize(vmin=0,vmax=len(thresholds))\n",
    "sm = matplotlib.cm.ScalarMappable(norm=norm, cmap=cmap)\n",
    "    \n",
    "plt.figure()\n",
    "\n",
    "plt.plot(high_years, ys_direct, color=\"b\", marker=markers[0], label=\"Direct Effects\")\n",
    "\n",
    "for j, threshold in enumerate(thresholds):\n",
    "    plt.plot(high_years, ys_thresholds[j], color=sm.to_rgba(j+1), marker=markers[j+1], label=r\"Indirect Effects $d = %0.1f \\%% $\" % (threshold))\n",
    "\n",
    "plt.legend(bbox_to_anchor=(1.04,0.5), loc=\"center left\", borderaxespad=0, fontsize=14)\n",
    "plt.subplots_adjust(right=0.9)\n",
    "\n",
    "plt.xticks(fontsize=13)\n",
    "plt.xlim([2042,2100])\n",
    "plt.xlabel(\"Year\", fontsize=16)\n",
    "\n",
    "plt.yticks(fontsize=13)\n",
    "plt.ylim([0,100])\n",
    "plt.ylabel(\"People Affected (millions)\", fontsize=16)\n",
    "\n",
    "plt.title(\"Direct and Indirect Effects on People\", fontsize=16)\n",
    "plt.savefig(\"figures/%s_direct_indirect_high_plot.png\" % (model), dpi=150, bbox_inches=\"tight\")\n",
    "plt.show()\n",
    "plt.close()"
   ]
  },
  {
   "cell_type": "code",
   "execution_count": 41,
   "metadata": {},
   "outputs": [
    {
     "data": {
      "text/plain": [
       "[[57.985063910655995,\n",
       "  119.24231026009099,\n",
       "  185.253791558354,\n",
       "  243.64019085955204,\n",
       "  317.968655988233,\n",
       "  480.08164263938704],\n",
       " [23.508422086292,\n",
       "  61.471791389808004,\n",
       "  101.89402293286199,\n",
       "  157.331980414229,\n",
       "  247.33992531947698,\n",
       "  357.440362542294],\n",
       " [3.5277222559840005,\n",
       "  9.560812125275,\n",
       "  22.796253709081,\n",
       "  46.740419958283,\n",
       "  73.414257934579,\n",
       "  120.06695729162399],\n",
       " [1.2945913434890002,\n",
       "  3.3302094300280003,\n",
       "  7.464808543506,\n",
       "  13.992093458697,\n",
       "  26.547415248969997,\n",
       "  43.226918504085],\n",
       " [1.0533413937340002,\n",
       "  2.2239153797410003,\n",
       "  4.326651753395001,\n",
       "  7.981509032648001,\n",
       "  13.647178801249998,\n",
       "  25.551774014331002]]"
      ]
     },
     "execution_count": 41,
     "metadata": {},
     "output_type": "execute_result"
    }
   ],
   "source": [
    "ys_thresholds"
   ]
  },
  {
   "cell_type": "code",
   "execution_count": 19,
   "metadata": {},
   "outputs": [
    {
     "name": "stdout",
     "output_type": "stream",
     "text": [
      "(array([0, 1, 2, 3, 4, 6]), array([ 336,   19,    8,    3,    1, 2739]))\n",
      "(array([0, 1, 2, 3, 4, 5, 6]), array([ 340,   78,   14,    2,    3,    1, 2668]))\n",
      "(array([0, 1, 2, 3, 4, 5, 6]), array([ 341,  132,   50,    3,    3,    1, 2576]))\n",
      "(array([0, 1, 2, 3, 4, 5, 6]), array([ 345,  221,   92,    4,    3,    2, 2439]))\n",
      "(array([0, 1, 2, 3, 4, 5, 6]), array([ 346,  307,  208,   13,    5,    2, 2225]))\n",
      "(array([0, 1, 2, 3, 4, 5, 6]), array([ 349,  658,  380,   54,    5,    8, 1652]))\n"
     ]
    }
   ],
   "source": [
    "thresholds = [0.5, 1.0, 3.0, 6.0, 9.0]\n",
    "labels = [\n",
    "    \"Directly Affected\"\n",
    "] + [\">%0.1f%%\" % (threshold) for threshold in thresholds] + [\"Not Affected\"]\n",
    "\n",
    "cmap = matplotlib.colors.ListedColormap(\n",
    "    [\"#0000FFFF\"] + [sm.to_rgba(j+1) for j in range(len(thresholds))] + [\"#FFFFFFFF\"],\n",
    "    N = len(labels)\n",
    ")\n",
    "hackMapping = {\n",
    "    i:i for i in range(len(labels))\n",
    "}\n",
    "\n",
    "for i, year in enumerate(high_years):\n",
    "    \n",
    "    direct_effect = high_affected_pop[i].sum() / divisor\n",
    "    ys_direct.append(direct_effect)\n",
    "    \n",
    "    t_affected_incoming =  high_affected_migration[i].sum(axis=0)\n",
    "    t_baseline_incoming =  high_baseline_migration[i].sum(axis=0)\n",
    "    t_increase = t_affected_incoming - t_baseline_incoming\n",
    "    \n",
    "    t_map = (high_affected_pop[i] > 0).reshape(-1).astype(int)\n",
    "    t_mask = (high_affected_pop[i] > 0).reshape(-1)\n",
    "\n",
    "    for j, threshold in enumerate(thresholds):\n",
    "        \n",
    "        t_pop = high_total_pop[i].copy().reshape(-1)\n",
    "        indirect_mask = t_increase > (t_pop * (threshold/100.0))\n",
    "        t_map[indirect_mask] = j+2\n",
    "    \n",
    "    t_map[t_map==0] = len(thresholds) + 2\n",
    "    t_map -= 1\n",
    "    t_map[t_mask] = 0\n",
    "    print(np.unique(t_map, return_counts=True))\n",
    " \n",
    "    map_data = {\n",
    "        county: t_map[j]\n",
    "        for j, county in enumerate(countyList)\n",
    "    }\n",
    "    map_data[\"46102\"] = 6\n",
    "\n",
    "    \n",
    "    simpleMap(\n",
    "        shapefileFn, shapefileKey,\n",
    "        map_data,\n",
    "        cmap=cmap,\n",
    "        outputFn=\"figures/%s_direct_indirect_high_%d.png\" % (model, year),\n",
    "        colorbarType=1,\n",
    "        colorbarLabels=labels,\n",
    "        dataToColorIdxMap=hackMapping,\n",
    "        bounds=[22, 49, -119, -64],\n",
    "        title=\"Direct and Indirect Effects at different thresholds, High %d\" % (year)\n",
    "    )"
   ]
  },
  {
   "cell_type": "markdown",
   "metadata": {},
   "source": [
    "## Medium"
   ]
  },
  {
   "cell_type": "code",
   "execution_count": 20,
   "metadata": {},
   "outputs": [
    {
     "data": {
      "image/png": "[encoded data removed]",
      "text/plain": [
       "<matplotlib.figure.Figure at 0x7f9d3501da90>"
      ]
     },
     "metadata": {},
     "output_type": "display_data"
    }
   ],
   "source": [
    "thresholds = [0.5, 1.0, 3.0, 6.0, 9.0]\n",
    "ys_direct = []\n",
    "ys_thresholds = [[] for threshold in thresholds]\n",
    "divisor = 1000000.0\n",
    "\n",
    "for i, year in enumerate(medium_years):\n",
    "\n",
    "    direct_effect = medium_affected_pop[i].sum() / divisor\n",
    "    ys_direct.append(direct_effect)\n",
    "    \n",
    "    t_affected_incoming =  medium_affected_migration[i].sum(axis=0)\n",
    "    t_baseline_incoming =  medium_baseline_migration[i].sum(axis=0)\n",
    "    t_increase = t_affected_incoming - t_baseline_incoming\n",
    "\n",
    "    for j, threshold in enumerate(thresholds):\n",
    "        \n",
    "        t_pop = medium_total_pop[i].copy().reshape(-1)\n",
    "        indirect_mask = t_increase > (t_pop * (threshold/100.0))        \n",
    "        ys_thresholds[j].append(direct_effect + (t_pop[indirect_mask].sum() / divisor))\n",
    "    \n",
    "markers = [\".\", \"<\", \"o\", \">\", \"v\", \"^\", \"D\"]\n",
    "cmap = matplotlib.cm.get_cmap(\"PuRd\")\n",
    "norm = matplotlib.colors.Normalize(vmin=0,vmax=len(thresholds))\n",
    "sm = matplotlib.cm.ScalarMappable(norm=norm, cmap=cmap)\n",
    "    \n",
    "plt.figure()\n",
    "\n",
    "plt.plot(medium_years, ys_direct, color=\"b\", marker=markers[0], label=\"Direct Effects\")\n",
    "\n",
    "for j, threshold in enumerate(thresholds):\n",
    "    plt.plot(medium_years, ys_thresholds[j], color=sm.to_rgba(j+1), marker=markers[j+1], label=r\"Indirect Effects $d = %0.1f \\%% $\" % (threshold))\n",
    "\n",
    "plt.legend(bbox_to_anchor=(1.04,0.5), loc=\"center left\", borderaxespad=0, fontsize=14)\n",
    "plt.subplots_adjust(right=0.9)\n",
    "\n",
    "plt.xticks(fontsize=13)\n",
    "plt.xlim([2040,2100])\n",
    "plt.xlabel(\"Year\", fontsize=16)\n",
    "\n",
    "plt.yticks(fontsize=13)\n",
    "plt.ylim([0,100])\n",
    "plt.ylabel(\"People Affected (millions)\", fontsize=16)\n",
    "\n",
    "plt.title(\"Direct and Indirect Effects on People\", fontsize=16)\n",
    "plt.savefig(\"figures/%s_direct_indirect_medium_plot.png\" % (model), dpi=150, bbox_inches=\"tight\")\n",
    "plt.show()\n",
    "plt.close()"
   ]
  },
  {
   "cell_type": "code",
   "execution_count": 21,
   "metadata": {},
   "outputs": [
    {
     "data": {
      "text/plain": [
       "[[58.70677374632599, 101.85777043917399, 157.45619581855698],\n",
       " [28.892934828401, 65.46574208064301, 91.476565400273],\n",
       " [5.3677172314599995, 12.533612128514, 32.277556251058996],\n",
       " [1.8209733742640002, 5.075730630133, 8.495586954431001],\n",
       " [1.295195403393, 2.8393124429360004, 4.896272840141001]]"
      ]
     },
     "execution_count": 21,
     "metadata": {},
     "output_type": "execute_result"
    }
   ],
   "source": [
    "ys_thresholds"
   ]
  },
  {
   "cell_type": "code",
   "execution_count": 22,
   "metadata": {},
   "outputs": [
    {
     "name": "stdout",
     "output_type": "stream",
     "text": [
      "(array([0, 1, 2, 3, 4, 6]), array([ 336,   20,    8,    3,    1, 2738]))\n",
      "(array([0, 1, 2, 3, 4, 5, 6]), array([ 340,   76,   13,    2,    3,    1, 2671]))\n",
      "(array([0, 1, 2, 3, 4, 5, 6]), array([ 341,  125,   44,    3,    3,    1, 2589]))\n"
     ]
    }
   ],
   "source": [
    "thresholds = [0.5, 1.0, 3.0, 6.0, 9.0]\n",
    "labels = [\n",
    "    \"Directly Affected\"\n",
    "] + [\">%0.1f%%\" % (threshold) for threshold in thresholds] + [\"Not Affected\"]\n",
    "\n",
    "cmap = matplotlib.colors.ListedColormap(\n",
    "    [\"#0000FFFF\"] + [sm.to_rgba(j+1) for j in range(len(thresholds))] + [\"#FFFFFFFF\"],\n",
    "    N = len(labels)\n",
    ")\n",
    "hackMapping = {\n",
    "    i:i for i in range(len(labels))\n",
    "}\n",
    "\n",
    "for i, year in enumerate(medium_years):\n",
    "    \n",
    "    direct_effect = medium_affected_pop[i].sum() / divisor\n",
    "    ys_direct.append(direct_effect)\n",
    "    \n",
    "    t_affected_incoming =  medium_affected_migration[i].sum(axis=0)\n",
    "    t_baseline_incoming =  medium_baseline_migration[i].sum(axis=0)\n",
    "    t_increase = t_affected_incoming - t_baseline_incoming\n",
    "    \n",
    "    t_map = (medium_affected_pop[i] > 0).reshape(-1).astype(int)\n",
    "    t_mask = (medium_affected_pop[i] > 0).reshape(-1)\n",
    "\n",
    "    for j, threshold in enumerate(thresholds):\n",
    "        \n",
    "        t_pop = medium_total_pop[i].copy().reshape(-1)\n",
    "        indirect_mask = t_increase > (t_pop * (threshold/100.0))\n",
    "        t_map[indirect_mask] = j+2\n",
    "    \n",
    "    t_map[t_map==0] = len(thresholds) + 2\n",
    "    t_map -= 1\n",
    "    t_map[t_mask] = 0\n",
    "    print(np.unique(t_map, return_counts=True))\n",
    " \n",
    "    map_data = {\n",
    "        county: t_map[j]\n",
    "        for j, county in enumerate(countyList)\n",
    "    }\n",
    "    map_data[\"46102\"] = 6\n",
    "\n",
    "    \n",
    "    simpleMap(\n",
    "        shapefileFn, shapefileKey,\n",
    "        map_data,\n",
    "        cmap=cmap,\n",
    "        outputFn=\"figures/%s_direct_indirect_medium_%d.png\" % (model, year),\n",
    "        colorbarType=1,\n",
    "        colorbarLabels=labels,\n",
    "        dataToColorIdxMap=hackMapping,\n",
    "        bounds=[22, 49, -119, -64],\n",
    "        title=\"Direct and Indirect Effects at different thresholds, Medium %d\" % (year)\n",
    "    )"
   ]
  },
  {
   "cell_type": "code",
   "execution_count": null,
   "metadata": {},
   "outputs": [],
   "source": []
  }
 ],
 "metadata": {
  "kernelspec": {
   "display_name": "Python 2",
   "language": "python",
   "name": "python2"
  },
  "language_info": {
   "codemirror_mode": {
    "name": "ipython",
    "version": 2
   },
   "file_extension": ".py",
   "mimetype": "text/x-python",
   "name": "python",
   "nbconvert_exporter": "python",
   "pygments_lexer": "ipython2",
   "version": "2.7.12"
  }
 },
 "nbformat": 4,
 "nbformat_minor": 1
}
