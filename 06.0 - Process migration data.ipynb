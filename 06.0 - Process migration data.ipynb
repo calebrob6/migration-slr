{
 "cells": [
  {
   "cell_type": "code",
   "execution_count": 1,
   "metadata": {},
   "outputs": [],
   "source": [
    "%matplotlib inline\n",
    "import sys, os, time, math, csv\n",
    "import itertools\n",
    "import collections\n",
    "\n",
    "import numpy as np\n",
    "import pandas as pd\n",
    "\n",
    "import matplotlib\n",
    "import matplotlib.pyplot as plt\n",
    "\n",
    "import fiona\n",
    "import shapely.geometry\n",
    "import scipy.spatial\n",
    "import haversine\n",
    "\n",
    "from MigrationData import IRSMigrationData"
   ]
  },
  {
   "cell_type": "code",
   "execution_count": 2,
   "metadata": {},
   "outputs": [],
   "source": [
    "migration_data = IRSMigrationData(data_dir=\"data/raw/migration/\")\n",
    "years = range(2004,2015)"
   ]
  },
  {
   "cell_type": "markdown",
   "metadata": {},
   "source": [
    "## Calculate largest county intersection from migration data"
   ]
  },
  {
   "cell_type": "code",
   "execution_count": 3,
   "metadata": {},
   "outputs": [],
   "source": [
    "# List of state prefixes for the FIPS codes of the 48 continental US states\n",
    "CONTINENTAL_STATE_FIPS = [\"01\",\"04\",\"05\",\"06\",\"08\",\"09\",\"10\",\"12\",\"13\",\"16\",\"17\",\"18\",\"19\",\"20\",\"21\",\"22\",\"23\",\"24\",\"25\",\"26\",\"27\",\"28\",\"29\",\"30\",\"31\",\"32\",\"33\",\"34\",\"35\",\"36\",\"37\",\"38\",\"39\",\"40\",\"41\",\"42\",\"44\",\"45\",\"46\",\"47\",\"48\",\"49\",\"50\",\"51\",\"53\",\"54\",\"55\",\"56\"]\n",
    "assert len(CONTINENTAL_STATE_FIPS) == 48"
   ]
  },
  {
   "cell_type": "code",
   "execution_count": 4,
   "metadata": {},
   "outputs": [
    {
     "name": "stdout",
     "output_type": "stream",
     "text": [
      "2004 -- 3108 counties\n",
      "2005 -- 3108 counties\n",
      "2006 -- 3108 counties\n",
      "2007 -- 3108 counties\n",
      "2008 -- 3108 counties\n",
      "2009 -- 3108 counties\n",
      "2010 -- 3108 counties\n",
      "2011 -- 3108 counties\n",
      "2012 -- 3108 counties\n",
      "2013 -- 3107 counties\n",
      "2014 -- 3107 counties\n"
     ]
    }
   ],
   "source": [
    "fips_sets = [] # a set for each year of data containing *all* the FIPS codes from that year\n",
    "for i, year in enumerate(years):\n",
    "    in_records, out_records = migration_data.get_raw_data(year)\n",
    "\n",
    "    fips_set = set()\n",
    "    for origin, destination, val in in_records:\n",
    "        fips_set.add(origin)\n",
    "        fips_set.add(destination)\n",
    "    for origin, destination, val in out_records:\n",
    "        fips_set.add(origin)\n",
    "        fips_set.add(destination)\n",
    "    fips_sets.append(fips_set)\n",
    "\n",
    "# a set for each year of data containing the FIPS codes in continental states that are not used for special purposes (county FIPS '000' is reserved')\n",
    "new_fips_sets = []\n",
    "for i, year in enumerate(years):\n",
    "    fips_set = fips_sets[i]\n",
    "    new_fips_set = set()\n",
    "    for fips in fips_set:\n",
    "        state_code = fips[:2]\n",
    "        county_code = fips[2:]\n",
    "        if state_code in CONTINENTAL_STATE_FIPS and county_code != \"000\":\n",
    "            new_fips_set.add(fips)\n",
    "\n",
    "    print(\"%d -- %d counties\" % (year, len(new_fips_set)))\n",
    "    new_fips_sets.append(new_fips_set)"
   ]
  },
  {
   "cell_type": "code",
   "execution_count": 5,
   "metadata": {},
   "outputs": [
    {
     "name": "stdout",
     "output_type": "stream",
     "text": [
      "Total of 3106 locations in continental states that are common to all years of data.\n"
     ]
    }
   ],
   "source": [
    "joined_set = set(new_fips_sets[0])\n",
    "for s in new_fips_sets[1:]:\n",
    "    joined_set.intersection_update(s)\n",
    "print(\"Total of %d locations in continental states that are common to all years of data.\" % (len(joined_set)))\n",
    "\n",
    "# sort FIPS code in numerical order\n",
    "joined_list = {fips:int(fips) for fips in joined_set}\n",
    "sorted_joined_list = sorted(joined_list, key=joined_list.get)"
   ]
  },
  {
   "cell_type": "code",
   "execution_count": 6,
   "metadata": {},
   "outputs": [],
   "source": [
    "output_fn = \"data/processed/county_intersection_list_2004_2014.txt\"\n",
    "f = open(output_fn, \"w\")\n",
    "f.write(\"\\n\".join(sorted_joined_list))\n",
    "f.close()"
   ]
  },
  {
   "cell_type": "markdown",
   "metadata": {},
   "source": [
    "## Calculate distance matrix"
   ]
  },
  {
   "cell_type": "code",
   "execution_count": 7,
   "metadata": {},
   "outputs": [
    {
     "name": "stdout",
     "output_type": "stream",
     "text": [
      "GEOID 11001 not in accepted list\n",
      "GEOID 46102 not in accepted list\n"
     ]
    }
   ],
   "source": [
    "f = fiona.open(\"data/intermediate/boundary_shapefiles/cb_2015_us_county_500k.shp\", \"r\")\n",
    "used_geoids = set()\n",
    "data = []\n",
    "for row in f:\n",
    "    geoid = row[\"properties\"][\"GEOID\"]\n",
    "    if geoid in joined_set:\n",
    "        used_geoids.add(geoid)\n",
    "        geom = shapely.geometry.shape(row['geometry'])\n",
    "        lon, lat = geom.centroid.x, geom.centroid.y\n",
    "        data.append((geoid, lon, lat))\n",
    "    else:\n",
    "        print(\"GEOID %s not in accepted list\" % (geoid))\n",
    "f.close()\n",
    "\n",
    "# report whether we matched all geoids in the input list\n",
    "assert len(joined_set - used_geoids) == 0"
   ]
  },
  {
   "cell_type": "code",
   "execution_count": 8,
   "metadata": {},
   "outputs": [],
   "source": [
    "data = sorted(data)"
   ]
  },
  {
   "cell_type": "code",
   "execution_count": 9,
   "metadata": {},
   "outputs": [],
   "source": [
    "f = open(\"data/processed/county_centroid_list.csv\",\"w\")\n",
    "f.write(\"geoid,lon,lat\\n\")\n",
    "for fipsCode,lon,lat in data:\n",
    "    f.write(\"%s,%f,%f\\n\" % (fipsCode,lon,lat))\n",
    "f.close()"
   ]
  },
  {
   "cell_type": "code",
   "execution_count": 10,
   "metadata": {},
   "outputs": [],
   "source": [
    "coords = [(coord[2], coord[1]) for coord in data]\n",
    "distance_matrix = scipy.spatial.distance.cdist(coords, coords, haversine.haversine)\n",
    "np.save(\"data/processed/county_distance_matrix.npy\", distance_matrix)"
   ]
  },
  {
   "cell_type": "markdown",
   "metadata": {},
   "source": [
    "## Save migration matrices to file"
   ]
  },
  {
   "cell_type": "code",
   "execution_count": 26,
   "metadata": {},
   "outputs": [
    {
     "name": "stdout",
     "output_type": "stream",
     "text": [
      "2004\n",
      "2005\n",
      "2006\n",
      "2007\n",
      "2008\n",
      "2009\n",
      "2010\n",
      "2011\n",
      "2012\n",
      "2013\n",
      "2014\n"
     ]
    }
   ],
   "source": [
    "for year in years:\n",
    "    print(year)\n",
    "    migration_matrix = migration_data.get_processed_data(year, sorted_joined_list)\n",
    "    np.save(\"data/processed/migration/migration_matrix_%d.npy\" % (year), migration_matrix)"
   ]
  },
  {
   "cell_type": "code",
   "execution_count": null,
   "metadata": {},
   "outputs": [],
   "source": []
  }
 ],
 "metadata": {
  "kernelspec": {
   "display_name": "Python 3",
   "language": "python",
   "name": "python3"
  },
  "language_info": {
   "codemirror_mode": {
    "name": "ipython",
    "version": 3
   },
   "file_extension": ".py",
   "mimetype": "text/x-python",
   "name": "python",
   "nbconvert_exporter": "python",
   "pygments_lexer": "ipython3",
   "version": "3.5.2"
  }
 },
 "nbformat": 4,
 "nbformat_minor": 2
}
