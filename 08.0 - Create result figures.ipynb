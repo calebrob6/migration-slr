{
 "cells": [
  {
   "cell_type": "code",
   "execution_count": 1,
   "metadata": {},
   "outputs": [],
   "source": [
    "%matplotlib inline\n",
    "%load_ext autoreload\n",
    "%autoreload 2\n",
    "import sys, os, time, math, csv\n",
    "import itertools\n",
    "import collections\n",
    "\n",
    "import numpy as np\n",
    "import pandas as pd\n",
    "\n",
    "import matplotlib\n",
    "import matplotlib.pyplot as plt\n",
    "\n",
    "#simple-maps\n",
    "sys.path.append(os.path.join(os.getcwd(),\"simple-maps\"))\n",
    "from simplemaps.SimpleFigures import simpleMap, differenceMap"
   ]
  },
  {
   "cell_type": "markdown",
   "metadata": {},
   "source": [
    "# Initial setup"
   ]
  },
  {
   "cell_type": "code",
   "execution_count": 2,
   "metadata": {},
   "outputs": [],
   "source": [
    "shapefile_fn = \"data/intermediate/boundary_shapefiles/cb_2015_us_county_500k.shp\"\n",
    "shapefile_key = \"GEOID\""
   ]
  },
  {
   "cell_type": "markdown",
   "metadata": {},
   "source": [
    "# Load data"
   ]
  },
  {
   "cell_type": "markdown",
   "metadata": {},
   "source": [
    "### Migration data"
   ]
  },
  {
   "cell_type": "code",
   "execution_count": 3,
   "metadata": {},
   "outputs": [],
   "source": [
    "f = open(\"data/processed/county_intersection_list_2004_2014.txt\")\n",
    "county_list = f.read().strip().split(\"\\n\")\n",
    "f.close()\n",
    "\n",
    "county_fips_to_idx = {fips:idx for idx, fips in enumerate(county_list)}\n",
    "num_counties = len(county_list)"
   ]
  },
  {
   "cell_type": "markdown",
   "metadata": {},
   "source": [
    "### Per county features"
   ]
  },
  {
   "cell_type": "code",
   "execution_count": 4,
   "metadata": {},
   "outputs": [],
   "source": [
    "df_medium = pd.read_csv(\"data/processed/affected_population_medium.csv\")\n",
    "df_high = pd.read_csv(\"data/processed/affected_population_high.csv\")"
   ]
  },
  {
   "cell_type": "code",
   "execution_count": 5,
   "metadata": {},
   "outputs": [],
   "source": [
    "medium_years = [2055, 2080, 2100]\n",
    "high_years = [2042, 2059, 2071, 2082, 2091, 2100]\n",
    "\n",
    "medium_total_pop = [\n",
    "    df_medium[\"Total Population %d\" % (year)].values.reshape(-1,1)\n",
    "    for year in medium_years\n",
    "]\n",
    "medium_affected_pop = [\n",
    "    df_medium[\"Affected Population %d\" % (year)].values.reshape(-1,1)\n",
    "    for year in medium_years\n",
    "]\n",
    "medium_unaffected_pop = [\n",
    "    medium_total_pop[i] - medium_affected_pop[i]\n",
    "    for i in range(len(medium_years))\n",
    "]\n",
    "\n",
    "high_total_pop = [\n",
    "    df_high[\"Total Population %d\" % (year)].values.reshape(-1,1)\n",
    "    for year in high_years\n",
    "]\n",
    "high_affected_pop = [\n",
    "    df_high[\"Affected Population %d\" % (year)].values.reshape(-1,1)\n",
    "    for year in high_years\n",
    "]\n",
    "high_unaffected_pop = [\n",
    "    high_total_pop[i] - high_affected_pop[i]\n",
    "    for i in range(len(high_years))\n",
    "]"
   ]
  },
  {
   "cell_type": "code",
   "execution_count": 6,
   "metadata": {},
   "outputs": [],
   "source": [
    "medium_affected_counties = [\n",
    "    (affected_population > 0).reshape(-1)\n",
    "    for affected_population in medium_affected_pop\n",
    "]\n",
    "\n",
    "high_affected_counties = [\n",
    "    (affected_population > 0).reshape(-1)\n",
    "    for affected_population in high_affected_pop\n",
    "]"
   ]
  },
  {
   "cell_type": "markdown",
   "metadata": {},
   "source": [
    "# DL Results"
   ]
  },
  {
   "cell_type": "code",
   "execution_count": 7,
   "metadata": {},
   "outputs": [],
   "source": [
    "medium_baseline_migration = [np.load(\"output/dl_results/dl_medium_baseline_results_%d.npy\" % (year)) for year in medium_years]\n",
    "medium_affected_migration = [np.load(\"output/dl_results/dl_medium_affected_results_%d.npy\" % (year)) for year in medium_years]\n",
    "medium_ablation_migration = [np.load(\"output/dl_results/dl_medium_ablation_results_%d.npy\" % (year)) for year in medium_years]\n",
    "medium_affected_migration_flooded = [np.load(\"output/dl_results/dl_medium_affected_results_flooded_%d.npy\" % (year)) for year in medium_years]\n",
    "medium_affected_migration_unflooded = [np.load(\"output/dl_results/dl_medium_affected_results_unflooded_%d.npy\" % (year)) for year in medium_years]\n",
    "\n",
    "\n",
    "high_baseline_migration = [np.load(\"output/dl_results/dl_high_baseline_results_%d.npy\" % (year)) for year in high_years]\n",
    "high_affected_migration = [np.load(\"output/dl_results/dl_high_affected_results_%d.npy\" % (year)) for year in high_years]\n",
    "high_ablation_migration = [np.load(\"output/dl_results/dl_high_ablation_results_%d.npy\" % (year)) for year in high_years]\n",
    "high_affected_migration_flooded = [np.load(\"output/dl_results/dl_high_affected_results_flooded_%d.npy\" % (year)) for year in high_years]\n",
    "high_affected_migration_unflooded = [np.load(\"output/dl_results/dl_high_affected_results_unflooded_%d.npy\" % (year)) for year in high_years]\n",
    "\n",
    "model = \"dl\""
   ]
  },
  {
   "cell_type": "markdown",
   "metadata": {},
   "source": [
    "# ExtRad Results"
   ]
  },
  {
   "cell_type": "code",
   "execution_count": 7,
   "metadata": {},
   "outputs": [],
   "source": [
    "medium_baseline_migration = [np.load(\"output/extrad_results/extrad_medium_baseline_results_%d.npy\" % (year)) for year in medium_years]\n",
    "medium_affected_migration = [np.load(\"output/extrad_results/extrad_medium_affected_results_%d.npy\" % (year)) for year in medium_years]\n",
    "medium_ablation_migration = [np.load(\"output/extrad_results/extrad_medium_ablation_results_%d.npy\" % (year)) for year in medium_years]\n",
    "\n",
    "high_baseline_migration = [np.load(\"output/extrad_results/extrad_high_baseline_results_%d.npy\" % (year)) for year in high_years]\n",
    "high_affected_migration = [np.load(\"output/extrad_results/extrad_high_affected_results_%d.npy\" % (year)) for year in high_years]\n",
    "high_ablation_migration = [np.load(\"output/extrad_results/extrad_high_ablation_results_%d.npy\" % (year)) for year in high_years]\n",
    "\n",
    "model = \"extrad\""
   ]
  },
  {
   "cell_type": "markdown",
   "metadata": {},
   "source": [
    "# Medium"
   ]
  },
  {
   "cell_type": "code",
   "execution_count": 8,
   "metadata": {
    "scrolled": true
   },
   "outputs": [],
   "source": [
    "for i,year in enumerate(medium_years):\n",
    "\n",
    "    t_affected_incoming =  medium_affected_migration[i].sum(axis=0)\n",
    "    t_baseline_incoming =  medium_baseline_migration[i].sum(axis=0)\n",
    "    \n",
    "    map_data = {\n",
    "        county: t_affected_incoming[j] - t_baseline_incoming[j]\n",
    "        for j, county in enumerate(county_list)\n",
    "        if not medium_affected_counties[i][j]\n",
    "    }\n",
    "    map_data[\"46102\"] = 0        \n",
    "\n",
    "    simpleMap(\n",
    "        shapefile_fn,\n",
    "        shapefile_key,\n",
    "        map_data,\n",
    "        outputFn=\"output/figures/%s_difference_both_medium_%d.tiff\" % (model, year),\n",
    "        noDataColor=\"#0000FFFF\",\n",
    "        cmap=\"Reds\",\n",
    "        dpi=300,\n",
    "        size=(7.5,7.5/2.0),\n",
    "        bounds=[22, 49, -119, -64],\n",
    "        #title=\"Direct and Indirect Effects, Medium %d\" % (year),\n",
    "        colorbarRange=(1e2, 1e6),\n",
    "        logScale=True,\n",
    "    )"
   ]
  },
  {
   "cell_type": "markdown",
   "metadata": {},
   "source": [
    "### Affected"
   ]
  },
  {
   "cell_type": "code",
   "execution_count": 9,
   "metadata": {
    "scrolled": false
   },
   "outputs": [],
   "source": [
    "for i,year in enumerate(medium_years):\n",
    "\n",
    "    t_affected_incoming =  medium_affected_migration[i][medium_affected_counties[i],:].sum(axis=0)\n",
    "    t_baseline_incoming =  medium_baseline_migration[i][medium_affected_counties[i],:].sum(axis=0)\n",
    "    \n",
    "    map_data = {\n",
    "        county: t_affected_incoming[j] - t_baseline_incoming[j]\n",
    "        for j, county in enumerate(county_list)\n",
    "    }\n",
    "    map_data[\"46102\"] = 0\n",
    "\n",
    "    differenceMap(\n",
    "        shapefile_fn,\n",
    "        shapefile_key,\n",
    "        map_data,\n",
    "        outputFn=\"output/figures/%s_difference_affected_medium_%d.tiff\" % (model, year),\n",
    "        #noDataColor=\"#0000FFFF\",\n",
    "        #cmap=\"Reds\",\n",
    "        bounds=[22, 49, -119, -64],\n",
    "        #title=\"Difference in Incoming Migrants from Affected Areas, Medium %d\" % (year),\n",
    "        colorbarRange=(1e1, 1e5),\n",
    "        logScale=True,\n",
    "        dpi=300,\n",
    "        size=(7.5,7.5/2.0)\n",
    "    )"
   ]
  },
  {
   "cell_type": "markdown",
   "metadata": {},
   "source": [
    "### Unnaffected"
   ]
  },
  {
   "cell_type": "code",
   "execution_count": 10,
   "metadata": {},
   "outputs": [],
   "source": [
    "for i,year in enumerate(medium_years):\n",
    "\n",
    "    t_affected_incoming =  medium_affected_migration[i][~medium_affected_counties[i],:].sum(axis=0)\n",
    "    t_baseline_incoming =  medium_baseline_migration[i][~medium_affected_counties[i],:].sum(axis=0)\n",
    "    \n",
    "    map_data = {\n",
    "        county: t_affected_incoming[j] - t_baseline_incoming[j]\n",
    "        for j, county in enumerate(county_list)\n",
    "    }\n",
    "    map_data[\"46102\"] = 0\n",
    "\n",
    "    differenceMap(\n",
    "        shapefile_fn,\n",
    "        shapefile_key,\n",
    "        map_data,\n",
    "        outputFn=\"output/figures/%s_difference_unaffected_medium_%d.tiff\" % (model, year),\n",
    "        #noDataColor=\"#0000FFFF\",\n",
    "        #cmap=\"Reds\",\n",
    "        bounds=[22, 49, -119, -64],\n",
    "        #title=\"Difference in Incoming Migrants from Unaffected Areas, Medium %d\" % (year),\n",
    "        colorbarRange=(1e1, 1e5),\n",
    "        logScale=True,\n",
    "        dpi=300,\n",
    "        size=(7.5,7.5/2.0),\n",
    "    )"
   ]
  },
  {
   "cell_type": "markdown",
   "metadata": {},
   "source": [
    "### Abalation"
   ]
  },
  {
   "cell_type": "code",
   "execution_count": 11,
   "metadata": {
    "scrolled": false
   },
   "outputs": [],
   "source": [
    "for i,year in enumerate(medium_years):\n",
    "\n",
    "    t_affected_incoming =  medium_affected_migration[i].sum(axis=0)\n",
    "    t_baseline_incoming =  medium_ablation_migration[i].sum(axis=0)\n",
    "    \n",
    "    map_data = {\n",
    "        county: t_affected_incoming[j] - t_baseline_incoming[j]\n",
    "        for j, county in enumerate(county_list)\n",
    "    }\n",
    "    map_data[\"46102\"] = 0\n",
    "\n",
    "    differenceMap(\n",
    "        shapefile_fn,\n",
    "        shapefile_key,\n",
    "        map_data,\n",
    "        outputFn=\"output/figures/%s_difference_ablation_medium_%d.tiff\" % (model, year),\n",
    "        #noDataColor=\"#0000FFFF\",\n",
    "        #cmap=\"Reds\",\n",
    "        bounds=[22, 49, -119, -64],\n",
    "        #title=\"ExtRad Ablation, Medium %d\" % (year),\n",
    "        colorbarRange=(1e1, 1e5),\n",
    "        logScale=True,\n",
    "        dpi=300,\n",
    "        size=(7.5,7.5/2.0),\n",
    "    )"
   ]
  },
  {
   "cell_type": "markdown",
   "metadata": {},
   "source": [
    "# High"
   ]
  },
  {
   "cell_type": "code",
   "execution_count": 12,
   "metadata": {},
   "outputs": [
    {
     "name": "stdout",
     "output_type": "stream",
     "text": [
      "2042 1.0\n",
      "2059 1.0\n",
      "2071 1.0\n",
      "2082 1.0\n",
      "2091 0.9996780424983902\n",
      "2100 0.9996780424983902\n"
     ]
    }
   ],
   "source": [
    "for i,year in enumerate(high_years):\n",
    "\n",
    "    t_affected_incoming =  high_affected_migration[i].sum(axis=0)\n",
    "    t_baseline_incoming =  high_baseline_migration[i].sum(axis=0)\n",
    "    \n",
    "    count = 0\n",
    "    for j, county in enumerate(county_list):\n",
    "        if t_affected_incoming[j] - t_baseline_incoming[j] > 0:\n",
    "            count += 1\n",
    "            \n",
    "    print(year, count / float(len(county_list)))"
   ]
  },
  {
   "cell_type": "code",
   "execution_count": 13,
   "metadata": {},
   "outputs": [],
   "source": [
    "for i,year in enumerate(high_years):\n",
    "\n",
    "    t_affected_incoming =  high_affected_migration[i].sum(axis=0)\n",
    "    t_baseline_incoming =  high_baseline_migration[i].sum(axis=0)\n",
    "    \n",
    "    map_data = {\n",
    "        county: t_affected_incoming[j] - t_baseline_incoming[j]\n",
    "        for j, county in enumerate(county_list)\n",
    "        if not high_affected_counties[i][j]\n",
    "    }\n",
    "    map_data[\"46102\"] = 0\n",
    "\n",
    "    simpleMap(\n",
    "        shapefile_fn,\n",
    "        shapefile_key,\n",
    "        map_data,\n",
    "        outputFn=\"output/figures/%s_difference_both_high_%d.tiff\" % (model, year),\n",
    "        noDataColor=\"#0000FFFF\",\n",
    "        cmap=\"Reds\",\n",
    "        bounds=[22, 49, -119, -64],\n",
    "        #title=\"Direct and Indirect Effects, High %d\" % (year),\n",
    "        colorbarRange=(1e2, 1e6),\n",
    "        logScale=True,\n",
    "        dpi=300,\n",
    "        size=(7.5,7.5/2.0),\n",
    "    )"
   ]
  },
  {
   "cell_type": "markdown",
   "metadata": {},
   "source": [
    "### Affected"
   ]
  },
  {
   "cell_type": "code",
   "execution_count": 14,
   "metadata": {
    "scrolled": true
   },
   "outputs": [],
   "source": [
    "for i,year in enumerate(high_years):\n",
    "\n",
    "    t_affected_incoming =  high_affected_migration[i][high_affected_counties[i],:].sum(axis=0)\n",
    "    t_baseline_incoming =  high_baseline_migration[i][high_affected_counties[i],:].sum(axis=0)\n",
    "    \n",
    "    map_data = {\n",
    "        county: t_affected_incoming[j] - t_baseline_incoming[j]\n",
    "        for j, county in enumerate(county_list)\n",
    "    }\n",
    "    map_data[\"46102\"] = 0\n",
    "\n",
    "    differenceMap(\n",
    "        shapefile_fn,\n",
    "        shapefile_key,\n",
    "        map_data,\n",
    "        outputFn=\"output/figures/%s_difference_affected_high_%d.tiff\" % (model, year),\n",
    "        #noDataColor=\"#0000FFFF\",\n",
    "        #cmap=\"Reds\",\n",
    "        bounds=[22, 49, -119, -64],\n",
    "        #title=\"Difference in Incoming Migrants from Affected Areas, High %d\" % (year),\n",
    "        colorbarRange=(1e2, 1e6),\n",
    "        logScale=True,\n",
    "        dpi=300,\n",
    "        size=(7.5,7.5/2.0),\n",
    "    )"
   ]
  },
  {
   "cell_type": "markdown",
   "metadata": {},
   "source": [
    "### Unaffected"
   ]
  },
  {
   "cell_type": "code",
   "execution_count": 15,
   "metadata": {},
   "outputs": [],
   "source": [
    "for i,year in enumerate(high_years):\n",
    "\n",
    "    t_affected_incoming =  high_affected_migration[i][~high_affected_counties[i],:].sum(axis=0)\n",
    "    t_baseline_incoming =  high_baseline_migration[i][~high_affected_counties[i],:].sum(axis=0)\n",
    "    \n",
    "    map_data = {\n",
    "        county: t_affected_incoming[j] - t_baseline_incoming[j]\n",
    "        for j, county in enumerate(county_list)\n",
    "    }\n",
    "    map_data[\"46102\"] = 0\n",
    "\n",
    "    differenceMap(\n",
    "        shapefile_fn,\n",
    "        shapefile_key,\n",
    "        map_data,\n",
    "        outputFn=\"output/figures/%s_difference_unaffected_high_%d.tiff\" % (model, year),\n",
    "        #noDataColor=\"#0000FFFF\",\n",
    "        #cmap=\"Reds\",\n",
    "        bounds=[22, 49, -119, -64],\n",
    "        #title=\"Difference in Incoming Migrants from Unaffected Areas, High %d\" % (year),\n",
    "        colorbarRange=(1e2, 1e6),\n",
    "        logScale=True,\n",
    "        dpi=300,\n",
    "        size=(7.5,7.5/2.0),\n",
    "    )"
   ]
  },
  {
   "cell_type": "markdown",
   "metadata": {},
   "source": [
    "### Ablation"
   ]
  },
  {
   "cell_type": "code",
   "execution_count": 16,
   "metadata": {},
   "outputs": [],
   "source": [
    "for i,year in enumerate(high_years):\n",
    "\n",
    "    t_affected_incoming =  high_affected_migration[i].sum(axis=0)\n",
    "    t_baseline_incoming =  high_ablation_migration[i].sum(axis=0)\n",
    "    \n",
    "    map_data = {\n",
    "        county: t_affected_incoming[j] - t_baseline_incoming[j]\n",
    "        for j, county in enumerate(county_list)\n",
    "    }\n",
    "    map_data[\"46102\"] = 0\n",
    "\n",
    "    differenceMap(\n",
    "        shapefile_fn,\n",
    "        shapefile_key,\n",
    "        map_data,\n",
    "        outputFn=\"output/figures/%s_difference_ablation_high_%d.tiff\" % (model, year),\n",
    "        #noDataColor=\"#0000FFFF\",\n",
    "        #cmap=\"Reds\",\n",
    "        bounds=[22, 49, -119, -64],\n",
    "        #title=\"ExtRad Ablation, High %d\" % (year),\n",
    "        colorbarRange=(1e2, 1e6),\n",
    "        logScale=True,\n",
    "        dpi=300,\n",
    "        size=(7.5,7.5/2.0),\n",
    "    )"
   ]
  },
  {
   "cell_type": "markdown",
   "metadata": {},
   "source": [
    "# Indirect Effect Thresholds"
   ]
  },
  {
   "cell_type": "markdown",
   "metadata": {},
   "source": [
    "## High"
   ]
  },
  {
   "cell_type": "code",
   "execution_count": 17,
   "metadata": {},
   "outputs": [
    {
     "data": {
      "image/png": "[encoded data removed]",
      "text/plain": [
       "<Figure size 432x288 with 1 Axes>"
      ]
     },
     "metadata": {},
     "output_type": "display_data"
    }
   ],
   "source": [
    "thresholds = [0.5, 1.0, 3.0, 6.0, 9.0]\n",
    "ys_direct = []\n",
    "ys_thresholds = [[] for threshold in thresholds]\n",
    "divisor = 1000000.0\n",
    "\n",
    "for i, year in enumerate(high_years):\n",
    "\n",
    "    direct_effect = high_affected_pop[i].sum() / divisor\n",
    "    ys_direct.append(direct_effect)\n",
    "    \n",
    "    t_affected_incoming =  high_affected_migration[i].sum(axis=0)\n",
    "    t_baseline_incoming =  high_baseline_migration[i].sum(axis=0)\n",
    "    t_increase = t_affected_incoming - t_baseline_incoming\n",
    "\n",
    "    for j, threshold in enumerate(thresholds):\n",
    "        \n",
    "        t_pop = high_total_pop[i].copy().reshape(-1)\n",
    "        indirect_mask = t_increase > (t_pop * (threshold/100.0))        \n",
    "        ys_thresholds[j].append(direct_effect + (t_pop[indirect_mask].sum() / divisor))\n",
    "    \n",
    "markers = [\".\", \"<\", \"o\", \">\", \"v\", \"^\", \"D\"]\n",
    "cmap = matplotlib.cm.get_cmap(\"PuRd\")\n",
    "norm = matplotlib.colors.Normalize(vmin=0,vmax=len(thresholds))\n",
    "sm = matplotlib.cm.ScalarMappable(norm=norm, cmap=cmap)\n",
    "\n",
    "width = 6\n",
    "plt.figure(figsize=(width, width * (2/3)))\n",
    "\n",
    "plt.plot(high_years, ys_direct, color=\"b\", marker=markers[0], label=\"Direct Effects\")\n",
    "\n",
    "for j, threshold in enumerate(thresholds):\n",
    "    plt.plot(high_years, ys_thresholds[j], color=sm.to_rgba(j+1), marker=markers[j+1], label=r\"Indirect Effects $d = %0.1f \\%% $\" % (threshold))\n",
    "\n",
    "plt.legend(bbox_to_anchor=(1.04,0.5), loc=\"center left\", borderaxespad=0, fontsize=16)\n",
    "plt.subplots_adjust(right=0.9)\n",
    "\n",
    "plt.xticks(fontsize=12)\n",
    "plt.xlim([2042,2100])\n",
    "plt.xlabel(\"Year\", fontsize=14)\n",
    "\n",
    "plt.yticks(fontsize=12)\n",
    "plt.ylim([0,100])\n",
    "plt.ylabel(\"People Affected (millions)\", fontsize=14)\n",
    "\n",
    "#plt.title(\"Direct and Indirect Effects on People\", fontsize=16)\n",
    "plt.savefig(\"output/figures/%s_direct_indirect_high_plot.tiff\" % (model), dpi=300, bbox_inches=\"tight\")\n",
    "plt.show()\n",
    "plt.close()"
   ]
  },
  {
   "cell_type": "code",
   "execution_count": 18,
   "metadata": {},
   "outputs": [
    {
     "data": {
      "text/plain": [
       "[[52.615433514252,\n",
       "  88.501053472138,\n",
       "  140.143178184209,\n",
       "  206.84671046297598,\n",
       "  275.612801241788,\n",
       "  372.695697004205],\n",
       " [25.8907333842,\n",
       "  56.441005194218,\n",
       "  80.05956327319599,\n",
       "  128.294874825274,\n",
       "  173.02320991652002,\n",
       "  249.198184651799],\n",
       " [4.878040944301,\n",
       "  11.281081993387001,\n",
       "  27.322118504981002,\n",
       "  54.607691375771005,\n",
       "  80.151026317234,\n",
       "  120.04740645611601],\n",
       " [1.6361068289300003,\n",
       "  4.562348919649001,\n",
       "  7.601259591732001,\n",
       "  12.72954041689,\n",
       "  40.424186135252,\n",
       "  67.075894554874],\n",
       " [1.1621265426960001,\n",
       "  2.4836519266350003,\n",
       "  4.194823283044,\n",
       "  7.382391627121999,\n",
       "  17.376030801037004,\n",
       "  42.58634106386701]]"
      ]
     },
     "execution_count": 18,
     "metadata": {},
     "output_type": "execute_result"
    }
   ],
   "source": [
    "ys_thresholds"
   ]
  },
  {
   "cell_type": "code",
   "execution_count": 19,
   "metadata": {},
   "outputs": [
    {
     "name": "stdout",
     "output_type": "stream",
     "text": [
      "(array([0, 1, 2, 3, 4, 6]), array([ 336,   19,    8,    3,    1, 2739]))\n",
      "(array([0, 1, 2, 3, 4, 5, 6]), array([ 340,   78,   14,    2,    3,    1, 2668]))\n",
      "(array([0, 1, 2, 3, 4, 5, 6]), array([ 341,  132,   50,    3,    3,    1, 2576]))\n",
      "(array([0, 1, 2, 3, 4, 5, 6]), array([ 345,  221,   92,    4,    3,    2, 2439]))\n",
      "(array([0, 1, 2, 3, 4, 5, 6]), array([ 346,  307,  208,   13,    5,    2, 2225]))\n",
      "(array([0, 1, 2, 3, 4, 5, 6]), array([ 349,  658,  380,   54,    5,    8, 1652]))\n"
     ]
    }
   ],
   "source": [
    "thresholds = [0.5, 1.0, 3.0, 6.0, 9.0]\n",
    "labels = [\n",
    "    \"Directly\\nAffected\"\n",
    "] + [\">%0.1f%%\" % (threshold) for threshold in thresholds] + [\"Not\\nAffected\"]\n",
    "\n",
    "cmap = matplotlib.colors.ListedColormap(\n",
    "    [\"#0000FFFF\"] + [sm.to_rgba(j+1) for j in range(len(thresholds))] + [\"#FFFFFFFF\"],\n",
    "    N = len(labels)\n",
    ")\n",
    "hackMapping = {\n",
    "    i:i for i in range(len(labels))\n",
    "}\n",
    "\n",
    "for i, year in enumerate(high_years):\n",
    "    \n",
    "    direct_effect = high_affected_pop[i].sum() / divisor\n",
    "    ys_direct.append(direct_effect)\n",
    "    \n",
    "    t_affected_incoming =  high_affected_migration[i].sum(axis=0)\n",
    "    t_baseline_incoming =  high_baseline_migration[i].sum(axis=0)\n",
    "    t_increase = t_affected_incoming - t_baseline_incoming\n",
    "    \n",
    "    t_map = (high_affected_pop[i] > 0).reshape(-1).astype(int)\n",
    "    t_mask = (high_affected_pop[i] > 0).reshape(-1)\n",
    "\n",
    "    for j, threshold in enumerate(thresholds):\n",
    "        \n",
    "        t_pop = high_total_pop[i].copy().reshape(-1)\n",
    "        indirect_mask = t_increase > (t_pop * (threshold/100.0))\n",
    "        t_map[indirect_mask] = j+2\n",
    "    \n",
    "    t_map[t_map==0] = len(thresholds) + 2\n",
    "    t_map -= 1\n",
    "    t_map[t_mask] = 0\n",
    "    print(np.unique(t_map, return_counts=True))\n",
    " \n",
    "    map_data = {\n",
    "        county: t_map[j]\n",
    "        for j, county in enumerate(county_list)\n",
    "    }\n",
    "    map_data[\"46102\"] = 6\n",
    "\n",
    "    \n",
    "    simpleMap(\n",
    "        shapefile_fn,\n",
    "        shapefile_key,\n",
    "        map_data,\n",
    "        cmap=cmap,\n",
    "        outputFn=\"output/figures/%s_direct_indirect_high_%d.tiff\" % (model, year),\n",
    "        colorbarType=1,\n",
    "        colorbarLabels=labels,\n",
    "        dataToColorIdxMap=hackMapping,\n",
    "        bounds=[22, 49, -119, -64],\n",
    "        #title=\"Direct and Indirect Effects at different thresholds, High %d\" % (year),\n",
    "        dpi=300,\n",
    "        size=(7.5,7.5/2.0),\n",
    "    )"
   ]
  },
  {
   "cell_type": "markdown",
   "metadata": {},
   "source": [
    "## Medium"
   ]
  },
  {
   "cell_type": "code",
   "execution_count": 20,
   "metadata": {},
   "outputs": [
    {
     "data": {
      "image/png": "[encoded data removed]",
      "text/plain": [
       "<Figure size 432x288 with 1 Axes>"
      ]
     },
     "metadata": {},
     "output_type": "display_data"
    }
   ],
   "source": [
    "thresholds = [0.5, 1.0, 3.0, 6.0, 9.0]\n",
    "ys_direct = []\n",
    "ys_thresholds = [[] for threshold in thresholds]\n",
    "divisor = 1000000.0\n",
    "\n",
    "for i, year in enumerate(medium_years):\n",
    "\n",
    "    direct_effect = medium_affected_pop[i].sum() / divisor\n",
    "    ys_direct.append(direct_effect)\n",
    "    \n",
    "    t_affected_incoming =  medium_affected_migration[i].sum(axis=0)\n",
    "    t_baseline_incoming =  medium_baseline_migration[i].sum(axis=0)\n",
    "    t_increase = t_affected_incoming - t_baseline_incoming\n",
    "\n",
    "    for j, threshold in enumerate(thresholds):\n",
    "        \n",
    "        t_pop = medium_total_pop[i].copy().reshape(-1)\n",
    "        indirect_mask = t_increase > (t_pop * (threshold/100.0))        \n",
    "        ys_thresholds[j].append(direct_effect + (t_pop[indirect_mask].sum() / divisor))\n",
    "    \n",
    "markers = [\".\", \"<\", \"o\", \">\", \"v\", \"^\", \"D\"]\n",
    "cmap = matplotlib.cm.get_cmap(\"PuRd\")\n",
    "norm = matplotlib.colors.Normalize(vmin=0,vmax=len(thresholds))\n",
    "sm = matplotlib.cm.ScalarMappable(norm=norm, cmap=cmap)\n",
    "    \n",
    "width = 6\n",
    "plt.figure(figsize=(width, width * (2/3)))\n",
    "\n",
    "plt.plot(medium_years, ys_direct, color=\"b\", marker=markers[0], label=\"Direct Effects\")\n",
    "\n",
    "for j, threshold in enumerate(thresholds):\n",
    "    plt.plot(medium_years, ys_thresholds[j], color=sm.to_rgba(j+1), marker=markers[j+1], label=r\"Indirect Effects $d = %0.1f \\%% $\" % (threshold))\n",
    "\n",
    "plt.legend(bbox_to_anchor=(1.04,0.5), loc=\"center left\", borderaxespad=0, fontsize=16)\n",
    "plt.subplots_adjust(right=0.9)\n",
    "\n",
    "plt.xticks(fontsize=12)\n",
    "plt.xlim([2040,2100])\n",
    "plt.xlabel(\"Year\", fontsize=14)\n",
    "\n",
    "plt.yticks(fontsize=12)\n",
    "plt.ylim([0,100])\n",
    "plt.ylabel(\"People Affected (millions)\", fontsize=14)\n",
    "\n",
    "#plt.title(\"Direct and Indirect Effects on People\", fontsize=16)\n",
    "plt.savefig(\"output/figures/%s_direct_indirect_medium_plot.tiff\" % (model), dpi=300, bbox_inches=\"tight\")\n",
    "plt.show()\n",
    "plt.close()"
   ]
  },
  {
   "cell_type": "code",
   "execution_count": 21,
   "metadata": {},
   "outputs": [
    {
     "data": {
      "text/plain": [
       "[[58.70675646423, 101.85779030117199, 157.456274547938],\n",
       " [28.892917546305, 65.46576194264101, 91.476644129654],\n",
       " [5.367699949364, 12.533631990512, 32.27763498044],\n",
       " [1.8209560921680001, 5.075750492131, 8.495665683812001],\n",
       " [1.295178121297, 2.8393323049339996, 4.896351569522]]"
      ]
     },
     "execution_count": 21,
     "metadata": {},
     "output_type": "execute_result"
    }
   ],
   "source": [
    "ys_thresholds"
   ]
  },
  {
   "cell_type": "code",
   "execution_count": 22,
   "metadata": {},
   "outputs": [
    {
     "name": "stdout",
     "output_type": "stream",
     "text": [
      "(array([0, 1, 2, 3, 4, 6]), array([ 336,   20,    8,    3,    1, 2738]))\n",
      "(array([0, 1, 2, 3, 4, 5, 6]), array([ 340,   76,   13,    2,    3,    1, 2671]))\n",
      "(array([0, 1, 2, 3, 4, 5, 6]), array([ 341,  125,   44,    3,    3,    1, 2589]))\n"
     ]
    }
   ],
   "source": [
    "thresholds = [0.5, 1.0, 3.0, 6.0, 9.0]\n",
    "labels = [\n",
    "    \"Directly\\nAffected\"\n",
    "] + [\">%0.1f%%\" % (threshold) for threshold in thresholds] + [\"Not\\nAffected\"]\n",
    "\n",
    "cmap = matplotlib.colors.ListedColormap(\n",
    "    [\"#0000FFFF\"] + [sm.to_rgba(j+1) for j in range(len(thresholds))] + [\"#FFFFFFFF\"],\n",
    "    N = len(labels)\n",
    ")\n",
    "hackMapping = {\n",
    "    i:i for i in range(len(labels))\n",
    "}\n",
    "\n",
    "for i, year in enumerate(medium_years):\n",
    "    \n",
    "    direct_effect = medium_affected_pop[i].sum() / divisor\n",
    "    ys_direct.append(direct_effect)\n",
    "    \n",
    "    t_affected_incoming =  medium_affected_migration[i].sum(axis=0)\n",
    "    t_baseline_incoming =  medium_baseline_migration[i].sum(axis=0)\n",
    "    t_increase = t_affected_incoming - t_baseline_incoming\n",
    "    \n",
    "    t_map = (medium_affected_pop[i] > 0).reshape(-1).astype(int)\n",
    "    t_mask = (medium_affected_pop[i] > 0).reshape(-1)\n",
    "\n",
    "    for j, threshold in enumerate(thresholds):\n",
    "        \n",
    "        t_pop = medium_total_pop[i].copy().reshape(-1)\n",
    "        indirect_mask = t_increase > (t_pop * (threshold/100.0))\n",
    "        t_map[indirect_mask] = j+2\n",
    "    \n",
    "    t_map[t_map==0] = len(thresholds) + 2\n",
    "    t_map -= 1\n",
    "    t_map[t_mask] = 0\n",
    "    print(np.unique(t_map, return_counts=True))\n",
    " \n",
    "    map_data = {\n",
    "        county: t_map[j]\n",
    "        for j, county in enumerate(county_list)\n",
    "    }\n",
    "    map_data[\"46102\"] = 6\n",
    "\n",
    "    \n",
    "    simpleMap(\n",
    "        shapefile_fn,\n",
    "        shapefile_key,\n",
    "        map_data,\n",
    "        cmap=cmap,\n",
    "        outputFn=\"output/figures/%s_direct_indirect_medium_%d.tiff\" % (model, year),\n",
    "        colorbarType=1,\n",
    "        colorbarLabels=labels,\n",
    "        dataToColorIdxMap=hackMapping,\n",
    "        bounds=[22, 49, -119, -64],\n",
    "        #title=\"Direct and Indirect Effects at different thresholds, Medium %d\" % (year),\n",
    "        dpi=300,\n",
    "        size=(7.5,7.5/2.0),\n",
    "    )"
   ]
  }
 ],
 "metadata": {
  "kernelspec": {
   "display_name": "Python 2",
   "language": "python",
   "name": "python2"
  },
  "language_info": {
   "codemirror_mode": {
    "name": "ipython",
    "version": 3
   },
   "file_extension": ".py",
   "mimetype": "text/x-python",
   "name": "python",
   "nbconvert_exporter": "python",
   "pygments_lexer": "ipython3",
   "version": "3.5.2"
  }
 },
 "nbformat": 4,
 "nbformat_minor": 1
}
