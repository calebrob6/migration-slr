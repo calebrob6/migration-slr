{
 "cells": [
  {
   "cell_type": "code",
   "execution_count": 1,
   "metadata": {},
   "outputs": [],
   "source": [
    "%matplotlib inline\n",
    "%load_ext autoreload\n",
    "%autoreload 2\n",
    "import sys,os,time,math,csv\n",
    "import itertools\n",
    "import collections\n",
    "\n",
    "import numpy as np\n",
    "import pandas as pd\n",
    "import networkx as nx\n",
    "\n",
    "import matplotlib\n",
    "import matplotlib.pyplot as plt\n",
    "plt.style.use(\"ggplot\")\n",
    "\n",
    "from IPython.display import display\n",
    "\n",
    "# geo\n",
    "import fiona\n",
    "import shapely.geometry\n",
    "from rtree import index\n",
    "\n",
    "#simple-maps\n",
    "sys.path.append(os.path.join(os.getcwd(),\"simple-maps\"))\n",
    "from simplemaps.SimpleFigures import simpleMap, differenceMap"
   ]
  },
  {
   "cell_type": "markdown",
   "metadata": {},
   "source": [
    "## Load housing units per block group"
   ]
  },
  {
   "cell_type": "code",
   "execution_count": 2,
   "metadata": {},
   "outputs": [],
   "source": [
    "county_id_list = []\n",
    "bg_id_list = []\n",
    "bg_housing_unit_estimates = []\n",
    "\n",
    "f = open(\"data/regression_estimated_housing_units.csv\", \"r\")\n",
    "predicted_years = list(map(int, f.readline().strip().split(\",\")[2:]))\n",
    "num_block_groups = 0\n",
    "num_years = len(predicted_years)\n",
    "\n",
    "for line in f:\n",
    "    line = line.strip()\n",
    "    if line != \"\":\n",
    "        parts = line.split(\",\")\n",
    "        county_id = parts[0]\n",
    "        bg_id = parts[1]\n",
    "        values = list(map(float,parts[2:]))\n",
    "        \n",
    "        county_id_list.append(county_id)\n",
    "        bg_id_list.append(bg_id)\n",
    "        bg_housing_unit_estimates.append(values)\n",
    "        \n",
    "        num_block_groups += 1\n",
    "        assert len(values) == num_years\n",
    "f.close()\n",
    "\n",
    "bg_housing_unit_estimates = np.array(bg_housing_unit_estimates)\n",
    "assert bg_housing_unit_estimates.shape[0] == num_block_groups\n",
    "assert bg_housing_unit_estimates.shape[1] == num_years"
   ]
  },
  {
   "cell_type": "markdown",
   "metadata": {},
   "source": [
    "## Load block group areas"
   ]
  },
  {
   "cell_type": "code",
   "execution_count": 3,
   "metadata": {},
   "outputs": [],
   "source": [
    "bg_area = {}\n",
    "\n",
    "f = fiona.open(\"data/boundary_shapefiles/block_groups_2012/tl_2012_all_bg.shp\", \"r\")\n",
    "for s in f:\n",
    "    bg_id = s[\"properties\"][\"GEOID\"]\n",
    "    state_id = s[\"properties\"][\"STATEFP\"]\n",
    "    land_area = int(s[\"properties\"][\"ALAND\"])\n",
    "    \n",
    "    bg_area[bg_id] = land_area\n",
    "f.close()"
   ]
  },
  {
   "cell_type": "code",
   "execution_count": 4,
   "metadata": {},
   "outputs": [],
   "source": [
    "f = open(\"data/block_group_land_areas.csv\", \"w\")\n",
    "f.write(\"Geo_COUNTY_FIPS,Geo_BG_FIPS,ALAND\\n\")\n",
    "for i in range(num_block_groups):\n",
    "    f.write(\"%s,%s,%d\\n\" % (county_id_list[i], bg_id_list[i], bg_area[bg_id_list[i]]))\n",
    "f.close()"
   ]
  },
  {
   "cell_type": "markdown",
   "metadata": {},
   "source": [
    "## Calculate housing unit density"
   ]
  },
  {
   "cell_type": "code",
   "execution_count": 5,
   "metadata": {},
   "outputs": [],
   "source": [
    "bg_area_vector = []\n",
    "for bg_id in bg_id_list:\n",
    "    bg_area_vector.append(bg_area[bg_id] / 1000.0)\n",
    "bg_area_vector = np.array(bg_area_vector, dtype=float)\n",
    "bg_area_vector = bg_area_vector.reshape(-1,1)"
   ]
  },
  {
   "cell_type": "code",
   "execution_count": 6,
   "metadata": {},
   "outputs": [
    {
     "data": {
      "text/plain": [
       "(216330, 1)"
      ]
     },
     "execution_count": 6,
     "metadata": {},
     "output_type": "execute_result"
    }
   ],
   "source": [
    "bg_area_vector.shape"
   ]
  },
  {
   "cell_type": "code",
   "execution_count": 7,
   "metadata": {},
   "outputs": [
    {
     "name": "stderr",
     "output_type": "stream",
     "text": [
      "/usr/local/lib/python3.5/dist-packages/ipykernel/__main__.py:1: RuntimeWarning: invalid value encountered in true_divide\n",
      "  if __name__ == '__main__':\n"
     ]
    }
   ],
   "source": [
    "bg_hu_density = bg_housing_unit_estimates / bg_area_vector"
   ]
  },
  {
   "cell_type": "code",
   "execution_count": 8,
   "metadata": {},
   "outputs": [],
   "source": [
    "argsorted_bg_hu_density = np.argsort(bg_hu_density, axis=0, kind=\"mergesort\")"
   ]
  },
  {
   "cell_type": "code",
   "execution_count": 14,
   "metadata": {},
   "outputs": [
    {
     "data": {
      "text/plain": [
       "array([131718, 126738, 137932, 200905, 134743, 135134, 134116, 134981,\n",
       "       134917, 134919, 130096, 131292,  93171, 135066, 126852, 134714,\n",
       "        39884, 135005, 134354, 134954,  58883,  14612, 137014, 134072,\n",
       "       134050, 134554, 126828,  27779, 136822, 137077,  58629, 134662,\n",
       "       134698,  87562,  14728, 134495, 136926, 126607, 137765,  45731,\n",
       "       134721, 131375, 134892, 134701, 200641, 134224,  45741, 127036,\n",
       "       136576,  45747, 131271,  14638, 134943, 134134, 134298, 127434,\n",
       "       134327, 134141, 136959, 134174,  93193, 199940, 130853,  58798,\n",
       "       136839, 138420,  88611, 134113, 130899,  58838, 136919, 134821,\n",
       "       134532,  93213, 131210, 134156, 134373,  14712, 134661, 134709,\n",
       "       137723,  41000, 134129,  27646, 131515, 134677, 126887, 135160,\n",
       "       135150,  46093, 134351,  58831,  14642,  93212,  14717,  39886,\n",
       "       134730, 127368, 134504, 126964, 137877, 131291,  46215,  45719,\n",
       "        14737, 130781,  45716, 127044, 134789, 131392, 134117, 135048,\n",
       "       127441, 134179, 131224, 137662, 131279, 200047, 135029,  91753,\n",
       "        93163, 135067, 137772, 135112, 134909, 127062, 127032, 134037,\n",
       "       134976, 200014,  41528, 134158, 134726, 134775, 135108,  14720,\n",
       "       126908, 121598, 134867, 134226, 134727, 134889, 137090, 118925,\n",
       "       118928, 135060, 134800, 136829, 137604, 121629, 135078,  26331,\n",
       "       137669, 134761, 137278, 134738, 127334, 137876,  58882, 127416,\n",
       "       127395, 137004, 134916, 137279, 136636, 130798, 134840,  46136,\n",
       "       137780, 134660,  87413,  45729, 134903, 134606, 134195, 118920,\n",
       "       135111, 131494, 134015, 127233, 127611, 135069, 134062, 136885,\n",
       "       137770, 131270,  46250, 134079, 127262, 134130, 137677, 134212,\n",
       "       134836, 134291, 134152, 127014, 126855, 127295, 135116, 137078,\n",
       "        14705, 135102, 130855,  27642, 135046, 127472, 131983, 134024,\n",
       "       134711,  58930, 211982, 126674, 134450, 134032,  93162,  46207,\n",
       "       134505,  14683, 134301, 134650, 134934, 127690, 134814, 134605,\n",
       "       126949, 126593, 134652, 137786,  27728, 135002,  14607, 136820,\n",
       "       170862, 136575, 134529, 127650, 127433, 137624,  46096, 130890,\n",
       "       127454,  14649,  58651,  27731, 126694, 136975, 137622, 127649,\n",
       "       134696, 135040, 134616, 134670, 134651, 134728,  58918, 127602,\n",
       "       135123, 134342,  93311, 134392,  41427, 130691, 134445, 130765,\n",
       "       126623, 134456, 130700, 131735, 134100, 127346, 119004, 127347,\n",
       "        46461, 137773, 134306, 136872, 137782, 134866,  41428, 134480,\n",
       "       137021, 134729,  93208, 127026, 131666, 119018, 132003, 134811,\n",
       "       134790, 134208, 134022, 134690,  58793, 136630,  87571, 136738,\n",
       "       137777, 130155, 127085, 130046, 134853, 137788, 134474, 126602,\n",
       "       136905, 134837, 134434, 134115, 126886, 134188, 131510,  46195,\n",
       "        26104, 134972, 118936, 137767, 134894, 134337, 130040, 134227,\n",
       "       137632,  87563, 126917,  28161, 134718, 121355, 136964, 134741,\n",
       "       131839, 134620, 136985, 134574,   9837, 134839, 137630, 134602,\n",
       "       136974, 134258, 134035, 134598,  58919, 134663, 126991, 136736,\n",
       "        46457, 135142, 121226, 134817, 137661, 126689, 185149, 134647,\n",
       "       134804, 134376,  58899, 137246, 134822, 127392, 136541, 136969,\n",
       "       134550, 134040, 134137, 136963, 131361, 189833,  58787, 126752,\n",
       "       126626, 132070, 134338,  58909, 206292, 127348,  46730, 134707,\n",
       "       134774,  58890, 206261, 135106, 134089, 134752, 134421,  14719,\n",
       "       134724, 134509,  58834, 134562, 134492, 134688,  45703, 134581,\n",
       "        46449, 134952, 136804, 131840, 134087, 200048, 137639, 134710,\n",
       "        27663, 134278, 126739, 135113, 127002, 134676, 131690, 136540,\n",
       "        58780, 137627, 127109, 130617, 134633,  58901, 134416, 135016,\n",
       "       127296,  58911,  93201, 134261, 134691, 127682, 135017, 134369,\n",
       "       134194,  58900, 199969, 134983, 134829, 134395, 134243, 131661,\n",
       "       137776, 134014, 134331, 134011, 134787, 134543, 130436, 134589,\n",
       "       134813,  27619, 137253, 136634, 134720, 127405, 131208,  39873,\n",
       "       134686, 134648, 134806, 134449, 131941, 134757, 126628, 134883,\n",
       "       134776, 134454, 170441, 134695, 199961,  41529, 136956,  58826,\n",
       "        93173, 134533, 127268, 127406, 134719, 200904, 126594, 134205,\n",
       "       131845,  58827, 134871, 126589,  58830, 134796, 134088, 134754,\n",
       "       135158, 130871,  46451, 134407, 130857,  27640,  39870, 134783,\n",
       "       126585, 126830, 137678,  58633, 134329, 134514, 134808, 126849,\n",
       "       134283, 135028, 134214, 130402,  27649, 134763, 134204, 134753,\n",
       "        93303, 126854, 136901,  58928, 134244, 126982, 134255,  46460,\n",
       "       136983,  45744, 162527, 134483, 134507,  46194, 134251, 134567,\n",
       "       135018,  46153, 134595,  58937, 134781, 134099, 134370, 136961,\n",
       "       134502, 126996, 136886, 137724, 127502, 137264, 121628, 134682,\n",
       "        58836, 127444, 134441, 126606,  58935, 134004, 200043, 134858,\n",
       "       127333, 134150, 134770, 200906, 206257, 131214, 131209, 134819,\n",
       "       134070,  27662, 130549, 130259,  45705, 134798, 134639,  46196,\n",
       "        46248, 130808, 136960, 137251, 134758, 134747, 134928, 134740,\n",
       "       134465, 134702, 134600, 134330, 134290, 134308, 127695,  59674,\n",
       "       127397, 134784, 131470, 137631,  58653, 134590,  58915, 134949,\n",
       "       126703,  58849, 119001, 134073, 135125, 126704,  58898, 134105,\n",
       "       134526, 131516, 104364, 134498, 134510, 134347, 136637, 135107,\n",
       "       130856, 135064,  58685,  58895, 134630, 134982, 134523, 137644,\n",
       "        27656, 130900, 134906, 134772,  39797,  45738, 134268,  54143,\n",
       "       134762,  93197, 134128, 130805, 134344, 127396, 134586,  14304,\n",
       "        41001, 134435, 134527, 170440, 134831, 134975, 134794, 134288,\n",
       "       137774, 121358,  45721, 199958,  46458,  59621, 134640, 127692,\n",
       "       134217, 130896, 134573, 131217, 134229, 134999, 130420,  27641,\n",
       "       134245, 134003, 134397, 134218,  46214, 137254,  58625,  27652,\n",
       "       126573,  93340, 137760, 134739, 131372, 134795,  58942, 134178,\n",
       "        58896,  58927, 134801, 134155, 134588, 134585,  58943, 137775,\n",
       "       134433, 127316, 130889, 137621, 134751,  58897, 134900, 127691,\n",
       "       134402, 136993, 134646, 134161, 134358, 131691, 126831, 126613,\n",
       "        58939,  45749, 134756, 134803, 126931,  45702, 134901, 131374,\n",
       "       126587, 134733, 134428, 134356, 134312, 134235, 137720, 134624,\n",
       "        93164, 134537, 127689, 126997,  58926, 134377, 134303, 136882,\n",
       "       134041,  46094, 134320, 136970,   9836, 134403,  88227,  58923,\n",
       "       134746, 203258, 137718, 134945,  58624, 134659, 134157, 134325,\n",
       "       134636, 130887, 134478, 134592, 134847, 127292, 134627, 104354,\n",
       "       134802, 134361, 134545, 118757, 137625,  46097, 137680, 134197,\n",
       "       134912, 134066, 137785, 134023, 134547, 134899, 134511,  39871,\n",
       "        58922, 126902, 134723, 134531, 127291,  45725,  58835,  27653,\n",
       "       170427,  93297, 134596, 134307, 134193, 134462, 137759, 138035,\n",
       "       134838, 134479,  45730,  58916,  46453, 134905, 134375, 130006,\n",
       "        46184, 199968,  58786, 126659, 134679, 134033, 118924,  46454,\n",
       "       134463, 134388, 134162, 127005, 134914, 134253, 134610, 134539,\n",
       "       134263, 136979, 127500, 137682, 134854, 134466, 134046, 134506,\n",
       "       127013, 134359, 134167,  58848, 137636,  58797, 134252, 134594,\n",
       "        58929, 134287,  58920, 134246,  39867, 134549, 134759, 134409,\n",
       "       134387, 137220,  58894, 134389, 134564, 137641, 134169, 134565,\n",
       "       134785, 134634,  46447, 134542, 134398, 134782, 126857, 134577,\n",
       "       134302, 134201,  58648, 134497,  58925, 134399, 134222, 134219,\n",
       "       134566, 134587, 134628, 134256, 134780, 134200, 134665, 134104,\n",
       "       134367, 126658, 135161, 134575, 134582, 134583, 134460, 134371,\n",
       "       137218, 134519, 206293, 134230, 134496, 134234, 134745, 134534,\n",
       "       134578, 134400, 134499, 134232,  58782, 134467, 118759, 134265,\n",
       "       134546, 134568, 134470, 134408, 137221, 134612,  58917, 134645,\n",
       "       134166, 134249, 134629,  58938, 134501, 134535,  58658, 121364,\n",
       "       127688, 134293, 134374, 134469,  58914, 134438, 134563, 134187,\n",
       "       199941, 134613, 134572, 134254, 134680, 134638, 127693, 134614,\n",
       "       134458, 134391, 134471, 134185, 134260, 134522,  93199, 137628,\n",
       "       134406, 134617, 137787, 134233, 134541,  46100, 134292, 134525,\n",
       "        58891, 134494, 134619, 134184, 134512, 134236, 134468, 134437,\n",
       "       134436,  58627, 121504,  46227,  58934,  58912, 134336,  58879,\n",
       "        46099, 134461, 134427, 134472, 134508, 137222, 134180, 126671,\n",
       "       134805, 137219, 134401, 134264, 134231, 137939, 127288, 134289,\n",
       "       134228,  58843,  58626, 134584, 134266, 134637, 134618, 134597,\n",
       "       134540, 134548, 137719, 134335, 134334, 134611, 134579, 134473,\n",
       "       134324, 134623, 134631, 134626, 134221, 134580, 134656, 134521,\n",
       "       134570, 134405,  59544, 170438, 134520, 134524, 134350, 134390,\n",
       "       134394, 134457, 134459, 134513, 134432, 134431, 134625, 134348,\n",
       "       134339, 134538, 134346, 134635, 134446, 134642,  58656,  58655])"
      ]
     },
     "execution_count": 14,
     "metadata": {},
     "output_type": "execute_result"
    }
   ],
   "source": [
    "argsorted_bg_hu_density[-532-number_to_show:-532,-1]"
   ]
  },
  {
   "cell_type": "code",
   "execution_count": 15,
   "metadata": {},
   "outputs": [],
   "source": [
    "number_to_show = 10000\n",
    "highlighted_counties = {\n",
    "    bg_id_list[i]: 1 if i in argsorted_bg_hu_density[-532-number_to_show:-532,0] else 0\n",
    "    for i in range(num_block_groups)\n",
    "}\n",
    "\n",
    "f = open(\"data/block_group_top1000_hu_density.csv\", \"w\")\n",
    "f.write(\"Geo_COUNTY_FIPS,Geo_BG_FIPS,HIGHLIGHT\\n\")\n",
    "for i in range(num_block_groups):\n",
    "    f.write(\"%s,%s,%d\\n\" % (county_id_list[i], bg_id_list[i], highlighted_counties[bg_id_list[i]]))\n",
    "f.close()\n",
    "\n",
    "f = open(\"data/block_group_top1000_hu_density.csvt\",\"w\")\n",
    "f.write('\"String\",\"String\",\"Integer\"')\n",
    "f.close()"
   ]
  },
  {
   "cell_type": "code",
   "execution_count": 10,
   "metadata": {},
   "outputs": [],
   "source": [
    "mask = ~np.isnan(bg_hu_density[:,0])"
   ]
  },
  {
   "cell_type": "code",
   "execution_count": 11,
   "metadata": {},
   "outputs": [],
   "source": [
    "for i in range(bg_hu_density.shape[1]):\n",
    "    assert np.all(mask == ~np.isnan(bg_hu_density[:,i]))"
   ]
  },
  {
   "cell_type": "code",
   "execution_count": 12,
   "metadata": {},
   "outputs": [],
   "source": [
    "bg_hu_density = bg_hu_density[mask, :]"
   ]
  },
  {
   "cell_type": "code",
   "execution_count": 13,
   "metadata": {},
   "outputs": [],
   "source": [
    "sorted_bg_hu_density = np.sort(bg_hu_density, axis=0, kind=\"mergesort\")"
   ]
  },
  {
   "cell_type": "code",
   "execution_count": 14,
   "metadata": {},
   "outputs": [
    {
     "data": {
      "image/png": "[encoded data removed]",
      "text/plain": [
       "<Figure size 576x432 with 1 Axes>"
      ]
     },
     "metadata": {},
     "output_type": "display_data"
    }
   ],
   "source": [
    "plt.figure(figsize=(8,6))\n",
    "\n",
    "xs = np.arange(2010,2101)\n",
    "ys = np.mean(sorted_bg_hu_density[-1000:,:], axis=0)\n",
    "\n",
    "plt.plot(xs, ys)\n",
    "\n",
    "plt.xlim([2010, 2100])\n",
    "\n",
    "plt.xlabel(\"Year\", fontsize=16)\n",
    "plt.ylabel(\"Housing units/km$^2$\", fontsize=16)\n",
    "\n",
    "plt.show()\n",
    "plt.close()"
   ]
  },
  {
   "cell_type": "code",
   "execution_count": null,
   "metadata": {},
   "outputs": [],
   "source": []
  }
 ],
 "metadata": {
  "kernelspec": {
   "display_name": "Python 3",
   "language": "python",
   "name": "python3"
  },
  "language_info": {
   "codemirror_mode": {
    "name": "ipython",
    "version": 3
   },
   "file_extension": ".py",
   "mimetype": "text/x-python",
   "name": "python",
   "nbconvert_exporter": "python",
   "pygments_lexer": "ipython3",
   "version": "3.5.2"
  }
 },
 "nbformat": 4,
 "nbformat_minor": 2
}
