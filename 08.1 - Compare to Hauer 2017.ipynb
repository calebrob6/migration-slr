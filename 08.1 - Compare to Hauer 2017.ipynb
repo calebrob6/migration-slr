{
 "cells": [
  {
   "cell_type": "code",
   "execution_count": 1,
   "metadata": {},
   "outputs": [],
   "source": [
    "%matplotlib inline\n",
    "%load_ext autoreload\n",
    "%autoreload 2\n",
    "import sys, os, time, math, csv\n",
    "import itertools\n",
    "import collections\n",
    "\n",
    "import numpy as np\n",
    "import pandas as pd\n",
    "\n",
    "import matplotlib\n",
    "import matplotlib.pyplot as plt\n",
    "\n",
    "#simple-maps\n",
    "sys.path.append(os.path.join(os.getcwd(),\"simple-maps\"))\n",
    "from simplemaps.SimpleFigures import simpleMap, differenceMap"
   ]
  },
  {
   "cell_type": "markdown",
   "metadata": {},
   "source": [
    "# Initial setup"
   ]
  },
  {
   "cell_type": "code",
   "execution_count": 2,
   "metadata": {},
   "outputs": [],
   "source": [
    "shapefile_fn = \"data/intermediate/boundary_shapefiles/cb_2015_us_county_500k.shp\"\n",
    "shapefile_key = \"GEOID\""
   ]
  },
  {
   "cell_type": "markdown",
   "metadata": {},
   "source": [
    "# Load data"
   ]
  },
  {
   "cell_type": "markdown",
   "metadata": {},
   "source": [
    "### Migration data"
   ]
  },
  {
   "cell_type": "code",
   "execution_count": 3,
   "metadata": {},
   "outputs": [],
   "source": [
    "f = open(\"data/processed/county_intersection_list_2004_2014.txt\")\n",
    "county_list = f.read().strip().split(\"\\n\")\n",
    "f.close()\n",
    "\n",
    "county_fips_to_idx = {fips:idx for idx, fips in enumerate(county_list)}\n",
    "num_counties = len(county_list)"
   ]
  },
  {
   "cell_type": "code",
   "execution_count": 5,
   "metadata": {},
   "outputs": [
    {
     "name": "stdout",
     "output_type": "stream",
     "text": [
      "SUMLEV,REGION,DIVISION,STATE,COUNTY,STNAME,CTYNAME,ESTIMATESBASE2000,POPESTIMATE2000,POPESTIMATE2001,POPESTIMATE2002,POPESTIMATE2003,POPESTIMATE2004,POPESTIMATE2005,POPESTIMATE2006,POPESTIMATE2007,POPESTIMATE2008,POPESTIMATE2009,CENSUS2010POP,POPESTIMATE2010\n"
     ]
    }
   ],
   "source": [
    "county_to_name = {}\n",
    "county_to_state = {}\n",
    "f = open(\"data/raw/co-est00int-tot.csv\", \"r\", encoding=\"latin-1\")\n",
    "print(f.readline().strip())\n",
    "for line in f:\n",
    "    parts = line.strip().split(\",\")\n",
    "    sumlev, region, division, state, county, stname, ctyname = parts[:7]\n",
    "    county_fips = \"%02d%03d\" % (int(state), int(county))\n",
    "    county_to_name[county_fips] = ctyname\n",
    "    county_to_state[county_fips] = stname\n",
    "f.close()"
   ]
  },
  {
   "cell_type": "markdown",
   "metadata": {},
   "source": [
    "### Per county features"
   ]
  },
  {
   "cell_type": "code",
   "execution_count": 7,
   "metadata": {},
   "outputs": [],
   "source": [
    "df_medium = pd.read_csv(\"data/processed/affected_population_medium.csv\")\n",
    "df_high = pd.read_csv(\"data/processed/affected_population_high.csv\")"
   ]
  },
  {
   "cell_type": "code",
   "execution_count": 8,
   "metadata": {},
   "outputs": [],
   "source": [
    "medium_years = [2055, 2080, 2100]\n",
    "high_years = [2042, 2059, 2071, 2082, 2091, 2100]\n",
    "\n",
    "medium_total_pop = [\n",
    "    df_medium[\"Total Population %d\" % (year)].values.reshape(-1,1)\n",
    "    for year in medium_years\n",
    "]\n",
    "medium_affected_pop = [\n",
    "    df_medium[\"Affected Population %d\" % (year)].values.reshape(-1,1)\n",
    "    for year in medium_years\n",
    "]\n",
    "medium_unaffected_pop = [\n",
    "    medium_total_pop[i] - medium_affected_pop[i]\n",
    "    for i in range(len(medium_years))\n",
    "]\n",
    "\n",
    "high_total_pop = [\n",
    "    df_high[\"Total Population %d\" % (year)].values.reshape(-1,1)\n",
    "    for year in high_years\n",
    "]\n",
    "high_affected_pop = [\n",
    "    df_high[\"Affected Population %d\" % (year)].values.reshape(-1,1)\n",
    "    for year in high_years\n",
    "]\n",
    "high_unaffected_pop = [\n",
    "    high_total_pop[i] - high_affected_pop[i]\n",
    "    for i in range(len(high_years))\n",
    "]"
   ]
  },
  {
   "cell_type": "code",
   "execution_count": 9,
   "metadata": {},
   "outputs": [],
   "source": [
    "medium_affected_counties = [\n",
    "    (affected_population > 0).reshape(-1)\n",
    "    for affected_population in medium_affected_pop\n",
    "]\n",
    "\n",
    "high_affected_counties = [\n",
    "    (affected_population > 0).reshape(-1)\n",
    "    for affected_population in high_affected_pop\n",
    "]"
   ]
  },
  {
   "cell_type": "markdown",
   "metadata": {},
   "source": [
    "# DL Results"
   ]
  },
  {
   "cell_type": "code",
   "execution_count": 10,
   "metadata": {},
   "outputs": [],
   "source": [
    "medium_baseline_migration = [np.load(\"output/dl_results/dl_medium_baseline_results_%d.npy\" % (year)) for year in medium_years]\n",
    "medium_affected_migration = [np.load(\"output/dl_results/dl_medium_affected_results_%d.npy\" % (year)) for year in medium_years]\n",
    "medium_ablation_migration = [np.load(\"output/dl_results/dl_medium_ablation_results_%d.npy\" % (year)) for year in medium_years]\n",
    "medium_affected_migration_flooded = [np.load(\"output/dl_results/dl_medium_affected_results_flooded_%d.npy\" % (year)) for year in medium_years]\n",
    "medium_affected_migration_unflooded = [np.load(\"output/dl_results/dl_medium_affected_results_unflooded_%d.npy\" % (year)) for year in medium_years]\n",
    "\n",
    "\n",
    "high_baseline_migration = [np.load(\"output/dl_results/dl_high_baseline_results_%d.npy\" % (year)) for year in high_years]\n",
    "high_affected_migration = [np.load(\"output/dl_results/dl_high_affected_results_%d.npy\" % (year)) for year in high_years]\n",
    "high_ablation_migration = [np.load(\"output/dl_results/dl_high_ablation_results_%d.npy\" % (year)) for year in high_years]\n",
    "high_affected_migration_flooded = [np.load(\"output/dl_results/dl_high_affected_results_flooded_%d.npy\" % (year)) for year in high_years]\n",
    "high_affected_migration_unflooded = [np.load(\"output/dl_results/dl_high_affected_results_unflooded_%d.npy\" % (year)) for year in high_years]\n",
    "\n",
    "model = \"dl\""
   ]
  },
  {
   "cell_type": "markdown",
   "metadata": {},
   "source": [
    "# ExtRad Results"
   ]
  },
  {
   "cell_type": "code",
   "execution_count": 17,
   "metadata": {},
   "outputs": [],
   "source": [
    "medium_baseline_migration = [np.load(\"output/extrad_results/extrad_medium_baseline_results_%d.npy\" % (year)) for year in medium_years]\n",
    "medium_affected_migration = [np.load(\"output/extrad_results/extrad_medium_affected_results_%d.npy\" % (year)) for year in medium_years]\n",
    "medium_ablation_migration = [np.load(\"output/extrad_results/extrad_medium_ablation_results_%d.npy\" % (year)) for year in medium_years]\n",
    "\n",
    "high_baseline_migration = [np.load(\"output/extrad_results/extrad_high_baseline_results_%d.npy\" % (year)) for year in high_years]\n",
    "high_affected_migration = [np.load(\"output/extrad_results/extrad_high_affected_results_%d.npy\" % (year)) for year in high_years]\n",
    "high_ablation_migration = [np.load(\"output/extrad_results/extrad_high_ablation_results_%d.npy\" % (year)) for year in high_years]\n",
    "\n",
    "model = \"extrad\""
   ]
  },
  {
   "cell_type": "markdown",
   "metadata": {},
   "source": [
    "# High"
   ]
  },
  {
   "cell_type": "code",
   "execution_count": 13,
   "metadata": {},
   "outputs": [
    {
     "name": "stdout",
     "output_type": "stream",
     "text": [
      "2042 0.8763683193818416\n",
      "2059 0.8396651641983258\n",
      "2071 0.8486799742433999\n",
      "2082 0.8721828718609144\n",
      "2091 0.9256278171281391\n",
      "2100 0.9993560849967804\n"
     ]
    }
   ],
   "source": [
    "for i,year in enumerate(high_years):\n",
    "\n",
    "    t_affected_incoming =  high_affected_migration[i].sum(axis=0)\n",
    "    t_baseline_incoming =  high_baseline_migration[i].sum(axis=0)\n",
    "    \n",
    "    count = 0\n",
    "    for j, county in enumerate(county_list):\n",
    "        if t_affected_incoming[j] - t_baseline_incoming[j] > 0:\n",
    "            count += 1\n",
    "            \n",
    "    print(year, count / float(len(county_list)))"
   ]
  },
  {
   "cell_type": "code",
   "execution_count": 15,
   "metadata": {},
   "outputs": [],
   "source": [
    "i, year = 5, 2100\n",
    "t_affected_incoming =  high_affected_migration_flooded[i].sum(axis=0)\n",
    "t_affected_outgoing =  high_affected_migration_flooded[i].sum(axis=1)\n",
    "t_baseline_incoming =  high_affected_migration_flooded[i].sum(axis=0)\n",
    "t_mapping = {}\n",
    "f = open(\"output/comparison_results_high.csv\",\"w\")\n",
    "f.write(\"County FIPS,County Name,County State,Incoming,Outgoing,Incoming-Outgoing\\n\")\n",
    "for j, county in enumerate(county_list):\n",
    "    f.write(\"%s,%s,%s,%f,%f,%f\\n\" % (\n",
    "        county, county_to_name[county], county_to_state[county],\n",
    "        t_affected_incoming[j], t_affected_outgoing[j], t_affected_incoming[j]-t_affected_outgoing[j]\n",
    "        )\n",
    "    )\n",
    "    \n",
    "    t_names = county_to_name[county].split(\" \")\n",
    "    if t_names[-1].lower() != \"city\":\n",
    "        t_name = \" \".join(t_names[:-1])\n",
    "    else:\n",
    "        t_name = \" \".join(t_names)\n",
    "    t_mapping[\"%s, %s\" % (t_name.lower(), county_to_state[county].lower())] = j\n",
    "    \n",
    "f.close()"
   ]
  },
  {
   "cell_type": "code",
   "execution_count": 20,
   "metadata": {},
   "outputs": [
    {
     "name": "stdout",
     "output_type": "stream",
     "text": [
      "['County', 'State', ' In-Migration ', ' Out-Migration ', ' Net Migration ', ' +/- ', ' Rank']\n"
     ]
    }
   ],
   "source": [
    "f = open(\"data/intermediate/nclimate3271-s2.csv\",\"r\")\n",
    "header_line = f.readline().strip().split(\",\")\n",
    "print(header_line)\n",
    "fixit = {\n",
    "    \"prince georges\": \"Prince George's\",\n",
    "    \"du page\": \"dupage\",\n",
    "    \"dona ana\": \"Do\\F1a Ana\", \n",
    "    #\"desoto\": \"de soto\",\n",
    "    \"radford\": \"radford city\",\n",
    "    \"la salle\": \"lasalle\",\n",
    "    \"la porte\": \"laporte\",\n",
    "    \"st marys\": \"st. mary's\",\n",
    "    \"queen annes\": \"queen anne's\"\n",
    "}\n",
    "hauer_incoming = collections.defaultdict(int)\n",
    "for line in f:\n",
    "    parts = line.strip().split(\",\")\n",
    "    incoming = 0 if parts[2].strip() == \"-\" else float(parts[2])\n",
    "    #print(parts)\n",
    "    \n",
    "    if parts[0].lower() in fixit:\n",
    "        parts[0] = fixit[parts[0].lower()]\n",
    "    else:\n",
    "    \n",
    "        if parts[0].lower().startswith(\"de \"):\n",
    "            parts[0] = parts[0].replace(\"De \", \"De\")\n",
    "        elif parts[0].lower().startswith(\"st \"):\n",
    "            parts[0] = parts[0].replace(\"St \", \"St. \")\n",
    "    \n",
    "    if parts[0].lower() == \"lasalle\" and parts[1].lower() == \"texas\":\n",
    "        parts[0] = \"la salle\"\n",
    "    if parts[0].lower() == \"desoto\" and parts[1].lower() == \"louisiana\":\n",
    "        parts[0] = \"de soto\"\n",
    "    \n",
    "    t_name = \"%s, %s\" % (parts[0].lower(), parts[1].lower())\n",
    "        \n",
    "    if t_name in t_mapping:\n",
    "        hauer_incoming[t_mapping[t_name]] = incoming"
   ]
  },
  {
   "cell_type": "code",
   "execution_count": 22,
   "metadata": {},
   "outputs": [
    {
     "data": {
      "text/plain": [
       "1724"
      ]
     },
     "execution_count": 22,
     "metadata": {},
     "output_type": "execute_result"
    }
   ],
   "source": [
    "len(hauer_incoming)"
   ]
  },
  {
   "cell_type": "code",
   "execution_count": 28,
   "metadata": {},
   "outputs": [],
   "source": [
    "dl_incoming =  high_affected_migration_flooded[-1].sum(axis=0)\n",
    "\n",
    "map_data = {\n",
    "    county: dl_incoming[j] - hauer_incoming[j]\n",
    "    for j, county in enumerate(county_list)\n",
    "}\n",
    "map_data[\"46102\"] = 0\n",
    "\n",
    "differenceMap(\n",
    "    shapefile_fn,\n",
    "    shapefile_key,\n",
    "    map_data,\n",
    "    outputFn=\"output/comparison_results_high.png\",\n",
    "    bounds=[22, 49, -119, -64],\n",
    "    title=\"Difference in incoming migrants between ANN and Hauer results\",\n",
    "    colorbarRange=(1e2, 1e6),\n",
    "    logScale=True,\n",
    "    dpi=300,\n",
    "    size=(7.5,7.5/2.0),\n",
    ")"
   ]
  },
  {
   "cell_type": "code",
   "execution_count": null,
   "metadata": {},
   "outputs": [],
   "source": []
  }
 ],
 "metadata": {
  "kernelspec": {
   "display_name": "Python 3",
   "language": "python",
   "name": "python3"
  },
  "language_info": {
   "codemirror_mode": {
    "name": "ipython",
    "version": 3
   },
   "file_extension": ".py",
   "mimetype": "text/x-python",
   "name": "python",
   "nbconvert_exporter": "python",
   "pygments_lexer": "ipython3",
   "version": "3.5.2"
  }
 },
 "nbformat": 4,
 "nbformat_minor": 1
}
