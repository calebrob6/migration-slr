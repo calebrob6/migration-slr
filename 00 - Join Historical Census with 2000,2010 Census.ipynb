{
 "cells": [
  {
   "cell_type": "code",
   "execution_count": 1,
   "metadata": {},
   "outputs": [],
   "source": [
    "%matplotlib inline\n",
    "%load_ext autoreload\n",
    "%autoreload 2\n",
    "import sys,os,time,math,csv\n",
    "import itertools\n",
    "import collections\n",
    "\n",
    "import numpy as np\n",
    "import pandas as pd\n",
    "import networkx as nx\n",
    "\n",
    "import matplotlib\n",
    "import matplotlib.pyplot as plt\n",
    "plt.style.use(\"ggplot\")"
   ]
  },
  {
   "cell_type": "markdown",
   "metadata": {},
   "source": [
    "### 2000 Population and Housing Units"
   ]
  },
  {
   "cell_type": "code",
   "execution_count": 2,
   "metadata": {},
   "outputs": [],
   "source": [
    "state_fips_to_name = {}\n",
    "state_name_to_fips = {}\n",
    "with open(\"data/state_fips.csv\", \"r\") as f:\n",
    "    for line in f:\n",
    "        line = line.strip()\n",
    "        if line != \"\":\n",
    "            parts = line.split(\",\")\n",
    "            state_fips_to_name[\"%02d\" % (int(parts[2]))] = parts[0]\n",
    "            state_name_to_fips[parts[0]] = \"%02d\" % (int(parts[2]))"
   ]
  },
  {
   "cell_type": "markdown",
   "metadata": {},
   "source": [
    "### 2010 Population and Housing Units"
   ]
  },
  {
   "cell_type": "code",
   "execution_count": 3,
   "metadata": {},
   "outputs": [
    {
     "name": "stdout",
     "output_type": "stream",
     "text": [
      "Loaded data for 3109 counties from 2010 census\n"
     ]
    }
   ],
   "source": [
    "historical_population = collections.OrderedDict()\n",
    "historical_housing_units = collections.OrderedDict()\n",
    "state_county_to_geo_county = dict()\n",
    "\n",
    "num_2010_counties = 0\n",
    "\n",
    "with open(\"data/R11632411_SL050.txt\", \"r\", encoding=\"latin-1\") as f:\n",
    "    reader = csv.DictReader(f, delimiter=\"\\t\")\n",
    "\n",
    "    for row in reader:\n",
    "        state_code = row[\"Geo_STATE\"]\n",
    "        county_code = row[\"Geo_COUNTY\"]\n",
    "        fips_code = row[\"Geo_FIPS\"]\n",
    "\n",
    "        if state_code in state_fips_to_name:\n",
    "        \n",
    "            state_name = state_fips_to_name[state_code]\n",
    "            county_name = row[\"Geo_NAME\"]\n",
    "            county_qname = row[\"Geo_QName\"]\n",
    "\n",
    "            population_in_housing_units = int(row[\"SF1_H0100001\"])\n",
    "            number_of_housing_units = int(row[\"SF1_H0010001\"])\n",
    "\n",
    "            if state_name not in historical_population:\n",
    "                historical_population[state_name] = collections.OrderedDict()\n",
    "                historical_housing_units[state_name] = collections.OrderedDict()\n",
    "                state_county_to_geo_county[state_name] = dict()\n",
    "\n",
    "            historical_population[state_name][county_name] = np.array(([0] * 7) + [population_in_housing_units])\n",
    "            historical_housing_units[state_name][county_name] = np.array(([0] * 7) + [number_of_housing_units])\n",
    "            state_county_to_geo_county[state_name][county_name] = county_code\n",
    "                        \n",
    "            num_2010_counties += 1\n",
    "            \n",
    "print(\"Loaded data for %d counties from 2010 census\" % (num_2010_counties))"
   ]
  },
  {
   "cell_type": "markdown",
   "metadata": {},
   "source": [
    "### 2000 Population and Housing Units"
   ]
  },
  {
   "cell_type": "code",
   "execution_count": 4,
   "metadata": {},
   "outputs": [
    {
     "name": "stdout",
     "output_type": "stream",
     "text": [
      "Virginia Clifton Forge city not found in the 2010 data, adding.\n",
      "Loaded data for 3109 counties from 2000 census\n"
     ]
    }
   ],
   "source": [
    "mapping_2000_2010 = {\n",
    "    \"La Salle County\" : \"LaSalle County\",\n",
    "    \"Dona Ana County\" : \"Doña Ana County\"\n",
    "}\n",
    "\n",
    "num_2000_counties = 0\n",
    "\n",
    "with open(\"data/R11631788_SL050.txt\", \"r\", encoding=\"latin-1\") as f:\n",
    "    reader = csv.DictReader(f, delimiter=\"\\t\")\n",
    "\n",
    "    for row in reader:\n",
    "        state_code = row[\"Geo_STATE\"]\n",
    "        county_code = row[\"Geo_COUNTY\"]\n",
    "        fips_code = row[\"Geo_FIPS\"]\n",
    "\n",
    "        if state_code in state_fips_to_name:\n",
    "        \n",
    "            state_name = state_fips_to_name[state_code]\n",
    "            county_name = row[\"Geo_NAME\"]\n",
    "            county_qname = row[\"Geo_QName\"]\n",
    "\n",
    "            population_in_housing_units = int(row[\"SF1_H010001\"])\n",
    "            number_of_housing_units = int(row[\"SF1_H001001\"])\n",
    "\n",
    "            #if state_name not in historical_population:\n",
    "            #    historical_population[state_name] = collections.OrderedDict()\n",
    "            #    historical_housing_units[state_name] = collections.OrderedDict()\n",
    "            #    state_county_to_geo_county[state_name] = dict()\n",
    "\n",
    "            assert state_name in historical_population\n",
    "            \n",
    "            if not county_name in historical_housing_units[state_name]:\n",
    "                \n",
    "                if county_name in mapping_2000_2010:\n",
    "                    county_name = mapping_2000_2010[county_name]\n",
    "                    assert state_county_to_geo_county[state_name][county_name] == county_code\n",
    "            \n",
    "                    historical_population[state_name][county_name][-2] = population_in_housing_units\n",
    "                    historical_housing_units[state_name][county_name][-2] = number_of_housing_units\n",
    "                else:\n",
    "                    print(state_name, county_name, \"not found in the 2010 data, adding.\")\n",
    "                    \n",
    "                    historical_population[state_name][county_name] = np.zeros(8)\n",
    "                    historical_population[state_name][county_name][-2] = population_in_housing_units\n",
    "                    \n",
    "                    historical_housing_units[state_name][county_name] = np.zeros(8)\n",
    "                    historical_housing_units[state_name][county_name][-2] = number_of_housing_units\n",
    "                    \n",
    "                    state_county_to_geo_county[state_name][county_name] = county_code\n",
    "            else:\n",
    "                \n",
    "                historical_population[state_name][county_name][-2] = population_in_housing_units\n",
    "                historical_housing_units[state_name][county_name][-2] = number_of_housing_units\n",
    "                \n",
    "                assert state_county_to_geo_county[state_name][county_name] == county_code\n",
    "                        \n",
    "            num_2000_counties += 1\n",
    "            \n",
    "print(\"Loaded data for %d counties from 2000 census\" % (num_2000_counties))"
   ]
  },
  {
   "cell_type": "markdown",
   "metadata": {},
   "source": [
    "### 1940-1990 Population and Housing Units"
   ]
  },
  {
   "cell_type": "code",
   "execution_count": 5,
   "metadata": {},
   "outputs": [],
   "source": [
    "f = open(\"data/Population and Housing Units: 1940 to 1990.csv\", \"r\")\n",
    "f.readline()\n",
    "f.readline()\n",
    "lines = map(str.strip, f.read().strip().split(\"\\n\"))\n",
    "data = []\n",
    "for line in lines:\n",
    "    if line != \"\":\n",
    "        parts = line.split(\",\")\n",
    "        if not all([parts[i] == \"\" for i in range(len(parts))]):\n",
    "            data.append(line.split(\",\"))\n",
    "f.close()"
   ]
  },
  {
   "cell_type": "code",
   "execution_count": 6,
   "metadata": {},
   "outputs": [
    {
     "name": "stdout",
     "output_type": "stream",
     "text": [
      "Loaded data for 3111 historical counties from 1940-1990 censuses\n"
     ]
    }
   ],
   "source": [
    "historical_county_name_mapping = {\n",
    "    \"Dade County\" : \"Miami-Dade County\",\n",
    "    \"De Kalb County\" : \"DeKalb County\",\n",
    "    \"Lagrange County\" : \"LaGrange County\",\n",
    "    \"La Salle County\" : \"LaSalle County\",\n",
    "    \"Dona Ana County\" : \"Doña Ana County\",\n",
    "    \"La Porte County\" : \"LaPorte County\",\n",
    "    \"O’Brien County\" : \"O'Brien County\",\n",
    "    \"Prince George’s County\" : \"Prince George's County\",\n",
    "    \"Queen Anne’s County\" : \"Queen Anne's County\",\n",
    "    \"St. Mary’s County\" : \"St. Mary's County\",\n",
    "    #\"Yellowstone National Park\" : \"\", # not sure what the deal is, adding it to Park County\n",
    "    \"DeBaca County\" : \"De Baca County\",\n",
    "    \"Mc Kean County\" : \"McKean County\",\n",
    "    #\"South Boston city\" : \"\" #rejoined Halifax County in 1995\n",
    "    #\"La Porte County\" : \"\"\n",
    "}\n",
    "\n",
    "num_historical_counties = 0\n",
    "\n",
    "current_state = \"\"\n",
    "for parts in data:\n",
    "    if all([parts[i] == \"\" for i in range(1,len(parts))]):\n",
    "        current_state = parts[0]\n",
    "        assert current_state in historical_population\n",
    "        assert current_state in historical_housing_units\n",
    "    else:\n",
    "        county_name = parts[0]\n",
    "        \n",
    "        population = np.array(list(map(int, parts[1:7])))\n",
    "        housing_units = np.array(list(map(int, parts[7:13])))\n",
    "        \n",
    "        if not county_name in historical_population[current_state]:\n",
    "            ''' Handle special cases that are in the 1940-1990 historical data but not in the 2000 census data\n",
    "            '''\n",
    "            if county_name in historical_county_name_mapping:\n",
    "                county_name = historical_county_name_mapping[county_name]\n",
    "                historical_population[current_state][county_name][0:6] += population[::-1]\n",
    "                historical_housing_units[current_state][county_name][0:6] += housing_units[::-1]\n",
    "                \n",
    "            elif county_name == \"Yellowstone National Park\":\n",
    "                county_name = \"Park County\"\n",
    "                historical_population[current_state][county_name][0:6] += population[::-1]\n",
    "                historical_housing_units[current_state][county_name][0:6] += housing_units[::-1]\n",
    "                \n",
    "            elif county_name == \"South Boston city\":\n",
    "                county_name = \"Halifax County\"\n",
    "                historical_population[current_state][county_name][0:6] += population[::-1]\n",
    "                historical_housing_units[current_state][county_name][0:6] += housing_units[::-1]\n",
    "                \n",
    "            else:\n",
    "                print(county_name)\n",
    "                raise ValueError(\"Unrecognized county\")            \n",
    "        else:\n",
    "            historical_population[current_state][county_name][0:6] += population[::-1]\n",
    "            historical_housing_units[current_state][county_name][0:6] += housing_units[::-1]\n",
    "            \n",
    "        num_historical_counties += 1\n",
    "\n",
    "print(\"Loaded data for %d historical counties from 1940-1990 censuses\" % (num_historical_counties))"
   ]
  },
  {
   "cell_type": "markdown",
   "metadata": {},
   "source": [
    "### Save historical county data"
   ]
  },
  {
   "cell_type": "code",
   "execution_count": 7,
   "metadata": {},
   "outputs": [],
   "source": [
    "f = open(\"data/historical_housing_units.csv\", \"w\")\n",
    "f.write(\"State_name,County_name,Geo_STATE,Geo_COUNTY,Geo_FIPS,hu_1940,hu_1950,hu_1960,hu_1970,hu_1980,hu_1990,hu_2000,hu_2010\\n\")\n",
    "for state_name, county_dict in historical_housing_units.items():\n",
    "    for county_name, data_list in county_dict.items():\n",
    "        state_code = state_name_to_fips[state_name]\n",
    "        county_code = state_county_to_geo_county[state_name][county_name]\n",
    "        fips_code = state_code + county_code\n",
    "        f.write(\"%s,%s,%s,%s,%s,\" % (state_name, county_name, state_code, county_code, fips_code))\n",
    "        f.write(\"%s\\n\" % (\",\".join(map(str, data_list))))\n",
    "f.close()\n",
    "\n",
    "f = open(\"data/historical_population.csv\", \"w\")\n",
    "f.write(\"State_name,County_name,Geo_STATE,Geo_COUNTY,Geo_FIPS,pop_1940,pop_1950,pop_1960,pop_1970,pop_1980,pop_1990,pop_2000,pop_2010\\n\")\n",
    "for state_name, county_dict in historical_population.items():\n",
    "    for county_name, data_list in county_dict.items():\n",
    "        state_code = state_name_to_fips[state_name]\n",
    "        county_code = state_county_to_geo_county[state_name][county_name]\n",
    "        fips_code = state_code + county_code\n",
    "        f.write(\"%s,%s,%s,%s,%s,\" % (state_name, county_name, state_code, county_code, fips_code))\n",
    "        f.write(\"%s\\n\" % (\",\".join(map(str, data_list))))\n",
    "f.close()"
   ]
  }
 ],
 "metadata": {
  "kernelspec": {
   "display_name": "Python 3",
   "language": "python",
   "name": "python3"
  },
  "language_info": {
   "codemirror_mode": {
    "name": "ipython",
    "version": 3
   },
   "file_extension": ".py",
   "mimetype": "text/x-python",
   "name": "python",
   "nbconvert_exporter": "python",
   "pygments_lexer": "ipython3",
   "version": "3.5.2"
  }
 },
 "nbformat": 4,
 "nbformat_minor": 2
}
