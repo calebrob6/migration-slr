{
 "cells": [
  {
   "cell_type": "code",
   "execution_count": 1,
   "metadata": {},
   "outputs": [],
   "source": [
    "%matplotlib inline\n",
    "%load_ext autoreload\n",
    "%autoreload 2\n",
    "import sys, os, time, math, csv\n",
    "import itertools\n",
    "import collections\n",
    "\n",
    "import numpy as np\n",
    "np.warnings.filterwarnings('ignore')\n",
    "import pandas as pd\n",
    "\n",
    "import matplotlib\n",
    "import matplotlib.pyplot as plt\n",
    "\n",
    "import scipy.optimize\n",
    "\n",
    "from sklearn.metrics import mean_absolute_error, mean_squared_error, median_absolute_error, r2_score\n",
    "from sklearn.linear_model import LinearRegression\n",
    "from sklearn.svm import LinearSVR\n",
    "from sklearn.model_selection import KFold\n",
    "\n",
    "import MigrationModels\n",
    "import MigrationEvaluationMethods\n",
    "\n",
    "#simple-maps\n",
    "sys.path.append(os.path.join(os.getcwd(),\"simple-maps\"))\n",
    "from simplemaps.SimpleFigures import simpleMap, differenceMap"
   ]
  },
  {
   "cell_type": "code",
   "execution_count": 39,
   "metadata": {},
   "outputs": [],
   "source": [
    "import keras\n",
    "import keras.backend as K\n",
    "from keras.optimizers import SGD, Adam\n",
    "from keras.models import Model\n",
    "from keras.layers import Dense, Dropout, AlphaDropout, Input, BatchNormalization, Activation\n",
    "from keras.wrappers.scikit_learn import KerasRegressor\n",
    "from keras.callbacks import EarlyStopping\n",
    "\n",
    "from sklearn.preprocessing import StandardScaler\n",
    "from sklearn.externals import joblib"
   ]
  },
  {
   "cell_type": "markdown",
   "metadata": {},
   "source": [
    "# Initial setup"
   ]
  },
  {
   "cell_type": "code",
   "execution_count": 2,
   "metadata": {},
   "outputs": [],
   "source": [
    "years = range(2004, 2014 + 1)"
   ]
  },
  {
   "cell_type": "code",
   "execution_count": 3,
   "metadata": {},
   "outputs": [],
   "source": [
    "shapefile_fn = \"data/intermediate/boundary_shapefiles/cb_2015_us_county_500k.shp\"\n",
    "shapefile_key = \"GEOID\""
   ]
  },
  {
   "cell_type": "markdown",
   "metadata": {},
   "source": [
    "# Load data"
   ]
  },
  {
   "cell_type": "markdown",
   "metadata": {},
   "source": [
    "### Migration data"
   ]
  },
  {
   "cell_type": "code",
   "execution_count": 4,
   "metadata": {},
   "outputs": [],
   "source": [
    "migration_matrices = [\n",
    "    np.load(\"data/processed/migration/migration_matrix_%d.npy\" % (year))\n",
    "    for year in years\n",
    "]\n",
    "\n",
    "for migration_matrix in migration_matrices:\n",
    "    np.fill_diagonal(migration_matrix, 0.0)\n",
    "\n",
    "f = open(\"data/processed/county_intersection_list_2004_2014.txt\")\n",
    "county_list = f.read().strip().split(\"\\n\")\n",
    "f.close()\n",
    "\n",
    "county_fips_to_idx = {fips:idx for idx, fips in enumerate(county_list)}\n",
    "num_counties = len(county_list)"
   ]
  },
  {
   "cell_type": "code",
   "execution_count": 5,
   "metadata": {},
   "outputs": [],
   "source": [
    "f = open(\"data/processed/hurricane_affected_counties.csv\", \"r\")\n",
    "flooded_counties = f.read().strip().split(\"\\n\")\n",
    "f.close()\n",
    "\n",
    "unflooded_counties = [fips for fips in county_list if fips not in flooded_counties]\n",
    "\n",
    "flooded_county_idxs = np.array([county_fips_to_idx[fips] for fips in flooded_counties])\n",
    "unflooded_county_idxs = np.array([county_fips_to_idx[fips] for fips in unflooded_counties])\n",
    "\n",
    "all_county_idxs = np.array(list(range(num_counties)))"
   ]
  },
  {
   "cell_type": "markdown",
   "metadata": {},
   "source": [
    "### Per county features"
   ]
  },
  {
   "cell_type": "code",
   "execution_count": 6,
   "metadata": {},
   "outputs": [],
   "source": [
    "population_by_year = pd.read_csv(\"data/processed/county_population_2004_2014.csv\", dtype={\"FIPS\":str})\n",
    "population_by_year = population_by_year.set_index(\"FIPS\")\n",
    "\n",
    "population_vectors_by_year = [population_by_year[\"POPESTIMATE%d\" % (year)].values.reshape(-1,1) for year in years]"
   ]
  },
  {
   "cell_type": "markdown",
   "metadata": {},
   "source": [
    "### Extra features"
   ]
  },
  {
   "cell_type": "code",
   "execution_count": 7,
   "metadata": {},
   "outputs": [],
   "source": [
    "distances = np.load(\"data/processed/county_distance_matrix.npy\")"
   ]
  },
  {
   "cell_type": "code",
   "execution_count": 8,
   "metadata": {},
   "outputs": [],
   "source": [
    "intervening_population_opportunities = []\n",
    "for i in range(len(years)):\n",
    "    s = MigrationModels.getInterveningOpportunities(population_vectors_by_year[i], distances)\n",
    "    intervening_population_opportunities.append(s)"
   ]
  },
  {
   "cell_type": "markdown",
   "metadata": {},
   "source": [
    "# Experiments"
   ]
  },
  {
   "cell_type": "code",
   "execution_count": 9,
   "metadata": {},
   "outputs": [],
   "source": [
    "def get_full_dataset(year_idx, origin_list, destination_list, model=None):\n",
    "\n",
    "    origin_pop = population_vectors_by_year[year_idx][origin_list,:].astype(float)\n",
    "    destination_pop = population_vectors_by_year[year_idx][destination_list,:].astype(float)\n",
    "    S = intervening_population_opportunities[year_idx][origin_list,:][:,destination_list].astype(float)\n",
    "    D = distances[origin_list,:][:,destination_list].astype(float)\n",
    "    T = migration_matrices[year_idx][origin_list,:][:,destination_list].astype(float)\n",
    "\n",
    "    t_model = LinearRegression(fit_intercept=False)\n",
    "    t_model.fit(origin_pop, T.sum(axis=1))\n",
    "    beta = t_model.coef_[0]\n",
    "\n",
    "    args = {\n",
    "        \"origin_pop\": origin_pop,\n",
    "        \"destination_pop\": destination_pop,\n",
    "        \"S\": S,\n",
    "        \"D\": D,\n",
    "        \"T\": T,\n",
    "        \"beta\": beta,\n",
    "        \"model\": model\n",
    "    }\n",
    "    return args"
   ]
  },
  {
   "cell_type": "code",
   "execution_count": 25,
   "metadata": {},
   "outputs": [],
   "source": [
    "def get_pairs_from_full_dataset(args):\n",
    "    \n",
    "    origin_pop = args[\"origin_pop\"]\n",
    "    destination_pop = args[\"destination_pop\"]\n",
    "    S = args[\"S\"]\n",
    "    D = args[\"D\"]\n",
    "    T = args[\"T\"]\n",
    "    \n",
    "    num_rows, num_cols = origin_pop.shape[0], destination_pop.shape[0]\n",
    "    num_entries = num_rows * num_cols\n",
    "    num_features = 4\n",
    "    \n",
    "    X = np.zeros((num_entries, num_features), dtype=float)\n",
    "    Y = np.zeros(num_entries, dtype=float)    \n",
    "    \n",
    "    for i in range(num_rows):\n",
    "        for j in range(num_cols):\n",
    "            \n",
    "            idx = (i*num_cols) + j\n",
    "            \n",
    "            origin_idx = i\n",
    "            dest_idx = j\n",
    "            \n",
    "            X[idx,:] = [\n",
    "                origin_pop[origin_idx],\n",
    "                destination_pop[dest_idx],\n",
    "                D[origin_idx, dest_idx],\n",
    "                S[origin_idx, dest_idx],\n",
    "            ]\n",
    "            \n",
    "            Y[idx] = T[origin_idx, dest_idx]\n",
    "\n",
    "    return X, Y"
   ]
  },
  {
   "cell_type": "code",
   "execution_count": 53,
   "metadata": {},
   "outputs": [],
   "source": [
    "def run_traditional_models(alpha, args):\n",
    "    model = args[\"model\"]\n",
    "    origin_pop, destination_pop = args[\"origin_pop\"], args[\"destination_pop\"]\n",
    "    S, D, T = args[\"S\"], args[\"D\"], args[\"T\"]\n",
    "    beta = args[\"beta\"]\n",
    "    \n",
    "    if model == \"extrad\":\n",
    "        P = MigrationModels.extendedRadiationModel(origin_pop, destination_pop, S, alpha)\n",
    "    elif model == \"rad\":\n",
    "        P = MigrationModels.radiationModel(origin_pop, destination_pop, S)\n",
    "    elif model == \"gravpow\":\n",
    "        P = MigrationModels.gravityModel(origin_pop, destination_pop, D, alpha, decay=\"power\")\n",
    "    elif model == \"gravexp\":\n",
    "        P = MigrationModels.gravityModel(origin_pop, destination_pop, D, alpha, decay=\"exponential\")\n",
    "    \n",
    "    P = MigrationModels.row_normalize(P)\n",
    "    T_pred = MigrationModels.productionFunction(origin_pop, P, beta=beta)\n",
    "    \n",
    "    return T, T_pred\n",
    "\n",
    "def fit_traditional_models(alpha, args):\n",
    "    T, T_pred = run_traditional_models(alpha, args)\n",
    "    \n",
    "    score = MigrationEvaluationMethods.cpc(T, T_pred)    \n",
    "    return -score\n",
    "    \n",
    "def evaluate_traditional_models(alpha, beta, args):\n",
    "    args[\"beta\"] = beta\n",
    "    T, T_pred = run_traditional_models(alpha, args)\n",
    "    D = args[\"D\"]\n",
    "    \n",
    "    return MigrationEvaluationMethods.evaluate_all(T, T_pred, D)"
   ]
  },
  {
   "cell_type": "markdown",
   "metadata": {},
   "source": [
    "## Traditional models"
   ]
  },
  {
   "cell_type": "markdown",
   "metadata": {},
   "source": [
    "### Flooded to Unflooded"
   ]
  },
  {
   "cell_type": "code",
   "execution_count": 18,
   "metadata": {},
   "outputs": [],
   "source": [
    "models = [\n",
    "    \"gravexp\",\n",
    "    \"gravpow\",\n",
    "    \"rad\",\n",
    "    \"extrad\"\n",
    "]"
   ]
  },
  {
   "cell_type": "code",
   "execution_count": 15,
   "metadata": {
    "scrolled": true
   },
   "outputs": [
    {
     "name": "stdout",
     "output_type": "stream",
     "text": [
      "Flooded to Unflooded\n",
      "gravexp\n",
      "\tgravexp,0.0044,0.408,0.449,7.742,0.200,7.742,0.200\n"
     ]
    },
    {
     "name": "stderr",
     "output_type": "stream",
     "text": [
      "/home/caleb/code/migration-slr/MigrationModels.py:130: RuntimeWarning: overflow encountered in exp\n",
      "  denominator = np.exp(d*alpha)\n",
      "/home/caleb/code/migration-slr/MigrationModels.py:130: RuntimeWarning: overflow encountered in exp\n",
      "  denominator = np.exp(d*alpha)\n"
     ]
    },
    {
     "name": "stdout",
     "output_type": "stream",
     "text": [
      "\tgravexp,0.0050,0.500,0.524,38.544,0.429,38.544,0.429\n",
      "\tgravexp,0.0048,0.084,0.084,0.685,-0.027,0.685,-0.027\n",
      "\tgravexp,0.0047,0.331,0.352,1.500,0.418,1.500,0.418\n"
     ]
    },
    {
     "name": "stderr",
     "output_type": "stream",
     "text": [
      "/home/caleb/code/migration-slr/MigrationModels.py:130: RuntimeWarning: overflow encountered in exp\n",
      "  denominator = np.exp(d*alpha)\n",
      "/home/caleb/code/migration-slr/MigrationModels.py:130: RuntimeWarning: overflow encountered in exp\n",
      "  denominator = np.exp(d*alpha)\n",
      "/home/caleb/code/migration-slr/MigrationModels.py:130: RuntimeWarning: overflow encountered in exp\n",
      "  denominator = np.exp(d*alpha)\n"
     ]
    },
    {
     "name": "stdout",
     "output_type": "stream",
     "text": [
      "\tgravexp,0.0047,0.370,0.417,0.942,0.275,0.942,0.275\n",
      "\tgravexp,0.0048,0.565,0.591,12.487,0.638,12.487,0.638\n",
      "\tgravexp,0.0047,0.465,0.512,6.174,0.214,6.174,0.214\n",
      "gravpow\n"
     ]
    },
    {
     "name": "stderr",
     "output_type": "stream",
     "text": [
      "/home/caleb/code/migration-slr/MigrationModels.py:130: RuntimeWarning: overflow encountered in exp\n",
      "  denominator = np.exp(d*alpha)\n",
      "/home/caleb/code/migration-slr/MigrationModels.py:130: RuntimeWarning: overflow encountered in exp\n",
      "  denominator = np.exp(d*alpha)\n"
     ]
    },
    {
     "name": "stdout",
     "output_type": "stream",
     "text": [
      "\tgravpow,1.5511,0.344,0.384,8.571,0.267,8.571,0.267\n",
      "\tgravpow,1.8035,0.448,0.473,42.580,-0.008,42.580,-0.008\n",
      "\tgravpow,1.6082,0.156,0.156,0.631,0.202,0.631,0.202\n",
      "\tgravpow,1.5992,0.258,0.274,1.664,0.347,1.664,0.347\n",
      "\tgravpow,1.6073,0.366,0.402,0.948,0.449,0.948,0.449\n",
      "\tgravpow,1.6358,0.569,0.603,12.387,0.432,12.387,0.432\n",
      "\tgravpow,1.5697,0.478,0.535,6.016,0.468,6.016,0.468\n",
      "rad\n",
      "\trad,1.0000,0.571,0.590,5.604,0.734,5.604,0.734\n",
      "\trad,1.0000,0.347,0.360,50.346,-0.364,50.346,-0.364\n",
      "\trad,1.0000,0.674,0.674,0.244,0.742,0.244,0.742\n",
      "\trad,1.0000,0.459,0.485,1.213,0.334,1.213,0.334\n",
      "\trad,1.0000,0.470,0.481,0.793,-1.432,0.793,-1.432\n",
      "\trad,1.0000,0.418,0.430,16.713,-0.562,16.713,-0.562\n",
      "\trad,1.0000,0.346,0.354,7.547,-1.032,7.547,-1.032\n",
      "extrad\n"
     ]
    },
    {
     "name": "stderr",
     "output_type": "stream",
     "text": [
      "/home/caleb/code/migration-slr/MigrationModels.py:32: RuntimeWarning: invalid value encountered in true_divide\n",
      "  return P / P.sum(axis=1, keepdims=True)\n"
     ]
    },
    {
     "name": "stdout",
     "output_type": "stream",
     "text": [
      "\textrad,0.8393,0.551,0.573,5.866,0.673,5.866,0.673\n",
      "\textrad,0.2366,0.499,0.527,38.605,0.353,38.605,0.353\n",
      "\textrad,0.1229,0.509,0.509,0.367,0.800,0.367,0.800\n",
      "\textrad,0.1231,0.325,0.342,1.513,0.440,1.513,0.440\n",
      "\textrad,0.1242,0.441,0.480,0.837,0.564,0.837,0.564\n"
     ]
    },
    {
     "name": "stderr",
     "output_type": "stream",
     "text": [
      "/home/caleb/code/migration-slr/MigrationModels.py:32: RuntimeWarning: invalid value encountered in true_divide\n",
      "  return P / P.sum(axis=1, keepdims=True)\n"
     ]
    },
    {
     "name": "stdout",
     "output_type": "stream",
     "text": [
      "\textrad,0.1232,0.589,0.621,11.811,0.601,11.811,0.601\n",
      "\textrad,0.1129,0.503,0.552,5.732,0.573,5.732,0.573\n"
     ]
    }
   ],
   "source": [
    "print(\"Flooded to Unflooded\")\n",
    "flooded_to_unflooded_cv = {}\n",
    "for model in models:\n",
    "    print(model)\n",
    "    results = []\n",
    "    \n",
    "    for county in flooded_county_idxs:\n",
    "        \n",
    "        t_train_counties = list(set(flooded_county_idxs) - set([county]))\n",
    "        t_test_counties = [county]\n",
    "    \n",
    "        # Train\n",
    "        args = get_full_dataset(1, t_train_counties, unflooded_county_idxs, model=model)\n",
    "\n",
    "        opt_result = scipy.optimize.minimize(fit_traditional_models, x0=[1.0], args=args, bounds=[[0,3]])\n",
    "        alpha = opt_result.x[0]\n",
    "        beta = args[\"beta\"]\n",
    "        \n",
    "        # Test\n",
    "        args = get_full_dataset(1, t_test_counties, unflooded_county_idxs, model=model)\n",
    "        scores = evaluate_traditional_models(alpha, beta, args)\n",
    "\n",
    "        #print(\"\\t%s,%0.4f,%0.3f,%0.3f,%0.3f,%0.3f,%0.3f,%0.3f\" % (model, alpha, scores[0], scores[1], scores[2], scores[3], scores[4], scores[5]))\n",
    "        results.append((alpha, beta, scores[0], scores[1], scores[2], scores[3], scores[4], scores[5]))\n",
    "        \n",
    "    flooded_to_unflooded_cv[model] = results"
   ]
  },
  {
   "cell_type": "code",
   "execution_count": 16,
   "metadata": {},
   "outputs": [
    {
     "name": "stdout",
     "output_type": "stream",
     "text": [
      "Migration Model,Best Alpha,CPC,CPC_d,MAE,R2,MAE,R2\n",
      "rad,1.0000 (0.0000),0.1674 (0.0326),0.4692 (0.1104),0.4820 (0.1087),11.7799 (16.6184),-0.2258 (0.7936),11.7799 (16.6184),-0.2258 (0.7936),\n",
      "gravexp,0.0047 (0.0002),0.1674 (0.0326),0.3889 (0.1446),0.4184 (0.1544),9.7246 (12.4281),0.3068 (0.1964),9.7246 (12.4281),0.3068 (0.1964),\n",
      "gravpow,1.6250 (0.0772),0.1674 (0.0326),0.3742 (0.1288),0.4038 (0.1414),10.3996 (13.7485),0.3081 (0.1584),10.3996 (13.7485),0.3081 (0.1584),\n",
      "extrad,0.2403 (0.2478),0.1674 (0.0326),0.4882 (0.0790),0.5149 (0.0820),9.2474 (12.5452),0.5719 (0.1355),9.2474 (12.5452),0.5719 (0.1355),\n"
     ]
    }
   ],
   "source": [
    "print(\"Migration Model,Best Alpha,CPC,CPC_d,MAE,R2,MAE,R2\")\n",
    "for model, values in flooded_to_unflooded_cv.items():\n",
    "    print(model, end=\",\")\n",
    "    values = np.array(values)\n",
    "    means = values.mean(axis=0)\n",
    "    stds = values.std(axis=0)\n",
    "\n",
    "    for i in range(means.shape[0]):\n",
    "        print(\"%0.4f (%0.4f),\" % (means[i], stds[i]), end=\"\")\n",
    "    print(\"\")"
   ]
  },
  {
   "cell_type": "markdown",
   "metadata": {},
   "source": [
    "### All to all"
   ]
  },
  {
   "cell_type": "code",
   "execution_count": 20,
   "metadata": {},
   "outputs": [
    {
     "name": "stdout",
     "output_type": "stream",
     "text": [
      "gravexp\n"
     ]
    },
    {
     "name": "stderr",
     "output_type": "stream",
     "text": [
      "/home/caleb/code/migration-slr/MigrationModels.py:130: RuntimeWarning: overflow encountered in exp\n",
      "  denominator = np.exp(d*alpha)\n",
      "/home/caleb/code/migration-slr/MigrationModels.py:130: RuntimeWarning: overflow encountered in exp\n",
      "  denominator = np.exp(d*alpha)\n",
      "/home/caleb/code/migration-slr/MigrationModels.py:130: RuntimeWarning: overflow encountered in exp\n",
      "  denominator = np.exp(d*alpha)\n",
      "/home/caleb/code/migration-slr/MigrationModels.py:130: RuntimeWarning: overflow encountered in exp\n",
      "  denominator = np.exp(d*alpha)\n",
      "/home/caleb/code/migration-slr/MigrationModels.py:130: RuntimeWarning: overflow encountered in exp\n",
      "  denominator = np.exp(d*alpha)\n",
      "/home/caleb/code/migration-slr/MigrationModels.py:130: RuntimeWarning: overflow encountered in exp\n",
      "  denominator = np.exp(d*alpha)\n",
      "/home/caleb/code/migration-slr/MigrationModels.py:130: RuntimeWarning: overflow encountered in exp\n",
      "  denominator = np.exp(d*alpha)\n",
      "/home/caleb/code/migration-slr/MigrationModels.py:130: RuntimeWarning: overflow encountered in exp\n",
      "  denominator = np.exp(d*alpha)\n",
      "/home/caleb/code/migration-slr/MigrationModels.py:130: RuntimeWarning: overflow encountered in exp\n",
      "  denominator = np.exp(d*alpha)\n",
      "/home/caleb/code/migration-slr/MigrationModels.py:130: RuntimeWarning: overflow encountered in exp\n",
      "  denominator = np.exp(d*alpha)\n",
      "/home/caleb/code/migration-slr/MigrationModels.py:130: RuntimeWarning: overflow encountered in exp\n",
      "  denominator = np.exp(d*alpha)\n"
     ]
    },
    {
     "name": "stdout",
     "output_type": "stream",
     "text": [
      "\t [ 2.12698724e-02  3.56647768e-02  3.40786679e-01  4.06317877e-01\n",
      "  2.19109070e+00 -7.30525613e+00  5.77072191e+02  1.39107742e-01]\n"
     ]
    },
    {
     "name": "stderr",
     "output_type": "stream",
     "text": [
      "/home/caleb/code/migration-slr/MigrationModels.py:130: RuntimeWarning: overflow encountered in exp\n",
      "  denominator = np.exp(d*alpha)\n",
      "/home/caleb/code/migration-slr/MigrationModels.py:130: RuntimeWarning: overflow encountered in exp\n",
      "  denominator = np.exp(d*alpha)\n",
      "/home/caleb/code/migration-slr/MigrationModels.py:130: RuntimeWarning: overflow encountered in exp\n",
      "  denominator = np.exp(d*alpha)\n",
      "/home/caleb/code/migration-slr/MigrationModels.py:130: RuntimeWarning: overflow encountered in exp\n",
      "  denominator = np.exp(d*alpha)\n",
      "/home/caleb/code/migration-slr/MigrationModels.py:130: RuntimeWarning: overflow encountered in exp\n",
      "  denominator = np.exp(d*alpha)\n",
      "/home/caleb/code/migration-slr/MigrationModels.py:130: RuntimeWarning: overflow encountered in exp\n",
      "  denominator = np.exp(d*alpha)\n",
      "/home/caleb/code/migration-slr/MigrationModels.py:130: RuntimeWarning: overflow encountered in exp\n",
      "  denominator = np.exp(d*alpha)\n",
      "/home/caleb/code/migration-slr/MigrationModels.py:130: RuntimeWarning: overflow encountered in exp\n",
      "  denominator = np.exp(d*alpha)\n",
      "/home/caleb/code/migration-slr/MigrationModels.py:130: RuntimeWarning: overflow encountered in exp\n",
      "  denominator = np.exp(d*alpha)\n",
      "/home/caleb/code/migration-slr/MigrationModels.py:130: RuntimeWarning: overflow encountered in exp\n",
      "  denominator = np.exp(d*alpha)\n",
      "/home/caleb/code/migration-slr/MigrationModels.py:130: RuntimeWarning: overflow encountered in exp\n",
      "  denominator = np.exp(d*alpha)\n"
     ]
    },
    {
     "name": "stdout",
     "output_type": "stream",
     "text": [
      "\t [1.31539888e-02 3.17404956e-02 3.84495738e-01 5.00448427e-01\n",
      " 8.76477160e-01 1.56739529e-01 2.81091308e+02 5.80862081e-01]\n"
     ]
    },
    {
     "name": "stderr",
     "output_type": "stream",
     "text": [
      "/home/caleb/code/migration-slr/MigrationModels.py:130: RuntimeWarning: overflow encountered in exp\n",
      "  denominator = np.exp(d*alpha)\n",
      "/home/caleb/code/migration-slr/MigrationModels.py:130: RuntimeWarning: overflow encountered in exp\n",
      "  denominator = np.exp(d*alpha)\n",
      "/home/caleb/code/migration-slr/MigrationModels.py:130: RuntimeWarning: overflow encountered in exp\n",
      "  denominator = np.exp(d*alpha)\n",
      "/home/caleb/code/migration-slr/MigrationModels.py:130: RuntimeWarning: overflow encountered in exp\n",
      "  denominator = np.exp(d*alpha)\n",
      "/home/caleb/code/migration-slr/MigrationModels.py:130: RuntimeWarning: overflow encountered in exp\n",
      "  denominator = np.exp(d*alpha)\n",
      "/home/caleb/code/migration-slr/MigrationModels.py:130: RuntimeWarning: overflow encountered in exp\n",
      "  denominator = np.exp(d*alpha)\n",
      "/home/caleb/code/migration-slr/MigrationModels.py:130: RuntimeWarning: overflow encountered in exp\n",
      "  denominator = np.exp(d*alpha)\n",
      "/home/caleb/code/migration-slr/MigrationModels.py:130: RuntimeWarning: overflow encountered in exp\n",
      "  denominator = np.exp(d*alpha)\n",
      "/home/caleb/code/migration-slr/MigrationModels.py:130: RuntimeWarning: overflow encountered in exp\n",
      "  denominator = np.exp(d*alpha)\n",
      "/home/caleb/code/migration-slr/MigrationModels.py:130: RuntimeWarning: overflow encountered in exp\n",
      "  denominator = np.exp(d*alpha)\n",
      "/home/caleb/code/migration-slr/MigrationModels.py:130: RuntimeWarning: overflow encountered in exp\n",
      "  denominator = np.exp(d*alpha)\n"
     ]
    },
    {
     "name": "stdout",
     "output_type": "stream",
     "text": [
      "\t [ 1.43949812e-02  3.12666424e-02  4.27273974e-01  6.05016503e-01\n",
      "  1.17631935e+00 -6.36860962e-01  3.67668071e+02  5.67612908e-01]\n"
     ]
    },
    {
     "name": "stderr",
     "output_type": "stream",
     "text": [
      "/home/caleb/code/migration-slr/MigrationModels.py:130: RuntimeWarning: overflow encountered in exp\n",
      "  denominator = np.exp(d*alpha)\n",
      "/home/caleb/code/migration-slr/MigrationModels.py:130: RuntimeWarning: overflow encountered in exp\n",
      "  denominator = np.exp(d*alpha)\n",
      "/home/caleb/code/migration-slr/MigrationModels.py:130: RuntimeWarning: overflow encountered in exp\n",
      "  denominator = np.exp(d*alpha)\n",
      "/home/caleb/code/migration-slr/MigrationModels.py:130: RuntimeWarning: overflow encountered in exp\n",
      "  denominator = np.exp(d*alpha)\n",
      "/home/caleb/code/migration-slr/MigrationModels.py:130: RuntimeWarning: overflow encountered in exp\n",
      "  denominator = np.exp(d*alpha)\n",
      "/home/caleb/code/migration-slr/MigrationModels.py:130: RuntimeWarning: overflow encountered in exp\n",
      "  denominator = np.exp(d*alpha)\n",
      "/home/caleb/code/migration-slr/MigrationModels.py:130: RuntimeWarning: overflow encountered in exp\n",
      "  denominator = np.exp(d*alpha)\n",
      "/home/caleb/code/migration-slr/MigrationModels.py:130: RuntimeWarning: overflow encountered in exp\n",
      "  denominator = np.exp(d*alpha)\n",
      "/home/caleb/code/migration-slr/MigrationModels.py:130: RuntimeWarning: overflow encountered in exp\n",
      "  denominator = np.exp(d*alpha)\n",
      "/home/caleb/code/migration-slr/MigrationModels.py:130: RuntimeWarning: overflow encountered in exp\n",
      "  denominator = np.exp(d*alpha)\n",
      "/home/caleb/code/migration-slr/MigrationModels.py:130: RuntimeWarning: overflow encountered in exp\n",
      "  denominator = np.exp(d*alpha)\n"
     ]
    },
    {
     "name": "stdout",
     "output_type": "stream",
     "text": [
      "\t [ 1.28959416e-02  3.19591616e-02  3.78948982e-01  4.86161103e-01\n",
      "  1.04251004e+00 -1.98299429e-01  2.85513315e+02  6.78842189e-01]\n"
     ]
    },
    {
     "name": "stderr",
     "output_type": "stream",
     "text": [
      "/home/caleb/code/migration-slr/MigrationModels.py:130: RuntimeWarning: overflow encountered in exp\n",
      "  denominator = np.exp(d*alpha)\n",
      "/home/caleb/code/migration-slr/MigrationModels.py:130: RuntimeWarning: overflow encountered in exp\n",
      "  denominator = np.exp(d*alpha)\n",
      "/home/caleb/code/migration-slr/MigrationModels.py:130: RuntimeWarning: overflow encountered in exp\n",
      "  denominator = np.exp(d*alpha)\n",
      "/home/caleb/code/migration-slr/MigrationModels.py:130: RuntimeWarning: overflow encountered in exp\n",
      "  denominator = np.exp(d*alpha)\n",
      "/home/caleb/code/migration-slr/MigrationModels.py:130: RuntimeWarning: overflow encountered in exp\n",
      "  denominator = np.exp(d*alpha)\n",
      "/home/caleb/code/migration-slr/MigrationModels.py:130: RuntimeWarning: overflow encountered in exp\n",
      "  denominator = np.exp(d*alpha)\n",
      "/home/caleb/code/migration-slr/MigrationModels.py:130: RuntimeWarning: overflow encountered in exp\n",
      "  denominator = np.exp(d*alpha)\n",
      "/home/caleb/code/migration-slr/MigrationModels.py:130: RuntimeWarning: overflow encountered in exp\n",
      "  denominator = np.exp(d*alpha)\n",
      "/home/caleb/code/migration-slr/MigrationModels.py:130: RuntimeWarning: overflow encountered in exp\n",
      "  denominator = np.exp(d*alpha)\n",
      "/home/caleb/code/migration-slr/MigrationModels.py:130: RuntimeWarning: overflow encountered in exp\n",
      "  denominator = np.exp(d*alpha)\n",
      "/home/caleb/code/migration-slr/MigrationModels.py:130: RuntimeWarning: overflow encountered in exp\n",
      "  denominator = np.exp(d*alpha)\n",
      "/home/caleb/code/migration-slr/MigrationModels.py:130: RuntimeWarning: overflow encountered in exp\n",
      "  denominator = np.exp(d*alpha)\n",
      "/home/caleb/code/migration-slr/MigrationModels.py:130: RuntimeWarning: overflow encountered in exp\n",
      "  denominator = np.exp(d*alpha)\n",
      "/home/caleb/code/migration-slr/MigrationModels.py:130: RuntimeWarning: overflow encountered in exp\n",
      "  denominator = np.exp(d*alpha)\n",
      "/home/caleb/code/migration-slr/MigrationModels.py:130: RuntimeWarning: overflow encountered in exp\n",
      "  denominator = np.exp(d*alpha)\n",
      "/home/caleb/code/migration-slr/MigrationModels.py:130: RuntimeWarning: overflow encountered in exp\n",
      "  denominator = np.exp(d*alpha)\n",
      "/home/caleb/code/migration-slr/MigrationModels.py:130: RuntimeWarning: overflow encountered in exp\n",
      "  denominator = np.exp(d*alpha)\n",
      "/home/caleb/code/migration-slr/MigrationModels.py:130: RuntimeWarning: overflow encountered in exp\n",
      "  denominator = np.exp(d*alpha)\n",
      "/home/caleb/code/migration-slr/MigrationModels.py:130: RuntimeWarning: overflow encountered in exp\n",
      "  denominator = np.exp(d*alpha)\n",
      "/home/caleb/code/migration-slr/MigrationModels.py:130: RuntimeWarning: overflow encountered in exp\n",
      "  denominator = np.exp(d*alpha)\n",
      "/home/caleb/code/migration-slr/MigrationModels.py:130: RuntimeWarning: overflow encountered in exp\n",
      "  denominator = np.exp(d*alpha)\n",
      "/home/caleb/code/migration-slr/MigrationModels.py:130: RuntimeWarning: overflow encountered in exp\n",
      "  denominator = np.exp(d*alpha)\n"
     ]
    },
    {
     "name": "stdout",
     "output_type": "stream",
     "text": [
      "\t [ 1.00000000e+00  3.11123357e-02  1.03158193e-03  1.25396716e-03\n",
      "  1.93426593e+00 -1.07102841e+01  3.66958808e+02  5.77509102e-01]\n",
      "gravpow\n",
      "\t [ 2.78543828e+00  3.56647768e-02  5.16550170e-01  6.47748906e-01\n",
      "  1.60873072e+00 -1.71528523e+00  5.72329189e+02  4.01854149e-01]\n",
      "\t [2.59533821e+00 3.17404956e-02 5.73267885e-01 8.82634665e-01\n",
      " 6.09498817e-01 6.26338657e-01 2.21677063e+02 7.03893336e-01]\n",
      "\t [2.69156750e+00 3.12666424e-02 5.43767224e-01 8.46278840e-01\n",
      " 9.38042482e-01 1.21852884e-01 3.60312214e+02 3.20245543e-01]\n",
      "\t [2.58789362e+00 3.19591616e-02 5.83793236e-01 8.57170495e-01\n",
      " 6.99407294e-01 5.91621077e-01 2.37988283e+02 7.67576256e-01]\n",
      "\t [ 2.77456844e+00  3.11123357e-02  5.44753032e-01  7.64165523e-01\n",
      "  8.81064207e-01 -1.20390507e-01  3.22427185e+02  7.25555573e-01]\n",
      "rad\n",
      "\t [ 1.00000000e+00  3.56647768e-02  4.23899584e-01  5.32665309e-01\n",
      "  1.91664118e+00 -7.93308460e-01  4.81179399e+02  7.93493186e-01]\n",
      "\t [ 1.00000000e+00  3.17404956e-02  4.44516369e-01  7.11054857e-01\n",
      "  7.91867221e-01 -3.63517381e-01  2.42188144e+02  7.44853623e-01]\n",
      "\t [ 1.00000000e+00  3.12666424e-02  4.17355411e-01  6.62120427e-01\n",
      "  1.19740619e+00 -8.11243852e-01  3.64060812e+02  6.99309945e-01]\n",
      "\t [ 1.00000000e+00  3.19591616e-02  4.44324852e-01  6.62779235e-01\n",
      "  9.33730055e-01 -6.57463475e-01  2.73107706e+02  7.37315864e-01]\n",
      "\t [ 1.00000000e+00  3.11123357e-02  4.35895100e-01  6.41934936e-01\n",
      "  1.09213410e+00 -5.50556257e-01  2.78320465e+02  8.90558551e-01]\n",
      "extrad\n"
     ]
    },
    {
     "name": "stderr",
     "output_type": "stream",
     "text": [
      "/home/caleb/code/migration-slr/MigrationModels.py:32: RuntimeWarning: invalid value encountered in true_divide\n",
      "  return P / P.sum(axis=1, keepdims=True)\n",
      "/home/caleb/code/migration-slr/MigrationModels.py:32: RuntimeWarning: invalid value encountered in true_divide\n",
      "  return P / P.sum(axis=1, keepdims=True)\n",
      "/home/caleb/code/migration-slr/MigrationModels.py:32: RuntimeWarning: invalid value encountered in true_divide\n",
      "  return P / P.sum(axis=1, keepdims=True)\n",
      "/home/caleb/code/migration-slr/MigrationModels.py:32: RuntimeWarning: invalid value encountered in true_divide\n",
      "  return P / P.sum(axis=1, keepdims=True)\n",
      "/home/caleb/code/migration-slr/MigrationModels.py:32: RuntimeWarning: invalid value encountered in true_divide\n",
      "  return P / P.sum(axis=1, keepdims=True)\n",
      "/home/caleb/code/migration-slr/MigrationModels.py:32: RuntimeWarning: invalid value encountered in true_divide\n",
      "  return P / P.sum(axis=1, keepdims=True)\n"
     ]
    },
    {
     "name": "stdout",
     "output_type": "stream",
     "text": [
      "\t [ 3.83692394e-01  3.56647768e-02  4.98209947e-01  6.33605995e-01\n",
      "  1.66679216e+00 -2.50671426e-02  4.41202747e+02  8.20360161e-01]\n"
     ]
    },
    {
     "name": "stderr",
     "output_type": "stream",
     "text": [
      "/home/caleb/code/migration-slr/MigrationModels.py:32: RuntimeWarning: invalid value encountered in true_divide\n",
      "  return P / P.sum(axis=1, keepdims=True)\n",
      "/home/caleb/code/migration-slr/MigrationModels.py:32: RuntimeWarning: invalid value encountered in true_divide\n",
      "  return P / P.sum(axis=1, keepdims=True)\n"
     ]
    },
    {
     "name": "stdout",
     "output_type": "stream",
     "text": [
      "\t [3.35761014e-01 3.17404956e-02 4.88790104e-01 7.44538284e-01\n",
      " 7.27528201e-01 2.86173433e-01 2.15002675e+02 8.53804025e-01]\n"
     ]
    },
    {
     "name": "stderr",
     "output_type": "stream",
     "text": [
      "/home/caleb/code/migration-slr/MigrationModels.py:32: RuntimeWarning: invalid value encountered in true_divide\n",
      "  return P / P.sum(axis=1, keepdims=True)\n",
      "/home/caleb/code/migration-slr/MigrationModels.py:32: RuntimeWarning: invalid value encountered in true_divide\n",
      "  return P / P.sum(axis=1, keepdims=True)\n"
     ]
    },
    {
     "name": "stdout",
     "output_type": "stream",
     "text": [
      "\t [3.54324342e-01 3.12666424e-02 4.90078316e-01 7.50945360e-01\n",
      " 1.04653839e+00 1.50163850e-01 2.97640323e+02 8.65307573e-01]\n"
     ]
    },
    {
     "name": "stderr",
     "output_type": "stream",
     "text": [
      "/home/caleb/code/migration-slr/MigrationModels.py:32: RuntimeWarning: invalid value encountered in true_divide\n",
      "  return P / P.sum(axis=1, keepdims=True)\n"
     ]
    },
    {
     "name": "stdout",
     "output_type": "stream",
     "text": [
      "\t [3.39164951e-01 3.19591616e-02 4.93185462e-01 7.34160918e-01\n",
      " 8.50183970e-01 1.91005622e-01 2.36220909e+02 8.33371330e-01]\n"
     ]
    },
    {
     "name": "stderr",
     "output_type": "stream",
     "text": [
      "/home/caleb/code/migration-slr/MigrationModels.py:32: RuntimeWarning: invalid value encountered in true_divide\n",
      "  return P / P.sum(axis=1, keepdims=True)\n",
      "/home/caleb/code/migration-slr/MigrationModels.py:32: RuntimeWarning: invalid value encountered in true_divide\n",
      "  return P / P.sum(axis=1, keepdims=True)\n",
      "/home/caleb/code/migration-slr/MigrationModels.py:32: RuntimeWarning: invalid value encountered in true_divide\n",
      "  return P / P.sum(axis=1, keepdims=True)\n"
     ]
    },
    {
     "name": "stdout",
     "output_type": "stream",
     "text": [
      "\t [3.56894044e-01 3.11123357e-02 4.94766823e-01 7.08537180e-01\n",
      " 9.77089364e-01 1.35366654e-01 2.51176908e+02 9.12361953e-01]\n"
     ]
    }
   ],
   "source": [
    "all_to_all_cv = {}\n",
    "for model in models:\n",
    "    print(model)\n",
    "    results = []\n",
    "    \n",
    "    kf = KFold(n_splits=5)\n",
    "    for train_index, test_index in kf.split(all_county_idxs):\n",
    "    \n",
    "        t_train_counties = all_county_idxs[train_index]\n",
    "        t_test_counties = all_county_idxs[test_index]\n",
    "        \n",
    "        year_results = []\n",
    "        for i, year in enumerate(years):\n",
    "            # Train\n",
    "            args = get_full_dataset(i, t_train_counties, all_county_idxs, model=model)\n",
    "\n",
    "            opt_result = scipy.optimize.minimize(fit_traditional_models, x0=[1.0], args=args, bounds=[[0,3]])\n",
    "            alpha = opt_result.x[0]\n",
    "            beta = args[\"beta\"]\n",
    "\n",
    "            # Test\n",
    "            args = get_full_dataset(i, t_test_counties, all_county_idxs, model=model)\n",
    "            scores = evaluate_traditional_models(alpha, beta, args)\n",
    "\n",
    "            #print(\"\\t%s,%0.4f,%0.3f,%0.3f,%0.3f,%0.3f,%0.3f,%0.3f\" % (model, alpha, scores[0], scores[1], scores[2], scores[3], scores[4], scores[5]))\n",
    "            year_results.append((alpha, beta, scores[0], scores[1], scores[2], scores[3], scores[4], scores[5]))\n",
    "            \n",
    "\n",
    "        year_results = np.array(year_results)\n",
    "        print(\"\\t\",year_results.mean(axis=0))\n",
    "        results.append(year_results.mean(axis=0))\n",
    "    all_to_all_cv[model] = results"
   ]
  },
  {
   "cell_type": "code",
   "execution_count": null,
   "metadata": {},
   "outputs": [],
   "source": [
    "print(\"Migration Model,Best Alpha,CPC,CPC_d,MAE,R2,MAE,R2\")\n",
    "for model, values in all_to_all_cv.items():\n",
    "    print(model, end=\",\")\n",
    "    values = np.array(values)\n",
    "    means = values.mean(axis=0)\n",
    "    stds = values.std(axis=0)\n",
    "\n",
    "    for i in range(means.shape[0]):\n",
    "        print(\"%0.4f (%0.4f),\" % (means[i], stds[i]), end=\"\")\n",
    "    print(\"\")"
   ]
  },
  {
   "cell_type": "markdown",
   "metadata": {},
   "source": [
    "### Unflooded to unflooded"
   ]
  },
  {
   "cell_type": "code",
   "execution_count": 19,
   "metadata": {},
   "outputs": [
    {
     "name": "stdout",
     "output_type": "stream",
     "text": [
      "gravexp\n"
     ]
    },
    {
     "name": "stderr",
     "output_type": "stream",
     "text": [
      "/home/caleb/code/migration-slr/MigrationModels.py:130: RuntimeWarning: overflow encountered in exp\n",
      "  denominator = np.exp(d*alpha)\n",
      "/home/caleb/code/migration-slr/MigrationModels.py:130: RuntimeWarning: overflow encountered in exp\n",
      "  denominator = np.exp(d*alpha)\n",
      "/home/caleb/code/migration-slr/MigrationModels.py:130: RuntimeWarning: overflow encountered in exp\n",
      "  denominator = np.exp(d*alpha)\n",
      "/home/caleb/code/migration-slr/MigrationModels.py:130: RuntimeWarning: overflow encountered in exp\n",
      "  denominator = np.exp(d*alpha)\n",
      "/home/caleb/code/migration-slr/MigrationModels.py:130: RuntimeWarning: overflow encountered in exp\n",
      "  denominator = np.exp(d*alpha)\n",
      "/home/caleb/code/migration-slr/MigrationModels.py:130: RuntimeWarning: overflow encountered in exp\n",
      "  denominator = np.exp(d*alpha)\n",
      "/home/caleb/code/migration-slr/MigrationModels.py:130: RuntimeWarning: overflow encountered in exp\n",
      "  denominator = np.exp(d*alpha)\n",
      "/home/caleb/code/migration-slr/MigrationModels.py:130: RuntimeWarning: overflow encountered in exp\n",
      "  denominator = np.exp(d*alpha)\n",
      "/home/caleb/code/migration-slr/MigrationModels.py:130: RuntimeWarning: overflow encountered in exp\n",
      "  denominator = np.exp(d*alpha)\n",
      "/home/caleb/code/migration-slr/MigrationModels.py:130: RuntimeWarning: overflow encountered in exp\n",
      "  denominator = np.exp(d*alpha)\n",
      "/home/caleb/code/migration-slr/MigrationModels.py:130: RuntimeWarning: overflow encountered in exp\n",
      "  denominator = np.exp(d*alpha)\n"
     ]
    },
    {
     "name": "stdout",
     "output_type": "stream",
     "text": [
      "\t [ 2.13551790e-02  3.54176120e-02  3.40364356e-01  4.05680964e-01\n",
      "  2.19999435e+00 -7.29953674e+00  5.76868710e+02  1.43453625e-01]\n"
     ]
    },
    {
     "name": "stderr",
     "output_type": "stream",
     "text": [
      "/home/caleb/code/migration-slr/MigrationModels.py:130: RuntimeWarning: overflow encountered in exp\n",
      "  denominator = np.exp(d*alpha)\n",
      "/home/caleb/code/migration-slr/MigrationModels.py:130: RuntimeWarning: overflow encountered in exp\n",
      "  denominator = np.exp(d*alpha)\n",
      "/home/caleb/code/migration-slr/MigrationModels.py:130: RuntimeWarning: overflow encountered in exp\n",
      "  denominator = np.exp(d*alpha)\n",
      "/home/caleb/code/migration-slr/MigrationModels.py:130: RuntimeWarning: overflow encountered in exp\n",
      "  denominator = np.exp(d*alpha)\n",
      "/home/caleb/code/migration-slr/MigrationModels.py:130: RuntimeWarning: overflow encountered in exp\n",
      "  denominator = np.exp(d*alpha)\n",
      "/home/caleb/code/migration-slr/MigrationModels.py:130: RuntimeWarning: overflow encountered in exp\n",
      "  denominator = np.exp(d*alpha)\n",
      "/home/caleb/code/migration-slr/MigrationModels.py:130: RuntimeWarning: overflow encountered in exp\n",
      "  denominator = np.exp(d*alpha)\n",
      "/home/caleb/code/migration-slr/MigrationModels.py:130: RuntimeWarning: overflow encountered in exp\n",
      "  denominator = np.exp(d*alpha)\n",
      "/home/caleb/code/migration-slr/MigrationModels.py:130: RuntimeWarning: overflow encountered in exp\n",
      "  denominator = np.exp(d*alpha)\n",
      "/home/caleb/code/migration-slr/MigrationModels.py:130: RuntimeWarning: overflow encountered in exp\n",
      "  denominator = np.exp(d*alpha)\n",
      "/home/caleb/code/migration-slr/MigrationModels.py:130: RuntimeWarning: overflow encountered in exp\n",
      "  denominator = np.exp(d*alpha)\n"
     ]
    },
    {
     "name": "stdout",
     "output_type": "stream",
     "text": [
      "\t [1.31167840e-02 3.16508438e-02 3.82730953e-01 4.95983160e-01\n",
      " 8.42031197e-01 1.61899607e-01 2.70995248e+02 5.81904562e-01]\n"
     ]
    },
    {
     "name": "stderr",
     "output_type": "stream",
     "text": [
      "/home/caleb/code/migration-slr/MigrationModels.py:130: RuntimeWarning: overflow encountered in exp\n",
      "  denominator = np.exp(d*alpha)\n",
      "/home/caleb/code/migration-slr/MigrationModels.py:130: RuntimeWarning: overflow encountered in exp\n",
      "  denominator = np.exp(d*alpha)\n",
      "/home/caleb/code/migration-slr/MigrationModels.py:130: RuntimeWarning: overflow encountered in exp\n",
      "  denominator = np.exp(d*alpha)\n",
      "/home/caleb/code/migration-slr/MigrationModels.py:130: RuntimeWarning: overflow encountered in exp\n",
      "  denominator = np.exp(d*alpha)\n",
      "/home/caleb/code/migration-slr/MigrationModels.py:130: RuntimeWarning: overflow encountered in exp\n",
      "  denominator = np.exp(d*alpha)\n",
      "/home/caleb/code/migration-slr/MigrationModels.py:130: RuntimeWarning: overflow encountered in exp\n",
      "  denominator = np.exp(d*alpha)\n",
      "/home/caleb/code/migration-slr/MigrationModels.py:130: RuntimeWarning: overflow encountered in exp\n",
      "  denominator = np.exp(d*alpha)\n",
      "/home/caleb/code/migration-slr/MigrationModels.py:130: RuntimeWarning: overflow encountered in exp\n",
      "  denominator = np.exp(d*alpha)\n",
      "/home/caleb/code/migration-slr/MigrationModels.py:130: RuntimeWarning: overflow encountered in exp\n",
      "  denominator = np.exp(d*alpha)\n",
      "/home/caleb/code/migration-slr/MigrationModels.py:130: RuntimeWarning: overflow encountered in exp\n",
      "  denominator = np.exp(d*alpha)\n",
      "/home/caleb/code/migration-slr/MigrationModels.py:130: RuntimeWarning: overflow encountered in exp\n",
      "  denominator = np.exp(d*alpha)\n"
     ]
    },
    {
     "name": "stdout",
     "output_type": "stream",
     "text": [
      "\t [ 1.43711423e-02  3.11315263e-02  4.27231845e-01  6.06152433e-01\n",
      "  1.18043044e+00 -6.30833533e-01  3.68286713e+02  5.70772860e-01]\n"
     ]
    },
    {
     "name": "stderr",
     "output_type": "stream",
     "text": [
      "/home/caleb/code/migration-slr/MigrationModels.py:130: RuntimeWarning: overflow encountered in exp\n",
      "  denominator = np.exp(d*alpha)\n",
      "/home/caleb/code/migration-slr/MigrationModels.py:130: RuntimeWarning: overflow encountered in exp\n",
      "  denominator = np.exp(d*alpha)\n",
      "/home/caleb/code/migration-slr/MigrationModels.py:130: RuntimeWarning: overflow encountered in exp\n",
      "  denominator = np.exp(d*alpha)\n",
      "/home/caleb/code/migration-slr/MigrationModels.py:130: RuntimeWarning: overflow encountered in exp\n",
      "  denominator = np.exp(d*alpha)\n",
      "/home/caleb/code/migration-slr/MigrationModels.py:130: RuntimeWarning: overflow encountered in exp\n",
      "  denominator = np.exp(d*alpha)\n",
      "/home/caleb/code/migration-slr/MigrationModels.py:130: RuntimeWarning: overflow encountered in exp\n",
      "  denominator = np.exp(d*alpha)\n",
      "/home/caleb/code/migration-slr/MigrationModels.py:130: RuntimeWarning: overflow encountered in exp\n",
      "  denominator = np.exp(d*alpha)\n",
      "/home/caleb/code/migration-slr/MigrationModels.py:130: RuntimeWarning: overflow encountered in exp\n",
      "  denominator = np.exp(d*alpha)\n",
      "/home/caleb/code/migration-slr/MigrationModels.py:130: RuntimeWarning: overflow encountered in exp\n",
      "  denominator = np.exp(d*alpha)\n",
      "/home/caleb/code/migration-slr/MigrationModels.py:130: RuntimeWarning: overflow encountered in exp\n",
      "  denominator = np.exp(d*alpha)\n",
      "/home/caleb/code/migration-slr/MigrationModels.py:130: RuntimeWarning: overflow encountered in exp\n",
      "  denominator = np.exp(d*alpha)\n"
     ]
    },
    {
     "name": "stdout",
     "output_type": "stream",
     "text": [
      "\t [ 1.28481547e-02  3.18267211e-02  3.79115708e-01  4.85532577e-01\n",
      "  1.04393845e+00 -1.89195518e-01  2.87943108e+02  6.80800016e-01]\n"
     ]
    },
    {
     "name": "stderr",
     "output_type": "stream",
     "text": [
      "/home/caleb/code/migration-slr/MigrationModels.py:130: RuntimeWarning: overflow encountered in exp\n",
      "  denominator = np.exp(d*alpha)\n",
      "/home/caleb/code/migration-slr/MigrationModels.py:130: RuntimeWarning: overflow encountered in exp\n",
      "  denominator = np.exp(d*alpha)\n",
      "/home/caleb/code/migration-slr/MigrationModels.py:130: RuntimeWarning: overflow encountered in exp\n",
      "  denominator = np.exp(d*alpha)\n",
      "/home/caleb/code/migration-slr/MigrationModels.py:130: RuntimeWarning: overflow encountered in exp\n",
      "  denominator = np.exp(d*alpha)\n",
      "/home/caleb/code/migration-slr/MigrationModels.py:130: RuntimeWarning: overflow encountered in exp\n",
      "  denominator = np.exp(d*alpha)\n",
      "/home/caleb/code/migration-slr/MigrationModels.py:130: RuntimeWarning: overflow encountered in exp\n",
      "  denominator = np.exp(d*alpha)\n",
      "/home/caleb/code/migration-slr/MigrationModels.py:130: RuntimeWarning: overflow encountered in exp\n",
      "  denominator = np.exp(d*alpha)\n",
      "/home/caleb/code/migration-slr/MigrationModels.py:130: RuntimeWarning: overflow encountered in exp\n",
      "  denominator = np.exp(d*alpha)\n",
      "/home/caleb/code/migration-slr/MigrationModels.py:130: RuntimeWarning: overflow encountered in exp\n",
      "  denominator = np.exp(d*alpha)\n",
      "/home/caleb/code/migration-slr/MigrationModels.py:130: RuntimeWarning: overflow encountered in exp\n",
      "  denominator = np.exp(d*alpha)\n",
      "/home/caleb/code/migration-slr/MigrationModels.py:130: RuntimeWarning: overflow encountered in exp\n",
      "  denominator = np.exp(d*alpha)\n",
      "/home/caleb/code/migration-slr/MigrationModels.py:130: RuntimeWarning: overflow encountered in exp\n",
      "  denominator = np.exp(d*alpha)\n",
      "/home/caleb/code/migration-slr/MigrationModels.py:130: RuntimeWarning: overflow encountered in exp\n",
      "  denominator = np.exp(d*alpha)\n",
      "/home/caleb/code/migration-slr/MigrationModels.py:130: RuntimeWarning: overflow encountered in exp\n",
      "  denominator = np.exp(d*alpha)\n",
      "/home/caleb/code/migration-slr/MigrationModels.py:130: RuntimeWarning: overflow encountered in exp\n",
      "  denominator = np.exp(d*alpha)\n",
      "/home/caleb/code/migration-slr/MigrationModels.py:130: RuntimeWarning: overflow encountered in exp\n",
      "  denominator = np.exp(d*alpha)\n",
      "/home/caleb/code/migration-slr/MigrationModels.py:130: RuntimeWarning: overflow encountered in exp\n",
      "  denominator = np.exp(d*alpha)\n",
      "/home/caleb/code/migration-slr/MigrationModels.py:130: RuntimeWarning: overflow encountered in exp\n",
      "  denominator = np.exp(d*alpha)\n",
      "/home/caleb/code/migration-slr/MigrationModels.py:130: RuntimeWarning: overflow encountered in exp\n",
      "  denominator = np.exp(d*alpha)\n",
      "/home/caleb/code/migration-slr/MigrationModels.py:130: RuntimeWarning: overflow encountered in exp\n",
      "  denominator = np.exp(d*alpha)\n",
      "/home/caleb/code/migration-slr/MigrationModels.py:130: RuntimeWarning: overflow encountered in exp\n",
      "  denominator = np.exp(d*alpha)\n",
      "/home/caleb/code/migration-slr/MigrationModels.py:130: RuntimeWarning: overflow encountered in exp\n",
      "  denominator = np.exp(d*alpha)\n"
     ]
    },
    {
     "name": "stdout",
     "output_type": "stream",
     "text": [
      "\t [ 1.00000000e+00  3.10205157e-02  1.03430583e-03  1.25787453e-03\n",
      "  1.92175471e+00 -1.05402183e+01  3.56528668e+02  5.93282472e-01]\n",
      "gravpow\n",
      "\t [ 2.79119670e+00  3.54176120e-02  5.16706037e-01  6.47590312e-01\n",
      "  1.61373364e+00 -1.71481103e+00  5.72809037e+02  4.02665212e-01]\n",
      "\t [2.59541302e+00 3.16508438e-02 5.75166087e-01 8.82652749e-01\n",
      " 5.80451145e-01 6.51521193e-01 2.10637771e+02 7.21002255e-01]\n",
      "\t [2.69291593e+00 3.11315263e-02 5.44380724e-01 8.48284427e-01\n",
      " 9.39970616e-01 1.24222649e-01 3.60143957e+02 3.24063953e-01]\n",
      "\t [2.58842967e+00 3.18267211e-02 5.84633273e-01 8.57138755e-01\n",
      " 6.99136630e-01 5.92813863e-01 2.38456270e+02 7.69520795e-01]\n",
      "\t [ 2.77420927e+00  3.10205157e-02  5.45241913e-01  7.63427506e-01\n",
      "  8.74450866e-01 -9.51167386e-02  3.18946343e+02  7.32812562e-01]\n",
      "rad\n",
      "\t [ 1.00000000e+00  3.54176120e-02  4.23981633e-01  5.32577593e-01\n",
      "  1.92292022e+00 -7.89622116e-01  4.80695290e+02  7.94036088e-01]\n",
      "\t [ 1.00000000e+00  3.16508438e-02  4.45323721e-01  7.15191359e-01\n",
      "  7.57101514e-01 -3.94586695e-01  2.30236889e+02  7.65328273e-01]\n",
      "\t [ 1.00000000e+00  3.11315263e-02  4.17268719e-01  6.63687654e-01\n",
      "  1.20168021e+00 -8.08471016e-01  3.65438232e+02  7.00437997e-01]\n",
      "\t [ 1.00000000e+00  3.18267211e-02  4.44171013e-01  6.61981959e-01\n",
      "  9.35528924e-01 -6.50593191e-01  2.73161307e+02  7.39879527e-01]\n",
      "\t [ 1.00000000e+00  3.10205157e-02  4.35915174e-01  6.39104767e-01\n",
      "  1.08503182e+00 -5.34997036e-01  2.72558648e+02  8.93125309e-01]\n",
      "extrad\n"
     ]
    },
    {
     "name": "stderr",
     "output_type": "stream",
     "text": [
      "/home/caleb/code/migration-slr/MigrationModels.py:32: RuntimeWarning: invalid value encountered in true_divide\n",
      "  return P / P.sum(axis=1, keepdims=True)\n",
      "/home/caleb/code/migration-slr/MigrationModels.py:32: RuntimeWarning: invalid value encountered in true_divide\n",
      "  return P / P.sum(axis=1, keepdims=True)\n",
      "/home/caleb/code/migration-slr/MigrationModels.py:32: RuntimeWarning: invalid value encountered in true_divide\n",
      "  return P / P.sum(axis=1, keepdims=True)\n",
      "/home/caleb/code/migration-slr/MigrationModels.py:32: RuntimeWarning: invalid value encountered in true_divide\n",
      "  return P / P.sum(axis=1, keepdims=True)\n",
      "/home/caleb/code/migration-slr/MigrationModels.py:32: RuntimeWarning: invalid value encountered in true_divide\n",
      "  return P / P.sum(axis=1, keepdims=True)\n",
      "/home/caleb/code/migration-slr/MigrationModels.py:32: RuntimeWarning: invalid value encountered in true_divide\n",
      "  return P / P.sum(axis=1, keepdims=True)\n",
      "/home/caleb/code/migration-slr/MigrationModels.py:32: RuntimeWarning: invalid value encountered in true_divide\n",
      "  return P / P.sum(axis=1, keepdims=True)\n"
     ]
    },
    {
     "name": "stdout",
     "output_type": "stream",
     "text": [
      "\t [ 3.84139013e-01  3.54176120e-02  4.98224630e-01  6.33171393e-01\n",
      "  1.67245848e+00 -2.50903380e-02  4.41252598e+02  8.20487972e-01]\n"
     ]
    },
    {
     "name": "stderr",
     "output_type": "stream",
     "text": [
      "/home/caleb/code/migration-slr/MigrationModels.py:32: RuntimeWarning: invalid value encountered in true_divide\n",
      "  return P / P.sum(axis=1, keepdims=True)\n",
      "/home/caleb/code/migration-slr/MigrationModels.py:32: RuntimeWarning: invalid value encountered in true_divide\n",
      "  return P / P.sum(axis=1, keepdims=True)\n"
     ]
    },
    {
     "name": "stdout",
     "output_type": "stream",
     "text": [
      "\t [3.35312206e-01 3.16508438e-02 4.90433197e-01 7.43383802e-01\n",
      " 6.94506953e-01 2.91018808e-01 2.02560345e+02 8.69829328e-01]\n"
     ]
    },
    {
     "name": "stderr",
     "output_type": "stream",
     "text": [
      "/home/caleb/code/migration-slr/MigrationModels.py:32: RuntimeWarning: invalid value encountered in true_divide\n",
      "  return P / P.sum(axis=1, keepdims=True)\n",
      "/home/caleb/code/migration-slr/MigrationModels.py:32: RuntimeWarning: invalid value encountered in true_divide\n",
      "  return P / P.sum(axis=1, keepdims=True)\n"
     ]
    },
    {
     "name": "stdout",
     "output_type": "stream",
     "text": [
      "\t [3.53464209e-01 3.11315263e-02 4.90090194e-01 7.51610673e-01\n",
      " 1.05009346e+00 1.51723274e-01 2.99537341e+02 8.65810106e-01]\n"
     ]
    },
    {
     "name": "stderr",
     "output_type": "stream",
     "text": [
      "/home/caleb/code/migration-slr/MigrationModels.py:32: RuntimeWarning: invalid value encountered in true_divide\n",
      "  return P / P.sum(axis=1, keepdims=True)\n"
     ]
    },
    {
     "ename": "KeyboardInterrupt",
     "evalue": "",
     "output_type": "error",
     "traceback": [
      "\u001b[0;31m---------------------------------------------------------------------------\u001b[0m",
      "\u001b[0;31mKeyboardInterrupt\u001b[0m                         Traceback (most recent call last)",
      "\u001b[0;32m<timed exec>\u001b[0m in \u001b[0;36m<module>\u001b[0;34m()\u001b[0m\n",
      "\u001b[0;32m~/.local/lib/python3.5/site-packages/scipy/optimize/_minimize.py\u001b[0m in \u001b[0;36mminimize\u001b[0;34m(fun, x0, args, method, jac, hess, hessp, bounds, constraints, tol, callback, options)\u001b[0m\n\u001b[1;32m    445\u001b[0m     \u001b[0;32melif\u001b[0m \u001b[0mmeth\u001b[0m \u001b[0;34m==\u001b[0m \u001b[0;34m'l-bfgs-b'\u001b[0m\u001b[0;34m:\u001b[0m\u001b[0;34m\u001b[0m\u001b[0m\n\u001b[1;32m    446\u001b[0m         return _minimize_lbfgsb(fun, x0, args, jac, bounds,\n\u001b[0;32m--> 447\u001b[0;31m                                 callback=callback, **options)\n\u001b[0m\u001b[1;32m    448\u001b[0m     \u001b[0;32melif\u001b[0m \u001b[0mmeth\u001b[0m \u001b[0;34m==\u001b[0m \u001b[0;34m'tnc'\u001b[0m\u001b[0;34m:\u001b[0m\u001b[0;34m\u001b[0m\u001b[0m\n\u001b[1;32m    449\u001b[0m         return _minimize_tnc(fun, x0, args, jac, bounds, callback=callback,\n",
      "\u001b[0;32m~/.local/lib/python3.5/site-packages/scipy/optimize/lbfgsb.py\u001b[0m in \u001b[0;36m_minimize_lbfgsb\u001b[0;34m(fun, x0, args, jac, bounds, disp, maxcor, ftol, gtol, eps, maxfun, maxiter, iprint, callback, maxls, **unknown_options)\u001b[0m\n\u001b[1;32m    328\u001b[0m                 \u001b[0;31m# minimization routine wants f and g at the current x\u001b[0m\u001b[0;34m\u001b[0m\u001b[0;34m\u001b[0m\u001b[0m\n\u001b[1;32m    329\u001b[0m                 \u001b[0;31m# Overwrite f and g:\u001b[0m\u001b[0;34m\u001b[0m\u001b[0;34m\u001b[0m\u001b[0m\n\u001b[0;32m--> 330\u001b[0;31m                 \u001b[0mf\u001b[0m\u001b[0;34m,\u001b[0m \u001b[0mg\u001b[0m \u001b[0;34m=\u001b[0m \u001b[0mfunc_and_grad\u001b[0m\u001b[0;34m(\u001b[0m\u001b[0mx\u001b[0m\u001b[0;34m)\u001b[0m\u001b[0;34m\u001b[0m\u001b[0m\n\u001b[0m\u001b[1;32m    331\u001b[0m         \u001b[0;32melif\u001b[0m \u001b[0mtask_str\u001b[0m\u001b[0;34m.\u001b[0m\u001b[0mstartswith\u001b[0m\u001b[0;34m(\u001b[0m\u001b[0;34mb'NEW_X'\u001b[0m\u001b[0;34m)\u001b[0m\u001b[0;34m:\u001b[0m\u001b[0;34m\u001b[0m\u001b[0m\n\u001b[1;32m    332\u001b[0m             \u001b[0;31m# new iteration\u001b[0m\u001b[0;34m\u001b[0m\u001b[0;34m\u001b[0m\u001b[0m\n",
      "\u001b[0;32m~/.local/lib/python3.5/site-packages/scipy/optimize/lbfgsb.py\u001b[0m in \u001b[0;36mfunc_and_grad\u001b[0;34m(x)\u001b[0m\n\u001b[1;32m    272\u001b[0m         \u001b[0;32mdef\u001b[0m \u001b[0mfunc_and_grad\u001b[0m\u001b[0;34m(\u001b[0m\u001b[0mx\u001b[0m\u001b[0;34m)\u001b[0m\u001b[0;34m:\u001b[0m\u001b[0;34m\u001b[0m\u001b[0m\n\u001b[1;32m    273\u001b[0m             \u001b[0mf\u001b[0m \u001b[0;34m=\u001b[0m \u001b[0mfun\u001b[0m\u001b[0;34m(\u001b[0m\u001b[0mx\u001b[0m\u001b[0;34m,\u001b[0m \u001b[0;34m*\u001b[0m\u001b[0margs\u001b[0m\u001b[0;34m)\u001b[0m\u001b[0;34m\u001b[0m\u001b[0m\n\u001b[0;32m--> 274\u001b[0;31m             \u001b[0mg\u001b[0m \u001b[0;34m=\u001b[0m \u001b[0m_approx_fprime_helper\u001b[0m\u001b[0;34m(\u001b[0m\u001b[0mx\u001b[0m\u001b[0;34m,\u001b[0m \u001b[0mfun\u001b[0m\u001b[0;34m,\u001b[0m \u001b[0mepsilon\u001b[0m\u001b[0;34m,\u001b[0m \u001b[0margs\u001b[0m\u001b[0;34m=\u001b[0m\u001b[0margs\u001b[0m\u001b[0;34m,\u001b[0m \u001b[0mf0\u001b[0m\u001b[0;34m=\u001b[0m\u001b[0mf\u001b[0m\u001b[0;34m)\u001b[0m\u001b[0;34m\u001b[0m\u001b[0m\n\u001b[0m\u001b[1;32m    275\u001b[0m             \u001b[0;32mreturn\u001b[0m \u001b[0mf\u001b[0m\u001b[0;34m,\u001b[0m \u001b[0mg\u001b[0m\u001b[0;34m\u001b[0m\u001b[0m\n\u001b[1;32m    276\u001b[0m     \u001b[0;32melse\u001b[0m\u001b[0;34m:\u001b[0m\u001b[0;34m\u001b[0m\u001b[0m\n",
      "\u001b[0;32m~/.local/lib/python3.5/site-packages/scipy/optimize/optimize.py\u001b[0m in \u001b[0;36m_approx_fprime_helper\u001b[0;34m(xk, f, epsilon, args, f0)\u001b[0m\n\u001b[1;32m    560\u001b[0m         \u001b[0mei\u001b[0m\u001b[0;34m[\u001b[0m\u001b[0mk\u001b[0m\u001b[0;34m]\u001b[0m \u001b[0;34m=\u001b[0m \u001b[0;36m1.0\u001b[0m\u001b[0;34m\u001b[0m\u001b[0m\n\u001b[1;32m    561\u001b[0m         \u001b[0md\u001b[0m \u001b[0;34m=\u001b[0m \u001b[0mepsilon\u001b[0m \u001b[0;34m*\u001b[0m \u001b[0mei\u001b[0m\u001b[0;34m\u001b[0m\u001b[0m\n\u001b[0;32m--> 562\u001b[0;31m         \u001b[0mgrad\u001b[0m\u001b[0;34m[\u001b[0m\u001b[0mk\u001b[0m\u001b[0;34m]\u001b[0m \u001b[0;34m=\u001b[0m \u001b[0;34m(\u001b[0m\u001b[0mf\u001b[0m\u001b[0;34m(\u001b[0m\u001b[0;34m*\u001b[0m\u001b[0;34m(\u001b[0m\u001b[0;34m(\u001b[0m\u001b[0mxk\u001b[0m \u001b[0;34m+\u001b[0m \u001b[0md\u001b[0m\u001b[0;34m,\u001b[0m\u001b[0;34m)\u001b[0m \u001b[0;34m+\u001b[0m \u001b[0margs\u001b[0m\u001b[0;34m)\u001b[0m\u001b[0;34m)\u001b[0m \u001b[0;34m-\u001b[0m \u001b[0mf0\u001b[0m\u001b[0;34m)\u001b[0m \u001b[0;34m/\u001b[0m \u001b[0md\u001b[0m\u001b[0;34m[\u001b[0m\u001b[0mk\u001b[0m\u001b[0;34m]\u001b[0m\u001b[0;34m\u001b[0m\u001b[0m\n\u001b[0m\u001b[1;32m    563\u001b[0m         \u001b[0mei\u001b[0m\u001b[0;34m[\u001b[0m\u001b[0mk\u001b[0m\u001b[0;34m]\u001b[0m \u001b[0;34m=\u001b[0m \u001b[0;36m0.0\u001b[0m\u001b[0;34m\u001b[0m\u001b[0m\n\u001b[1;32m    564\u001b[0m     \u001b[0;32mreturn\u001b[0m \u001b[0mgrad\u001b[0m\u001b[0;34m\u001b[0m\u001b[0m\n",
      "\u001b[0;32m~/.local/lib/python3.5/site-packages/scipy/optimize/optimize.py\u001b[0m in \u001b[0;36mfunction_wrapper\u001b[0;34m(*wrapper_args)\u001b[0m\n\u001b[1;32m    287\u001b[0m     \u001b[0;32mdef\u001b[0m \u001b[0mfunction_wrapper\u001b[0m\u001b[0;34m(\u001b[0m\u001b[0;34m*\u001b[0m\u001b[0mwrapper_args\u001b[0m\u001b[0;34m)\u001b[0m\u001b[0;34m:\u001b[0m\u001b[0;34m\u001b[0m\u001b[0m\n\u001b[1;32m    288\u001b[0m         \u001b[0mncalls\u001b[0m\u001b[0;34m[\u001b[0m\u001b[0;36m0\u001b[0m\u001b[0;34m]\u001b[0m \u001b[0;34m+=\u001b[0m \u001b[0;36m1\u001b[0m\u001b[0;34m\u001b[0m\u001b[0m\n\u001b[0;32m--> 289\u001b[0;31m         \u001b[0;32mreturn\u001b[0m \u001b[0mfunction\u001b[0m\u001b[0;34m(\u001b[0m\u001b[0;34m*\u001b[0m\u001b[0;34m(\u001b[0m\u001b[0mwrapper_args\u001b[0m \u001b[0;34m+\u001b[0m \u001b[0margs\u001b[0m\u001b[0;34m)\u001b[0m\u001b[0;34m)\u001b[0m\u001b[0;34m\u001b[0m\u001b[0m\n\u001b[0m\u001b[1;32m    290\u001b[0m \u001b[0;34m\u001b[0m\u001b[0m\n\u001b[1;32m    291\u001b[0m     \u001b[0;32mreturn\u001b[0m \u001b[0mncalls\u001b[0m\u001b[0;34m,\u001b[0m \u001b[0mfunction_wrapper\u001b[0m\u001b[0;34m\u001b[0m\u001b[0m\n",
      "\u001b[0;32m<ipython-input-17-66c4ccbd03cd>\u001b[0m in \u001b[0;36mfit_traditional_models\u001b[0;34m(alpha, args)\u001b[0m\n\u001b[1;32m     20\u001b[0m \u001b[0;34m\u001b[0m\u001b[0m\n\u001b[1;32m     21\u001b[0m \u001b[0;32mdef\u001b[0m \u001b[0mfit_traditional_models\u001b[0m\u001b[0;34m(\u001b[0m\u001b[0malpha\u001b[0m\u001b[0;34m,\u001b[0m \u001b[0margs\u001b[0m\u001b[0;34m)\u001b[0m\u001b[0;34m:\u001b[0m\u001b[0;34m\u001b[0m\u001b[0m\n\u001b[0;32m---> 22\u001b[0;31m     \u001b[0mT\u001b[0m\u001b[0;34m,\u001b[0m \u001b[0mT_pred\u001b[0m \u001b[0;34m=\u001b[0m \u001b[0mrun_traditional_models\u001b[0m\u001b[0;34m(\u001b[0m\u001b[0malpha\u001b[0m\u001b[0;34m,\u001b[0m \u001b[0margs\u001b[0m\u001b[0;34m)\u001b[0m\u001b[0;34m\u001b[0m\u001b[0m\n\u001b[0m\u001b[1;32m     23\u001b[0m \u001b[0;34m\u001b[0m\u001b[0m\n\u001b[1;32m     24\u001b[0m     \u001b[0mscore\u001b[0m \u001b[0;34m=\u001b[0m \u001b[0mMigrationEvaluationMethods\u001b[0m\u001b[0;34m.\u001b[0m\u001b[0mcpc\u001b[0m\u001b[0;34m(\u001b[0m\u001b[0mT\u001b[0m\u001b[0;34m,\u001b[0m \u001b[0mT_pred\u001b[0m\u001b[0;34m)\u001b[0m\u001b[0;34m\u001b[0m\u001b[0m\n",
      "\u001b[0;32m<ipython-input-17-66c4ccbd03cd>\u001b[0m in \u001b[0;36mrun_traditional_models\u001b[0;34m(alpha, args)\u001b[0m\n\u001b[1;32m      6\u001b[0m \u001b[0;34m\u001b[0m\u001b[0m\n\u001b[1;32m      7\u001b[0m     \u001b[0;32mif\u001b[0m \u001b[0mmodel\u001b[0m \u001b[0;34m==\u001b[0m \u001b[0;34m\"extrad\"\u001b[0m\u001b[0;34m:\u001b[0m\u001b[0;34m\u001b[0m\u001b[0m\n\u001b[0;32m----> 8\u001b[0;31m         \u001b[0mP\u001b[0m \u001b[0;34m=\u001b[0m \u001b[0mMigrationModels\u001b[0m\u001b[0;34m.\u001b[0m\u001b[0mextendedRadiationModel\u001b[0m\u001b[0;34m(\u001b[0m\u001b[0morigin_pop\u001b[0m\u001b[0;34m,\u001b[0m \u001b[0mdestination_pop\u001b[0m\u001b[0;34m,\u001b[0m \u001b[0mS\u001b[0m\u001b[0;34m,\u001b[0m \u001b[0malpha\u001b[0m\u001b[0;34m)\u001b[0m\u001b[0;34m\u001b[0m\u001b[0m\n\u001b[0m\u001b[1;32m      9\u001b[0m     \u001b[0;32melif\u001b[0m \u001b[0mmodel\u001b[0m \u001b[0;34m==\u001b[0m \u001b[0;34m\"rad\"\u001b[0m\u001b[0;34m:\u001b[0m\u001b[0;34m\u001b[0m\u001b[0m\n\u001b[1;32m     10\u001b[0m         \u001b[0mP\u001b[0m \u001b[0;34m=\u001b[0m \u001b[0mMigrationModels\u001b[0m\u001b[0;34m.\u001b[0m\u001b[0mradiationModel\u001b[0m\u001b[0;34m(\u001b[0m\u001b[0morigin_pop\u001b[0m\u001b[0;34m,\u001b[0m \u001b[0mdestination_pop\u001b[0m\u001b[0;34m,\u001b[0m \u001b[0mS\u001b[0m\u001b[0;34m)\u001b[0m\u001b[0;34m\u001b[0m\u001b[0m\n",
      "\u001b[0;32m~/code/migration-slr/MigrationModels.py\u001b[0m in \u001b[0;36mextendedRadiationModel\u001b[0;34m(origins, destinations, s, alpha, slowMode)\u001b[0m\n\u001b[1;32m     55\u001b[0m     \u001b[0;32melse\u001b[0m\u001b[0;34m:\u001b[0m\u001b[0;34m\u001b[0m\u001b[0m\n\u001b[1;32m     56\u001b[0m         \u001b[0mnumerator\u001b[0m \u001b[0;34m=\u001b[0m \u001b[0;34m(\u001b[0m\u001b[0;34m(\u001b[0m\u001b[0ms\u001b[0m \u001b[0;34m+\u001b[0m \u001b[0morigins\u001b[0m \u001b[0;34m+\u001b[0m \u001b[0mdestinations\u001b[0m\u001b[0;34m.\u001b[0m\u001b[0mT\u001b[0m\u001b[0;34m)\u001b[0m\u001b[0;34m**\u001b[0m\u001b[0malpha\u001b[0m \u001b[0;34m-\u001b[0m \u001b[0;34m(\u001b[0m\u001b[0ms\u001b[0m \u001b[0;34m+\u001b[0m \u001b[0morigins\u001b[0m\u001b[0;34m)\u001b[0m\u001b[0;34m**\u001b[0m\u001b[0malpha\u001b[0m\u001b[0;34m)\u001b[0m \u001b[0;34m*\u001b[0m \u001b[0;34m(\u001b[0m\u001b[0morigins\u001b[0m\u001b[0;34m**\u001b[0m\u001b[0malpha\u001b[0m \u001b[0;34m+\u001b[0m \u001b[0;36m1\u001b[0m\u001b[0;34m)\u001b[0m\u001b[0;34m\u001b[0m\u001b[0m\n\u001b[0;32m---> 57\u001b[0;31m         \u001b[0mdenominator\u001b[0m \u001b[0;34m=\u001b[0m \u001b[0;34m(\u001b[0m\u001b[0;34m(\u001b[0m\u001b[0ms\u001b[0m\u001b[0;34m+\u001b[0m\u001b[0morigins\u001b[0m\u001b[0;34m)\u001b[0m\u001b[0;34m**\u001b[0m\u001b[0malpha\u001b[0m \u001b[0;34m+\u001b[0m \u001b[0;36m1\u001b[0m\u001b[0;34m)\u001b[0m \u001b[0;34m*\u001b[0m \u001b[0;34m(\u001b[0m\u001b[0;34m(\u001b[0m\u001b[0ms\u001b[0m \u001b[0;34m+\u001b[0m \u001b[0morigins\u001b[0m  \u001b[0;34m+\u001b[0m \u001b[0mdestinations\u001b[0m\u001b[0;34m.\u001b[0m\u001b[0mT\u001b[0m\u001b[0;34m)\u001b[0m\u001b[0;34m**\u001b[0m\u001b[0malpha\u001b[0m \u001b[0;34m+\u001b[0m \u001b[0;36m1\u001b[0m\u001b[0;34m)\u001b[0m\u001b[0;34m\u001b[0m\u001b[0m\n\u001b[0m\u001b[1;32m     58\u001b[0m         \u001b[0mP\u001b[0m \u001b[0;34m=\u001b[0m \u001b[0mnp\u001b[0m\u001b[0;34m.\u001b[0m\u001b[0mdivide\u001b[0m\u001b[0;34m(\u001b[0m\u001b[0mnumerator\u001b[0m\u001b[0;34m,\u001b[0m\u001b[0mdenominator\u001b[0m\u001b[0;34m)\u001b[0m\u001b[0;34m\u001b[0m\u001b[0m\n\u001b[1;32m     59\u001b[0m \u001b[0;34m\u001b[0m\u001b[0m\n",
      "\u001b[0;31mKeyboardInterrupt\u001b[0m: "
     ]
    }
   ],
   "source": [
    "%%time\n",
    "unflooded_to_unflooded_cv = {}\n",
    "for model in models:\n",
    "    print(model)\n",
    "    results = []\n",
    "    \n",
    "    kf = KFold(n_splits=5)\n",
    "    for train_index, test_index in kf.split(unflooded_county_idxs):\n",
    "    \n",
    "        t_train_counties = unflooded_county_idxs[train_index]\n",
    "        t_test_counties = unflooded_county_idxs[test_index]\n",
    "        \n",
    "        year_results = []\n",
    "        for i, year in enumerate(years):\n",
    "            # Train\n",
    "            args = get_full_dataset(i, t_train_counties, unflooded_county_idxs, model=model)\n",
    "\n",
    "            opt_result = scipy.optimize.minimize(fit_traditional_models, x0=[1.0], args=args, bounds=[[0,3]])\n",
    "            alpha = opt_result.x[0]\n",
    "            beta = args[\"beta\"] \n",
    "\n",
    "            # Test\n",
    "            args = get_full_dataset(i, t_test_counties, unflooded_county_idxs, model=model)\n",
    "            scores = evaluate_traditional_models(alpha, beta, args)\n",
    "\n",
    "            #print(\"\\t%s,%0.4f,%0.3f,%0.3f,%0.3f,%0.3f,%0.3f,%0.3f\" % (model, alpha, scores[0], scores[1], scores[2], scores[3], scores[4], scores[5]))\n",
    "            year_results.append((alpha, beta, scores[0], scores[1], scores[2], scores[3], scores[4], scores[5]))\n",
    "            \n",
    "\n",
    "        year_results = np.array(year_results)\n",
    "        print(\"\\t\",year_results.mean(axis=0))\n",
    "        results.append(year_results.mean(axis=0))\n",
    "    unflooded_to_unflooded_cv[model] = results"
   ]
  },
  {
   "cell_type": "code",
   "execution_count": null,
   "metadata": {},
   "outputs": [],
   "source": [
    "print(\"Migration Model,Best Alpha,CPC,CPC_d,MAE,R2,MAE,R2\")\n",
    "for model, values in unflooded_to_unflooded_cv.items():\n",
    "    print(model, end=\",\")\n",
    "    values = np.array(values)\n",
    "    means = values.mean(axis=0)\n",
    "    stds = values.std(axis=0)\n",
    "\n",
    "    for i in range(means.shape[0]):\n",
    "        print(\"%0.4f (%0.4f),\" % (means[i], stds[i]), end=\"\")\n",
    "    print(\"\")"
   ]
  },
  {
   "cell_type": "markdown",
   "metadata": {},
   "source": [
    "## ML Models"
   ]
  },
  {
   "cell_type": "code",
   "execution_count": 81,
   "metadata": {},
   "outputs": [],
   "source": [
    "def cpc_loss(y_true, y_pred):\n",
    "    return 1.0 - (2.0*K.sum(K.minimum(y_true,y_pred))) / (K.sum(y_true) + K.sum(y_pred))\n",
    "\n",
    "def baseline_model():\n",
    "    inputs = Input(shape=(4,))\n",
    "    x = inputs\n",
    "\n",
    "    x = Dense(128, activation=\"relu\")(x)\n",
    "    x = Dense(128, activation=\"relu\")(x)\n",
    "    \n",
    "    outputs = Dense(1, activation=\"relu\")(x)\n",
    "    \n",
    "    model = Model(inputs=[inputs], outputs=[outputs])\n",
    "    optimizer = Adam(lr=0.001)\n",
    "\n",
    "    model.compile(loss=cpc_loss, metrics=[\"mse\", cpcLoss], optimizer=optimizer)\n",
    "    return model"
   ]
  },
  {
   "cell_type": "code",
   "execution_count": 78,
   "metadata": {},
   "outputs": [],
   "source": [
    "def evaluate_ml_models(model, x_test, y_test, beta, args):\n",
    "    \n",
    "    origin_pop, destination_pop = args[\"origin_pop\"], args[\"destination_pop\"]\n",
    "    S, D, T = args[\"S\"], args[\"D\"], args[\"T\"]\n",
    "    \n",
    "    n, m = origin_pop.shape[0], destination_pop.shape[0]\n",
    "    \n",
    "    try:\n",
    "        P = model.predict(x_test, batch_size=2**14).reshape(n, m)\n",
    "    except:\n",
    "        P = model.predict(x_test).reshape(n, m)\n",
    "    P = MigrationModels.row_normalize(P)\n",
    "    P[P<0] = 0\n",
    "    T_pred  = MigrationModels.productionFunction(origin_pop, P, beta=beta)\n",
    "    T_pred[np.isnan(T_pred)] = 0\n",
    "    \n",
    "    return MigrationEvaluationMethods.evaluate_all(T, T_pred, D)"
   ]
  },
  {
   "cell_type": "markdown",
   "metadata": {},
   "source": [
    "### Flooded to Unflooded"
   ]
  },
  {
   "cell_type": "code",
   "execution_count": 79,
   "metadata": {},
   "outputs": [
    {
     "name": "stdout",
     "output_type": "stream",
     "text": [
      "Flooded to Unflooded\n",
      "dl,0.1679,0.410,0.334,6.137,0.332,6.137,0.332\n",
      "dl,0.0997,0.422,0.308,31.455,0.128,31.455,0.128\n",
      "dl,0.1691,0.291,0.355,0.646,-0.060,0.646,-0.060\n",
      "dl,0.1692,0.428,0.522,1.564,-1.164,1.564,-1.164\n",
      "dl,0.1696,0.337,0.761,2.226,-2.736,2.226,-2.736\n",
      "dl,0.2203,0.000,0.020,46.792,-0.320,46.792,-0.320\n",
      "dl,0.1758,0.350,0.527,11.039,-0.152,11.039,-0.152\n"
     ]
    }
   ],
   "source": [
    "print(\"Flooded to Unflooded\")\n",
    "flooded_to_unflooded_cv = []\n",
    "model = \"dl\"\n",
    "    \n",
    "for county in flooded_county_idxs:\n",
    "\n",
    "    t_train_counties = list(set(flooded_county_idxs) - set([county]))\n",
    "    t_test_counties = [county]\n",
    "\n",
    "    # Load train\n",
    "    args = get_full_dataset(1, t_train_counties, unflooded_county_idxs, model=model)\n",
    "    beta = args[\"beta\"]\n",
    "    x_train, y_train = get_pairs_from_full_dataset(args)\n",
    "    \n",
    "    y_train_binary = y_train.copy().astype(int)\n",
    "    mask = y_train>0\n",
    "\n",
    "    positive_indices = np.where(mask)[0]\n",
    "    negative_indices = np.where(~mask)[0]\n",
    "    \n",
    "    num_positive = positive_indices.shape[0]\n",
    "    num_negative = negative_indices.shape[0]\n",
    "    new_num_negative = max(negative_indices.shape[0], 40*num_positive)\n",
    "    \n",
    "    negative_indices = np.random.choice(negative_indices, size=new_num_negative, replace=True)\n",
    "    \n",
    "    new_indices = np.concatenate([\n",
    "        positive_indices,\n",
    "        negative_indices\n",
    "    ])\n",
    "    \n",
    "    x_train = x_train[new_indices]\n",
    "    y_train = y_train[new_indices]\n",
    "    \n",
    "    scaler = StandardScaler()\n",
    "    x_train = scaler.fit_transform(x_train)\n",
    "    \n",
    "    \n",
    "    K.clear_session()\n",
    "    early_stopping = EarlyStopping(monitor=\"cpcLoss\", patience=100, restore_best_weights=True)\n",
    "    t_model = keras.wrappers.scikit_learn.KerasRegressor(\n",
    "        build_fn=baseline_model,\n",
    "        epochs=500,\n",
    "        batch_size=2**12,\n",
    "        callbacks=[early_stopping],\n",
    "        verbose=0\n",
    "    )\n",
    "    history = t_model.fit(x_train, y_train)\n",
    "    \n",
    "    \n",
    "    # Test\n",
    "    args = get_full_dataset(1, t_test_counties, unflooded_county_idxs, model=model)\n",
    "    x_test, y_test = get_pairs_from_full_dataset(args)\n",
    "    x_test = scaler.transform(x_test)\n",
    "        \n",
    "    scores = evaluate_ml_models(t_model, x_test, y_test, beta, args)\n",
    "\n",
    "    print(\"%s,%0.4f,%0.3f,%0.3f,%0.3f,%0.3f,%0.3f,%0.3f\" % (model, beta, scores[0], scores[1], scores[2], scores[3], scores[4], scores[5]))\n",
    "    flooded_to_unflooded_cv.append((beta, scores[0], scores[1], scores[2], scores[3], scores[4], scores[5]))"
   ]
  },
  {
   "cell_type": "code",
   "execution_count": 80,
   "metadata": {},
   "outputs": [
    {
     "name": "stdout",
     "output_type": "stream",
     "text": [
      "Migration Model,Best Alpha,CPC,CPC_d,MAE,R2,MAE,R2\n",
      "dl,0.1674 (0.0326),0.3199 (0.1386),0.4038 (0.2141),14.2655 (16.5689),-0.5673 (0.9886),14.2655 (16.5689),-0.5673 (0.9886),\n"
     ]
    }
   ],
   "source": [
    "print(\"Migration Model,Best Alpha,CPC,CPC_d,MAE,R2,MAE,R2\")\n",
    "print(model, end=\",\")\n",
    "values = np.array(flooded_to_unflooded_cv)\n",
    "means = values.mean(axis=0)\n",
    "stds = values.std(axis=0)\n",
    "\n",
    "for i in range(means.shape[0]):\n",
    "    print(\"%0.4f (%0.4f),\" % (means[i], stds[i]), end=\"\")\n",
    "print(\"\")"
   ]
  },
  {
   "cell_type": "markdown",
   "metadata": {},
   "source": [
    "### All to all"
   ]
  },
  {
   "cell_type": "code",
   "execution_count": 83,
   "metadata": {},
   "outputs": [
    {
     "ename": "KeyboardInterrupt",
     "evalue": "",
     "output_type": "error",
     "traceback": [
      "\u001b[0;31m---------------------------------------------------------------------------\u001b[0m",
      "\u001b[0;31mKeyboardInterrupt\u001b[0m                         Traceback (most recent call last)",
      "\u001b[0;32m<ipython-input-83-1c7865547774>\u001b[0m in \u001b[0;36m<module>\u001b[0;34m()\u001b[0m\n\u001b[1;32m     48\u001b[0m             \u001b[0mverbose\u001b[0m\u001b[0;34m=\u001b[0m\u001b[0;36m0\u001b[0m\u001b[0;34m\u001b[0m\u001b[0m\n\u001b[1;32m     49\u001b[0m         )\n\u001b[0;32m---> 50\u001b[0;31m         \u001b[0mhistory\u001b[0m \u001b[0;34m=\u001b[0m \u001b[0mt_model\u001b[0m\u001b[0;34m.\u001b[0m\u001b[0mfit\u001b[0m\u001b[0;34m(\u001b[0m\u001b[0mx_train\u001b[0m\u001b[0;34m,\u001b[0m \u001b[0my_train\u001b[0m\u001b[0;34m)\u001b[0m\u001b[0;34m\u001b[0m\u001b[0m\n\u001b[0m\u001b[1;32m     51\u001b[0m \u001b[0;34m\u001b[0m\u001b[0m\n\u001b[1;32m     52\u001b[0m \u001b[0;34m\u001b[0m\u001b[0m\n",
      "\u001b[0;32m~/.local/lib/python3.5/site-packages/keras/wrappers/scikit_learn.py\u001b[0m in \u001b[0;36mfit\u001b[0;34m(self, x, y, **kwargs)\u001b[0m\n\u001b[1;32m    150\u001b[0m         \u001b[0mfit_args\u001b[0m\u001b[0;34m.\u001b[0m\u001b[0mupdate\u001b[0m\u001b[0;34m(\u001b[0m\u001b[0mkwargs\u001b[0m\u001b[0;34m)\u001b[0m\u001b[0;34m\u001b[0m\u001b[0m\n\u001b[1;32m    151\u001b[0m \u001b[0;34m\u001b[0m\u001b[0m\n\u001b[0;32m--> 152\u001b[0;31m         \u001b[0mhistory\u001b[0m \u001b[0;34m=\u001b[0m \u001b[0mself\u001b[0m\u001b[0;34m.\u001b[0m\u001b[0mmodel\u001b[0m\u001b[0;34m.\u001b[0m\u001b[0mfit\u001b[0m\u001b[0;34m(\u001b[0m\u001b[0mx\u001b[0m\u001b[0;34m,\u001b[0m \u001b[0my\u001b[0m\u001b[0;34m,\u001b[0m \u001b[0;34m**\u001b[0m\u001b[0mfit_args\u001b[0m\u001b[0;34m)\u001b[0m\u001b[0;34m\u001b[0m\u001b[0m\n\u001b[0m\u001b[1;32m    153\u001b[0m \u001b[0;34m\u001b[0m\u001b[0m\n\u001b[1;32m    154\u001b[0m         \u001b[0;32mreturn\u001b[0m \u001b[0mhistory\u001b[0m\u001b[0;34m\u001b[0m\u001b[0m\n",
      "\u001b[0;32m~/.local/lib/python3.5/site-packages/keras/engine/training.py\u001b[0m in \u001b[0;36mfit\u001b[0;34m(self, x, y, batch_size, epochs, verbose, callbacks, validation_split, validation_data, shuffle, class_weight, sample_weight, initial_epoch, steps_per_epoch, validation_steps, **kwargs)\u001b[0m\n\u001b[1;32m   1037\u001b[0m                                         \u001b[0minitial_epoch\u001b[0m\u001b[0;34m=\u001b[0m\u001b[0minitial_epoch\u001b[0m\u001b[0;34m,\u001b[0m\u001b[0;34m\u001b[0m\u001b[0m\n\u001b[1;32m   1038\u001b[0m                                         \u001b[0msteps_per_epoch\u001b[0m\u001b[0;34m=\u001b[0m\u001b[0msteps_per_epoch\u001b[0m\u001b[0;34m,\u001b[0m\u001b[0;34m\u001b[0m\u001b[0m\n\u001b[0;32m-> 1039\u001b[0;31m                                         validation_steps=validation_steps)\n\u001b[0m\u001b[1;32m   1040\u001b[0m \u001b[0;34m\u001b[0m\u001b[0m\n\u001b[1;32m   1041\u001b[0m     def evaluate(self, x=None, y=None,\n",
      "\u001b[0;32m~/.local/lib/python3.5/site-packages/keras/engine/training_arrays.py\u001b[0m in \u001b[0;36mfit_loop\u001b[0;34m(model, f, ins, out_labels, batch_size, epochs, verbose, callbacks, val_f, val_ins, shuffle, callback_metrics, initial_epoch, steps_per_epoch, validation_steps)\u001b[0m\n\u001b[1;32m    185\u001b[0m                             ins[:-1], batch_ids) + [ins[-1]]\n\u001b[1;32m    186\u001b[0m                     \u001b[0;32melse\u001b[0m\u001b[0;34m:\u001b[0m\u001b[0;34m\u001b[0m\u001b[0m\n\u001b[0;32m--> 187\u001b[0;31m                         \u001b[0mins_batch\u001b[0m \u001b[0;34m=\u001b[0m \u001b[0mslice_arrays\u001b[0m\u001b[0;34m(\u001b[0m\u001b[0mins\u001b[0m\u001b[0;34m,\u001b[0m \u001b[0mbatch_ids\u001b[0m\u001b[0;34m)\u001b[0m\u001b[0;34m\u001b[0m\u001b[0m\n\u001b[0m\u001b[1;32m    188\u001b[0m                 \u001b[0;32mexcept\u001b[0m \u001b[0mTypeError\u001b[0m\u001b[0;34m:\u001b[0m\u001b[0;34m\u001b[0m\u001b[0m\n\u001b[1;32m    189\u001b[0m                     raise TypeError('TypeError while preparing batch. '\n",
      "\u001b[0;32m~/.local/lib/python3.5/site-packages/keras/utils/generic_utils.py\u001b[0m in \u001b[0;36mslice_arrays\u001b[0;34m(arrays, start, stop)\u001b[0m\n\u001b[1;32m    524\u001b[0m             \u001b[0;32mif\u001b[0m \u001b[0mhasattr\u001b[0m\u001b[0;34m(\u001b[0m\u001b[0mstart\u001b[0m\u001b[0;34m,\u001b[0m \u001b[0;34m'shape'\u001b[0m\u001b[0;34m)\u001b[0m\u001b[0;34m:\u001b[0m\u001b[0;34m\u001b[0m\u001b[0m\n\u001b[1;32m    525\u001b[0m                 \u001b[0mstart\u001b[0m \u001b[0;34m=\u001b[0m \u001b[0mstart\u001b[0m\u001b[0;34m.\u001b[0m\u001b[0mtolist\u001b[0m\u001b[0;34m(\u001b[0m\u001b[0;34m)\u001b[0m\u001b[0;34m\u001b[0m\u001b[0m\n\u001b[0;32m--> 526\u001b[0;31m             \u001b[0;32mreturn\u001b[0m \u001b[0;34m[\u001b[0m\u001b[0;32mNone\u001b[0m \u001b[0;32mif\u001b[0m \u001b[0mx\u001b[0m \u001b[0;32mis\u001b[0m \u001b[0;32mNone\u001b[0m \u001b[0;32melse\u001b[0m \u001b[0mx\u001b[0m\u001b[0;34m[\u001b[0m\u001b[0mstart\u001b[0m\u001b[0;34m]\u001b[0m \u001b[0;32mfor\u001b[0m \u001b[0mx\u001b[0m \u001b[0;32min\u001b[0m \u001b[0marrays\u001b[0m\u001b[0;34m]\u001b[0m\u001b[0;34m\u001b[0m\u001b[0m\n\u001b[0m\u001b[1;32m    527\u001b[0m         \u001b[0;32melse\u001b[0m\u001b[0;34m:\u001b[0m\u001b[0;34m\u001b[0m\u001b[0m\n\u001b[1;32m    528\u001b[0m             \u001b[0;32mreturn\u001b[0m \u001b[0;34m[\u001b[0m\u001b[0;32mNone\u001b[0m \u001b[0;32mif\u001b[0m \u001b[0mx\u001b[0m \u001b[0;32mis\u001b[0m \u001b[0;32mNone\u001b[0m \u001b[0;32melse\u001b[0m \u001b[0mx\u001b[0m\u001b[0;34m[\u001b[0m\u001b[0mstart\u001b[0m\u001b[0;34m:\u001b[0m\u001b[0mstop\u001b[0m\u001b[0;34m]\u001b[0m \u001b[0;32mfor\u001b[0m \u001b[0mx\u001b[0m \u001b[0;32min\u001b[0m \u001b[0marrays\u001b[0m\u001b[0;34m]\u001b[0m\u001b[0;34m\u001b[0m\u001b[0m\n",
      "\u001b[0;32m~/.local/lib/python3.5/site-packages/keras/utils/generic_utils.py\u001b[0m in \u001b[0;36m<listcomp>\u001b[0;34m(.0)\u001b[0m\n\u001b[1;32m    524\u001b[0m             \u001b[0;32mif\u001b[0m \u001b[0mhasattr\u001b[0m\u001b[0;34m(\u001b[0m\u001b[0mstart\u001b[0m\u001b[0;34m,\u001b[0m \u001b[0;34m'shape'\u001b[0m\u001b[0;34m)\u001b[0m\u001b[0;34m:\u001b[0m\u001b[0;34m\u001b[0m\u001b[0m\n\u001b[1;32m    525\u001b[0m                 \u001b[0mstart\u001b[0m \u001b[0;34m=\u001b[0m \u001b[0mstart\u001b[0m\u001b[0;34m.\u001b[0m\u001b[0mtolist\u001b[0m\u001b[0;34m(\u001b[0m\u001b[0;34m)\u001b[0m\u001b[0;34m\u001b[0m\u001b[0m\n\u001b[0;32m--> 526\u001b[0;31m             \u001b[0;32mreturn\u001b[0m \u001b[0;34m[\u001b[0m\u001b[0;32mNone\u001b[0m \u001b[0;32mif\u001b[0m \u001b[0mx\u001b[0m \u001b[0;32mis\u001b[0m \u001b[0;32mNone\u001b[0m \u001b[0;32melse\u001b[0m \u001b[0mx\u001b[0m\u001b[0;34m[\u001b[0m\u001b[0mstart\u001b[0m\u001b[0;34m]\u001b[0m \u001b[0;32mfor\u001b[0m \u001b[0mx\u001b[0m \u001b[0;32min\u001b[0m \u001b[0marrays\u001b[0m\u001b[0;34m]\u001b[0m\u001b[0;34m\u001b[0m\u001b[0m\n\u001b[0m\u001b[1;32m    527\u001b[0m         \u001b[0;32melse\u001b[0m\u001b[0;34m:\u001b[0m\u001b[0;34m\u001b[0m\u001b[0m\n\u001b[1;32m    528\u001b[0m             \u001b[0;32mreturn\u001b[0m \u001b[0;34m[\u001b[0m\u001b[0;32mNone\u001b[0m \u001b[0;32mif\u001b[0m \u001b[0mx\u001b[0m \u001b[0;32mis\u001b[0m \u001b[0;32mNone\u001b[0m \u001b[0;32melse\u001b[0m \u001b[0mx\u001b[0m\u001b[0;34m[\u001b[0m\u001b[0mstart\u001b[0m\u001b[0;34m:\u001b[0m\u001b[0mstop\u001b[0m\u001b[0;34m]\u001b[0m \u001b[0;32mfor\u001b[0m \u001b[0mx\u001b[0m \u001b[0;32min\u001b[0m \u001b[0marrays\u001b[0m\u001b[0;34m]\u001b[0m\u001b[0;34m\u001b[0m\u001b[0m\n",
      "\u001b[0;31mKeyboardInterrupt\u001b[0m: "
     ]
    }
   ],
   "source": [
    "all_to_all_cv = []\n",
    "\n",
    "kf = KFold(n_splits=5)\n",
    "for train_index, test_index in kf.split(all_county_idxs):\n",
    "\n",
    "    t_train_counties = all_county_idxs[train_index]\n",
    "    t_test_counties = all_county_idxs[test_index]\n",
    "\n",
    "    year_results = []\n",
    "    for i, year in enumerate(years):\n",
    "\n",
    "        # Load train\n",
    "        args = get_full_dataset(i, t_train_counties, all_county_idxs, model=model)\n",
    "        beta = args[\"beta\"]\n",
    "        x_train, y_train = get_pairs_from_full_dataset(args)\n",
    "\n",
    "        y_train_binary = y_train.copy().astype(int)\n",
    "        mask = y_train>0\n",
    "\n",
    "        positive_indices = np.where(mask)[0]\n",
    "        negative_indices = np.where(~mask)[0]\n",
    "\n",
    "        num_positive = positive_indices.shape[0]\n",
    "        num_negative = negative_indices.shape[0]\n",
    "        new_num_negative = max(negative_indices.shape[0], 40*num_positive)\n",
    "\n",
    "        negative_indices = np.random.choice(negative_indices, size=new_num_negative, replace=True)\n",
    "\n",
    "        new_indices = np.concatenate([\n",
    "            positive_indices,\n",
    "            negative_indices\n",
    "        ])\n",
    "\n",
    "        x_train = x_train[new_indices]\n",
    "        y_train = y_train[new_indices]\n",
    "\n",
    "        scaler = StandardScaler()\n",
    "        x_train = scaler.fit_transform(x_train)\n",
    "\n",
    "\n",
    "        K.clear_session()\n",
    "        early_stopping = EarlyStopping(monitor=\"cpcLoss\", patience=100, restore_best_weights=True)\n",
    "        t_model = keras.wrappers.scikit_learn.KerasRegressor(\n",
    "            build_fn=baseline_model,\n",
    "            epochs=500,\n",
    "            batch_size=2**12,\n",
    "            callbacks=[early_stopping],\n",
    "            verbose=0\n",
    "        )\n",
    "        history = t_model.fit(x_train, y_train)\n",
    "\n",
    "\n",
    "        # Test\n",
    "        args = get_full_dataset(i, t_test_counties, all_county_idxs, model=model)\n",
    "        x_test, y_test = get_pairs_from_full_dataset(args)\n",
    "        x_test = scaler.transform(x_test)\n",
    "\n",
    "        scores = evaluate_ml_models(t_model, x_test, y_test, beta, args)\n",
    "        \n",
    "        \n",
    "        print(\"\\t%s,%0.4f,%0.3f,%0.3f,%0.3f,%0.3f,%0.3f,%0.3f\" % (model, beta, scores[0], scores[1], scores[2], scores[3], scores[4], scores[5]))\n",
    "        year_results.append((alpha, beta, scores[0], scores[1], scores[2], scores[3], scores[4], scores[5]))\n",
    "\n",
    "\n",
    "    year_results = np.array(year_results)\n",
    "    print(\"\\t\",year_results.mean(axis=0))\n",
    "    all_to_all_cv.append(year_results.mean(axis=0))"
   ]
  },
  {
   "cell_type": "code",
   "execution_count": null,
   "metadata": {},
   "outputs": [],
   "source": [
    "print(\"Migration Model,Best Alpha,CPC,CPC_d,MAE,R2,MAE,R2\")\n",
    "print(model, end=\",\")\n",
    "values = np.array(all_to_all_cv)\n",
    "means = values.mean(axis=0)\n",
    "stds = values.std(axis=0)\n",
    "\n",
    "for i in range(means.shape[0]):\n",
    "    print(\"%0.4f (%0.4f),\" % (means[i], stds[i]), end=\"\")\n",
    "print(\"\")"
   ]
  },
  {
   "cell_type": "markdown",
   "metadata": {},
   "source": [
    "### Unflooded to unflooded"
   ]
  },
  {
   "cell_type": "code",
   "execution_count": null,
   "metadata": {},
   "outputs": [],
   "source": [
    "%%time\n",
    "unflooded_to_unflooded_cv = []\n",
    "\n",
    "kf = KFold(n_splits=5)\n",
    "for train_index, test_index in kf.split(unflooded_county_idxs):\n",
    "\n",
    "    t_train_counties = unflooded_county_idxs[train_index]\n",
    "    t_test_counties = unflooded_county_idxs[test_index]\n",
    "\n",
    "    year_results = []\n",
    "    for i, year in enumerate(years):\n",
    "        # Load train\n",
    "        args = get_full_dataset(i, t_train_counties, unflooded_county_idxs, model=model)\n",
    "        beta = args[\"beta\"]\n",
    "        x_train, y_train = get_pairs_from_full_dataset(args)\n",
    "\n",
    "        y_train_binary = y_train.copy().astype(int)\n",
    "        mask = y_train>0\n",
    "\n",
    "        positive_indices = np.where(mask)[0]\n",
    "        negative_indices = np.where(~mask)[0]\n",
    "\n",
    "        num_positive = positive_indices.shape[0]\n",
    "        num_negative = negative_indices.shape[0]\n",
    "        new_num_negative = max(negative_indices.shape[0], 40*num_positive)\n",
    "\n",
    "        negative_indices = np.random.choice(negative_indices, size=new_num_negative, replace=True)\n",
    "\n",
    "        new_indices = np.concatenate([\n",
    "            positive_indices,\n",
    "            negative_indices\n",
    "        ])\n",
    "\n",
    "        x_train = x_train[new_indices]\n",
    "        y_train = y_train[new_indices]\n",
    "\n",
    "        scaler = StandardScaler()\n",
    "        x_train = scaler.fit_transform(x_train)\n",
    "\n",
    "\n",
    "        K.clear_session()\n",
    "        early_stopping = EarlyStopping(monitor=\"cpcLoss\", patience=100, restore_best_weights=True)\n",
    "        t_model = keras.wrappers.scikit_learn.KerasRegressor(\n",
    "            build_fn=baseline_model,\n",
    "            epochs=500,\n",
    "            batch_size=2**12,\n",
    "            callbacks=[early_stopping],\n",
    "            verbose=0\n",
    "        )\n",
    "        history = t_model.fit(x_train, y_train)\n",
    "\n",
    "\n",
    "        # Test\n",
    "        args = get_full_dataset(i, t_test_counties, unflooded_county_idxs, model=model)\n",
    "        x_test, y_test = get_pairs_from_full_dataset(args)\n",
    "        x_test = scaler.transform(x_test)\n",
    "\n",
    "        scores = evaluate_ml_models(t_model, x_test, y_test, beta, args)\n",
    "\n",
    "        print(\"\\t%s,%0.4f,%0.3f,%0.3f,%0.3f,%0.3f,%0.3f,%0.3f\" % (model, beta, scores[0], scores[1], scores[2], scores[3], scores[4], scores[5]))\n",
    "        year_results.append((alpha, beta, scores[0], scores[1], scores[2], scores[3], scores[4], scores[5]))\n",
    "\n",
    "\n",
    "    year_results = np.array(year_results)\n",
    "    print(\"\\t\",year_results.mean(axis=0))\n",
    "    unflooded_to_unflooded_cv.append(year_results.mean(axis=0))"
   ]
  },
  {
   "cell_type": "code",
   "execution_count": null,
   "metadata": {},
   "outputs": [],
   "source": [
    "print(\"Migration Model,Best Alpha,CPC,CPC_d,MAE,R2,MAE,R2\")\n",
    "print(model, end=\",\")\n",
    "values = np.array(unflooded_to_unflooded_cv)\n",
    "means = values.mean(axis=0)\n",
    "stds = values.std(axis=0)\n",
    "\n",
    "for i in range(means.shape[0]):\n",
    "    print(\"%0.4f (%0.4f),\" % (means[i], stds[i]), end=\"\")\n",
    "print(\"\")"
   ]
  }
 ],
 "metadata": {
  "kernelspec": {
   "display_name": "Python 2",
   "language": "python",
   "name": "python2"
  },
  "language_info": {
   "codemirror_mode": {
    "name": "ipython",
    "version": 3
   },
   "file_extension": ".py",
   "mimetype": "text/x-python",
   "name": "python",
   "nbconvert_exporter": "python",
   "pygments_lexer": "ipython3",
   "version": "3.5.2"
  }
 },
 "nbformat": 4,
 "nbformat_minor": 1
}
